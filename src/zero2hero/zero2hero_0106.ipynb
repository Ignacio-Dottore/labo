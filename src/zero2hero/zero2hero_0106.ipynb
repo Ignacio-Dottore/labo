{
 "cells": [
  {
   "cell_type": "markdown",
   "metadata": {},
   "source": [
    "# Zero to Hero"
   ]
  },
  {
   "cell_type": "markdown",
   "metadata": {},
   "source": [
    "## 1.06 Hackeando Kaggle"
   ]
  },
  {
   "cell_type": "markdown",
   "metadata": {},
   "source": [
    "Voy a **hackear** Kaggle  para descubrir cuantos  \"BAJA+2\"  hay en el mes 202101, que es donde  *no* tengo la clase"
   ]
  },
  {
   "cell_type": "markdown",
   "metadata": {},
   "source": [
    "La idea es subir a Kaggle una prediccion que tenga TODOS 1,  que se le envíe estímulo a todos\n",
    "<br>\n",
    "Es obvio que esa prediccion va a dar una pésima ganancia\n",
    "<br>\n",
    "Pero me va a permitir tener un sistema de dos ecuaciones con dos incognitas, y despejando tendre la cantidad de BAJA+2 que hay en los datos del futuro"
   ]
  },
  {
   "cell_type": "code",
   "execution_count": 3,
   "metadata": {
    "tags": []
   },
   "outputs": [
    {
     "data": {
      "text/html": [
       "<table class=\"dataframe\">\n",
       "<caption>A matrix: 2 × 6 of type dbl</caption>\n",
       "<thead>\n",
       "\t<tr><th></th><th scope=col>used</th><th scope=col>(Mb)</th><th scope=col>gc trigger</th><th scope=col>(Mb)</th><th scope=col>max used</th><th scope=col>(Mb)</th></tr>\n",
       "</thead>\n",
       "<tbody>\n",
       "\t<tr><th scope=row>Ncells</th><td> 647835</td><td>34.6</td><td>1318414</td><td>70.5</td><td>1318414</td><td>70.5</td></tr>\n",
       "\t<tr><th scope=row>Vcells</th><td>1152697</td><td> 8.8</td><td>8388608</td><td>64.0</td><td>1707891</td><td>13.1</td></tr>\n",
       "</tbody>\n",
       "</table>\n"
      ],
      "text/latex": [
       "A matrix: 2 × 6 of type dbl\n",
       "\\begin{tabular}{r|llllll}\n",
       "  & used & (Mb) & gc trigger & (Mb) & max used & (Mb)\\\\\n",
       "\\hline\n",
       "\tNcells &  647835 & 34.6 & 1318414 & 70.5 & 1318414 & 70.5\\\\\n",
       "\tVcells & 1152697 &  8.8 & 8388608 & 64.0 & 1707891 & 13.1\\\\\n",
       "\\end{tabular}\n"
      ],
      "text/markdown": [
       "\n",
       "A matrix: 2 × 6 of type dbl\n",
       "\n",
       "| <!--/--> | used | (Mb) | gc trigger | (Mb) | max used | (Mb) |\n",
       "|---|---|---|---|---|---|---|\n",
       "| Ncells |  647835 | 34.6 | 1318414 | 70.5 | 1318414 | 70.5 |\n",
       "| Vcells | 1152697 |  8.8 | 8388608 | 64.0 | 1707891 | 13.1 |\n",
       "\n"
      ],
      "text/plain": [
       "       used    (Mb) gc trigger (Mb) max used (Mb)\n",
       "Ncells  647835 34.6 1318414    70.5 1318414  70.5\n",
       "Vcells 1152697  8.8 8388608    64.0 1707891  13.1"
      ]
     },
     "metadata": {},
     "output_type": "display_data"
    }
   ],
   "source": [
    "rm( list=ls())\n",
    "gc()\n",
    "\n",
    "library( \"data.table\")   #cargo la libreria  data.table\n",
    "library( \"rpart\")  #cargo la libreria  rpart\n",
    "library( \"rpart.plot\")\n",
    "\n",
    "options(repr.plot.width=20, repr.plot.height=10) \n",
    "setwd(\"C:/Users/idott/LI\")  #Aqui se debe poner la ruta de la PC local"
   ]
  },
  {
   "cell_type": "markdown",
   "metadata": {},
   "source": [
    "Leo el dataset"
   ]
  },
  {
   "cell_type": "code",
   "execution_count": 4,
   "metadata": {
    "tags": []
   },
   "outputs": [],
   "source": [
    "dataset <- fread(\"./datasets/dataset_pequeno.csv\")   #cargo el dataset"
   ]
  },
  {
   "cell_type": "markdown",
   "metadata": {},
   "source": [
    "Cuento la clase"
   ]
  },
  {
   "cell_type": "code",
   "execution_count": 5,
   "metadata": {
    "tags": []
   },
   "outputs": [
    {
     "data": {
      "text/html": [
       "<table class=\"dataframe\">\n",
       "<caption>A data.table: 4 × 3</caption>\n",
       "<thead>\n",
       "\t<tr><th scope=col>foto_mes</th><th scope=col>clase_ternaria</th><th scope=col>N</th></tr>\n",
       "\t<tr><th scope=col>&lt;int&gt;</th><th scope=col>&lt;chr&gt;</th><th scope=col>&lt;int&gt;</th></tr>\n",
       "</thead>\n",
       "<tbody>\n",
       "\t<tr><td>202107</td><td>CONTINUA</td><td>162336</td></tr>\n",
       "\t<tr><td>202107</td><td>BAJA+1  </td><td>  1078</td></tr>\n",
       "\t<tr><td>202107</td><td>BAJA+2  </td><td>  1268</td></tr>\n",
       "\t<tr><td>202109</td><td>        </td><td>165237</td></tr>\n",
       "</tbody>\n",
       "</table>\n"
      ],
      "text/latex": [
       "A data.table: 4 × 3\n",
       "\\begin{tabular}{lll}\n",
       " foto\\_mes & clase\\_ternaria & N\\\\\n",
       " <int> & <chr> & <int>\\\\\n",
       "\\hline\n",
       "\t 202107 & CONTINUA & 162336\\\\\n",
       "\t 202107 & BAJA+1   &   1078\\\\\n",
       "\t 202107 & BAJA+2   &   1268\\\\\n",
       "\t 202109 &          & 165237\\\\\n",
       "\\end{tabular}\n"
      ],
      "text/markdown": [
       "\n",
       "A data.table: 4 × 3\n",
       "\n",
       "| foto_mes &lt;int&gt; | clase_ternaria &lt;chr&gt; | N &lt;int&gt; |\n",
       "|---|---|---|\n",
       "| 202107 | CONTINUA | 162336 |\n",
       "| 202107 | BAJA+1   |   1078 |\n",
       "| 202107 | BAJA+2   |   1268 |\n",
       "| 202109 | <!----> | 165237 |\n",
       "\n"
      ],
      "text/plain": [
       "  foto_mes clase_ternaria N     \n",
       "1 202107   CONTINUA       162336\n",
       "2 202107   BAJA+1           1078\n",
       "3 202107   BAJA+2           1268\n",
       "4 202109                  165237"
      ]
     },
     "metadata": {},
     "output_type": "display_data"
    }
   ],
   "source": [
    "dataset[  , .N, list( foto_mes, clase_ternaria) ]"
   ]
  },
  {
   "cell_type": "markdown",
   "metadata": {},
   "source": [
    "Defino  el data.table  dfuturo que va a tener solo los datos de  202109"
   ]
  },
  {
   "cell_type": "code",
   "execution_count": 6,
   "metadata": {
    "tags": []
   },
   "outputs": [],
   "source": [
    "dfuturo <-  dataset[ foto_mes==202109 ]"
   ]
  },
  {
   "cell_type": "code",
   "execution_count": 7,
   "metadata": {
    "tags": []
   },
   "outputs": [
    {
     "data": {
      "text/html": [
       "<table class=\"dataframe\">\n",
       "<caption>A data.table: 165237 × 155</caption>\n",
       "<thead>\n",
       "\t<tr><th scope=col>numero_de_cliente</th><th scope=col>foto_mes</th><th scope=col>active_quarter</th><th scope=col>cliente_vip</th><th scope=col>internet</th><th scope=col>cliente_edad</th><th scope=col>cliente_antiguedad</th><th scope=col>mrentabilidad</th><th scope=col>mrentabilidad_annual</th><th scope=col>mcomisiones</th><th scope=col>⋯</th><th scope=col>Visa_fultimo_cierre</th><th scope=col>Visa_mpagado</th><th scope=col>Visa_mpagospesos</th><th scope=col>Visa_mpagosdolares</th><th scope=col>Visa_fechaalta</th><th scope=col>Visa_mconsumototal</th><th scope=col>Visa_cconsumos</th><th scope=col>Visa_cadelantosefectivo</th><th scope=col>Visa_mpagominimo</th><th scope=col>clase_ternaria</th></tr>\n",
       "\t<tr><th scope=col>&lt;int&gt;</th><th scope=col>&lt;int&gt;</th><th scope=col>&lt;int&gt;</th><th scope=col>&lt;int&gt;</th><th scope=col>&lt;int&gt;</th><th scope=col>&lt;int&gt;</th><th scope=col>&lt;int&gt;</th><th scope=col>&lt;dbl&gt;</th><th scope=col>&lt;dbl&gt;</th><th scope=col>&lt;dbl&gt;</th><th scope=col>⋯</th><th scope=col>&lt;int&gt;</th><th scope=col>&lt;dbl&gt;</th><th scope=col>&lt;dbl&gt;</th><th scope=col>&lt;dbl&gt;</th><th scope=col>&lt;int&gt;</th><th scope=col>&lt;dbl&gt;</th><th scope=col>&lt;int&gt;</th><th scope=col>&lt;int&gt;</th><th scope=col>&lt;dbl&gt;</th><th scope=col>&lt;chr&gt;</th></tr>\n",
       "</thead>\n",
       "<tbody>\n",
       "\t<tr><td>31116053</td><td>202109</td><td>1</td><td>0</td><td>0</td><td>50</td><td>203</td><td>41525.30</td><td>188951.41</td><td> 3514.62</td><td>⋯</td><td> 8</td><td>     0.00</td><td> -76245.00</td><td> 0.00</td><td>6121</td><td>240395.52</td><td>95</td><td> 0</td><td>    0.00</td><td></td></tr>\n",
       "\t<tr><td>31116803</td><td>202109</td><td>1</td><td>0</td><td>0</td><td>59</td><td>328</td><td> 5961.42</td><td> 57782.14</td><td> 7482.82</td><td>⋯</td><td> 1</td><td>     0.00</td><td> -52153.67</td><td>17.59</td><td>4272</td><td> 79827.95</td><td>11</td><td> 0</td><td>39119.55</td><td></td></tr>\n",
       "\t<tr><td>31117730</td><td>202109</td><td>1</td><td>0</td><td>0</td><td>68</td><td>274</td><td> 1532.46</td><td> 18774.56</td><td>  591.47</td><td>⋯</td><td>22</td><td>  5278.50</td><td>  -4222.80</td><td> 0.00</td><td>8012</td><td>  2258.29</td><td> 2</td><td> 0</td><td> 1595.28</td><td></td></tr>\n",
       "\t<tr><td>31117908</td><td>202109</td><td>1</td><td>0</td><td>0</td><td>80</td><td>328</td><td>11616.59</td><td> 68163.98</td><td> 9334.79</td><td>⋯</td><td> 1</td><td>     0.00</td><td> -19973.38</td><td> 0.00</td><td>7763</td><td> 43880.08</td><td>12</td><td> 0</td><td> 2240.43</td><td></td></tr>\n",
       "\t<tr><td>31117977</td><td>202109</td><td>1</td><td>0</td><td>0</td><td>60</td><td>263</td><td> 2534.68</td><td> 41647.70</td><td> 1202.43</td><td>⋯</td><td>22</td><td>169048.71</td><td>-131667.60</td><td> 0.00</td><td>8010</td><td>152292.04</td><td>36</td><td> 0</td><td> 8093.70</td><td></td></tr>\n",
       "\t<tr><td>31120119</td><td>202109</td><td>1</td><td>0</td><td>0</td><td>71</td><td>381</td><td>12307.04</td><td> 64530.24</td><td>12519.64</td><td>⋯</td><td> 8</td><td>     0.00</td><td> -14304.10</td><td> 0.00</td><td>8569</td><td> 10910.35</td><td> 2</td><td> 0</td><td> 1395.87</td><td></td></tr>\n",
       "\t<tr><td>31121017</td><td>202109</td><td>1</td><td>0</td><td>0</td><td>68</td><td>328</td><td> 2560.48</td><td> 20620.47</td><td> 1973.17</td><td>⋯</td><td> 1</td><td>     0.00</td><td>  -4119.45</td><td> 0.00</td><td>8800</td><td>  4551.24</td><td> 3</td><td> 0</td><td>  246.33</td><td></td></tr>\n",
       "\t<tr><td>31121264</td><td>202109</td><td>1</td><td>0</td><td>0</td><td>46</td><td>313</td><td>-1535.85</td><td> -3274.82</td><td> 1302.38</td><td>⋯</td><td> 8</td><td>     0.00</td><td>-119974.44</td><td> 0.00</td><td>8541</td><td> 99033.71</td><td>53</td><td> 0</td><td>13700.64</td><td></td></tr>\n",
       "\t<tr><td>31121718</td><td>202109</td><td>1</td><td>0</td><td>0</td><td>66</td><td>328</td><td>36725.22</td><td>464598.82</td><td> 2924.76</td><td>⋯</td><td> 8</td><td>  3526.91</td><td>  -3599.39</td><td> 0.00</td><td>8477</td><td>  3425.16</td><td> 1</td><td> 0</td><td>  234.60</td><td></td></tr>\n",
       "\t<tr><td>31122951</td><td>202109</td><td>1</td><td>0</td><td>0</td><td>59</td><td>272</td><td> 3380.83</td><td> 55633.31</td><td> 2625.15</td><td>⋯</td><td> 1</td><td>     0.00</td><td>-103116.89</td><td> 0.00</td><td>4690</td><td>145055.59</td><td>41</td><td> 0</td><td> 8750.58</td><td></td></tr>\n",
       "\t<tr><td>31123702</td><td>202109</td><td>1</td><td>0</td><td>0</td><td>61</td><td>328</td><td>-2050.31</td><td> 24890.28</td><td>  752.01</td><td>⋯</td><td>22</td><td> 49026.54</td><td> -38450.94</td><td> 0.00</td><td>8110</td><td> 10125.59</td><td>17</td><td> 0</td><td>10169.91</td><td></td></tr>\n",
       "\t<tr><td>31123830</td><td>202109</td><td>1</td><td>0</td><td>0</td><td>50</td><td> 95</td><td> 9286.95</td><td> 94196.08</td><td> 3426.54</td><td>⋯</td><td> 1</td><td>     0.00</td><td>-135708.25</td><td> 0.00</td><td>2866</td><td>117734.01</td><td>13</td><td> 0</td><td> 6134.79</td><td></td></tr>\n",
       "\t<tr><td>31124501</td><td>202109</td><td>1</td><td>0</td><td>0</td><td>50</td><td>151</td><td> -896.37</td><td>-10641.45</td><td>  843.15</td><td>⋯</td><td> 1</td><td>     0.00</td><td> -55712.49</td><td> 1.00</td><td>2531</td><td> 14861.87</td><td> 3</td><td> 0</td><td> 2439.84</td><td></td></tr>\n",
       "\t<tr><td>31124827</td><td>202109</td><td>1</td><td>0</td><td>0</td><td>69</td><td>291</td><td> 4041.92</td><td> 82622.53</td><td> 3488.07</td><td>⋯</td><td>NA</td><td>       NA</td><td>        NA</td><td>   NA</td><td>  NA</td><td>       NA</td><td>NA</td><td>NA</td><td>      NA</td><td></td></tr>\n",
       "\t<tr><td>31125498</td><td>202109</td><td>1</td><td>0</td><td>0</td><td>73</td><td>294</td><td>  177.76</td><td>-11260.87</td><td> 3005.31</td><td>⋯</td><td> 1</td><td>     0.00</td><td> -45422.67</td><td> 0.00</td><td>8950</td><td>  8761.30</td><td> 7</td><td> 0</td><td> 4879.68</td><td></td></tr>\n",
       "\t<tr><td>31125518</td><td>202109</td><td>1</td><td>0</td><td>0</td><td>66</td><td>277</td><td>18142.96</td><td>179111.49</td><td> 4390.57</td><td>⋯</td><td> 1</td><td>     0.00</td><td>-152496.41</td><td>18.75</td><td>7885</td><td>182785.05</td><td>23</td><td> 0</td><td>19389.69</td><td></td></tr>\n",
       "\t<tr><td>31126001</td><td>202109</td><td>1</td><td>0</td><td>0</td><td>48</td><td>180</td><td> 3765.95</td><td> 28961.83</td><td> 1972.76</td><td>⋯</td><td> 1</td><td>     0.00</td><td> -10592.00</td><td> 0.00</td><td>4992</td><td> 14199.04</td><td> 4</td><td> 0</td><td>  727.26</td><td></td></tr>\n",
       "\t<tr><td>31126199</td><td>202109</td><td>1</td><td>0</td><td>0</td><td>56</td><td> 33</td><td>25977.17</td><td>162207.70</td><td> 3453.46</td><td>⋯</td><td> 1</td><td>     0.00</td><td>  -2306.78</td><td> 0.00</td><td> 261</td><td>     0.00</td><td> 0</td><td> 0</td><td> 1126.08</td><td></td></tr>\n",
       "\t<tr><td>31126633</td><td>202109</td><td>1</td><td>0</td><td>0</td><td>82</td><td>282</td><td>  413.56</td><td> -1601.37</td><td> 1714.26</td><td>⋯</td><td> 1</td><td>     0.00</td><td> -73716.91</td><td> 0.00</td><td>8570</td><td> 54508.43</td><td>12</td><td> 0</td><td> 6299.01</td><td></td></tr>\n",
       "\t<tr><td>31127136</td><td>202109</td><td>1</td><td>0</td><td>0</td><td>53</td><td>269</td><td> 1238.40</td><td> 15566.50</td><td>  388.39</td><td>⋯</td><td> 8</td><td>     0.00</td><td>  -7190.90</td><td> 0.00</td><td>5519</td><td>  2664.55</td><td> 2</td><td> 0</td><td>  926.67</td><td></td></tr>\n",
       "\t<tr><td>31127195</td><td>202109</td><td>1</td><td>0</td><td>0</td><td>53</td><td> 34</td><td>18608.09</td><td>111713.56</td><td> 8537.84</td><td>⋯</td><td> 1</td><td>     0.00</td><td>-223045.12</td><td> 1.00</td><td> 959</td><td>243797.32</td><td>60</td><td> 0</td><td>22756.20</td><td></td></tr>\n",
       "\t<tr><td>31129377</td><td>202109</td><td>1</td><td>0</td><td>0</td><td>57</td><td>269</td><td>-4260.59</td><td>  -544.41</td><td> 1185.08</td><td>⋯</td><td> 1</td><td>     0.00</td><td> -41491.68</td><td> 0.00</td><td>5645</td><td>138256.77</td><td> 7</td><td> 0</td><td>16363.35</td><td></td></tr>\n",
       "\t<tr><td>31130581</td><td>202109</td><td>1</td><td>0</td><td>0</td><td>63</td><td>328</td><td>28149.09</td><td>244931.93</td><td> 4762.33</td><td>⋯</td><td> 8</td><td>108233.81</td><td> -91049.55</td><td> 0.00</td><td>9048</td><td> 98860.81</td><td>19</td><td> 0</td><td> 8293.11</td><td></td></tr>\n",
       "\t<tr><td>31131104</td><td>202109</td><td>1</td><td>0</td><td>0</td><td>66</td><td>381</td><td>  268.76</td><td>  3942.23</td><td> 2554.54</td><td>⋯</td><td>22</td><td> 60493.45</td><td> -50111.76</td><td> 0.00</td><td>8193</td><td> 39414.92</td><td>19</td><td> 0</td><td> 4985.25</td><td></td></tr>\n",
       "\t<tr><td>31132831</td><td>202109</td><td>1</td><td>0</td><td>0</td><td>54</td><td>288</td><td>  144.91</td><td>  3805.35</td><td>  180.65</td><td>⋯</td><td> 8</td><td>  3901.15</td><td>  -9048.00</td><td> 0.00</td><td>3658</td><td>  8902.24</td><td> 4</td><td> 0</td><td>    0.00</td><td></td></tr>\n",
       "\t<tr><td>31132989</td><td>202109</td><td>1</td><td>0</td><td>0</td><td>52</td><td>128</td><td> 5114.88</td><td> 33897.84</td><td> 2523.81</td><td>⋯</td><td> 8</td><td>     0.00</td><td> -47943.61</td><td>22.53</td><td>3882</td><td> 35156.40</td><td>18</td><td> 0</td><td> 4328.37</td><td></td></tr>\n",
       "\t<tr><td>31133028</td><td>202109</td><td>1</td><td>0</td><td>0</td><td>41</td><td>139</td><td>-1782.38</td><td>-27361.13</td><td> 1957.70</td><td>⋯</td><td> 8</td><td>     0.00</td><td> -34491.38</td><td>23.72</td><td>4181</td><td> 21925.90</td><td>14</td><td> 0</td><td> 6111.33</td><td></td></tr>\n",
       "\t<tr><td>31133769</td><td>202109</td><td>1</td><td>0</td><td>0</td><td>63</td><td>317</td><td> 2966.44</td><td> 56522.35</td><td>  330.56</td><td>⋯</td><td> 1</td><td>     0.00</td><td>        NA</td><td>   NA</td><td>7554</td><td>       NA</td><td>NA</td><td>NA</td><td>    0.00</td><td></td></tr>\n",
       "\t<tr><td>31133788</td><td>202109</td><td>1</td><td>0</td><td>0</td><td>73</td><td>328</td><td> 2824.49</td><td> 24294.36</td><td> 2509.99</td><td>⋯</td><td>22</td><td> 16422.00</td><td> -12433.80</td><td> 0.00</td><td>7689</td><td>  4501.48</td><td> 4</td><td> 0</td><td> 3565.92</td><td></td></tr>\n",
       "\t<tr><td>31133818</td><td>202109</td><td>1</td><td>0</td><td>0</td><td>60</td><td>  8</td><td> 4124.56</td><td> 10016.17</td><td> 5204.46</td><td>⋯</td><td> 1</td><td>     0.00</td><td> -27321.98</td><td> 1.00</td><td> 136</td><td> 49435.17</td><td> 7</td><td> 0</td><td>53195.55</td><td></td></tr>\n",
       "\t<tr><td>⋮</td><td>⋮</td><td>⋮</td><td>⋮</td><td>⋮</td><td>⋮</td><td>⋮</td><td>⋮</td><td>⋮</td><td>⋮</td><td>⋱</td><td>⋮</td><td>⋮</td><td>⋮</td><td>⋮</td><td>⋮</td><td>⋮</td><td>⋮</td><td>⋮</td><td>⋮</td><td>⋮</td></tr>\n",
       "\t<tr><td>214662165</td><td>202109</td><td>0</td><td>0</td><td>0</td><td>24</td><td>1</td><td>  51.51</td><td>  51.51</td><td>  0.00</td><td>⋯</td><td> 1</td><td>   0</td><td>      NA</td><td>NA</td><td> 9</td><td>      NA</td><td>NA</td><td>NA</td><td>   0.00</td><td></td></tr>\n",
       "\t<tr><td>214663043</td><td>202109</td><td>1</td><td>0</td><td>0</td><td>35</td><td>1</td><td>  30.75</td><td>  30.75</td><td>  0.00</td><td>⋯</td><td> 1</td><td>   0</td><td>      NA</td><td>NA</td><td>14</td><td>      NA</td><td>NA</td><td>NA</td><td>   0.00</td><td></td></tr>\n",
       "\t<tr><td>214663340</td><td>202109</td><td>1</td><td>0</td><td>0</td><td>24</td><td>1</td><td>   0.43</td><td>   0.43</td><td>  0.00</td><td>⋯</td><td> 1</td><td>   0</td><td>      NA</td><td>NA</td><td>11</td><td>      NA</td><td>NA</td><td>NA</td><td>   0.00</td><td></td></tr>\n",
       "\t<tr><td>214663428</td><td>202109</td><td>1</td><td>0</td><td>0</td><td>41</td><td>1</td><td>  70.79</td><td>  70.79</td><td>  0.00</td><td>⋯</td><td> 1</td><td>   0</td><td>      NA</td><td>NA</td><td>11</td><td>      NA</td><td>NA</td><td>NA</td><td>   0.00</td><td></td></tr>\n",
       "\t<tr><td>214665787</td><td>202109</td><td>0</td><td>0</td><td>0</td><td>27</td><td>1</td><td>   1.04</td><td>   1.04</td><td>  0.00</td><td>⋯</td><td> 1</td><td>   0</td><td>      NA</td><td>NA</td><td>10</td><td>      NA</td><td>NA</td><td>NA</td><td>   0.00</td><td></td></tr>\n",
       "\t<tr><td>214666202</td><td>202109</td><td>1</td><td>0</td><td>0</td><td>28</td><td>1</td><td>  22.82</td><td>  22.82</td><td>  0.00</td><td>⋯</td><td> 1</td><td>   0</td><td>      NA</td><td>NA</td><td>10</td><td>      NA</td><td>NA</td><td>NA</td><td>   0.00</td><td></td></tr>\n",
       "\t<tr><td>214677423</td><td>202109</td><td>0</td><td>0</td><td>0</td><td>29</td><td>1</td><td>   0.00</td><td>   0.00</td><td>  0.00</td><td>⋯</td><td> 1</td><td>   0</td><td>      NA</td><td>NA</td><td> 1</td><td>      NA</td><td>NA</td><td>NA</td><td>   0.00</td><td></td></tr>\n",
       "\t<tr><td>214687856</td><td>202109</td><td>1</td><td>0</td><td>0</td><td>25</td><td>1</td><td>  30.14</td><td>  30.14</td><td> 22.31</td><td>⋯</td><td> 1</td><td>   0</td><td>    0.00</td><td> 0</td><td>23</td><td>11748.32</td><td>16</td><td> 0</td><td> 961.86</td><td></td></tr>\n",
       "\t<tr><td>214694024</td><td>202109</td><td>1</td><td>0</td><td>0</td><td>29</td><td>1</td><td> 141.65</td><td> 141.65</td><td> 63.85</td><td>⋯</td><td> 8</td><td>   0</td><td>      NA</td><td>NA</td><td>16</td><td>      NA</td><td>NA</td><td>NA</td><td>   0.00</td><td></td></tr>\n",
       "\t<tr><td>214707703</td><td>202109</td><td>1</td><td>0</td><td>0</td><td>27</td><td>1</td><td>   0.04</td><td>   0.04</td><td>  0.00</td><td>⋯</td><td> 1</td><td>   0</td><td>      NA</td><td>NA</td><td> 4</td><td>      NA</td><td>NA</td><td>NA</td><td>   0.00</td><td></td></tr>\n",
       "\t<tr><td>214710546</td><td>202109</td><td>0</td><td>0</td><td>0</td><td>39</td><td>1</td><td>   0.00</td><td>   0.00</td><td>  0.00</td><td>⋯</td><td> 1</td><td>   0</td><td>      NA</td><td>NA</td><td> 4</td><td>      NA</td><td>NA</td><td>NA</td><td>   0.00</td><td></td></tr>\n",
       "\t<tr><td>214721787</td><td>202109</td><td>1</td><td>0</td><td>0</td><td>35</td><td>1</td><td> 453.92</td><td> 453.92</td><td>822.16</td><td>⋯</td><td> 1</td><td>   0</td><td>    0.00</td><td> 0</td><td>28</td><td> 3693.63</td><td> 2</td><td> 0</td><td> 879.75</td><td></td></tr>\n",
       "\t<tr><td>214724936</td><td>202109</td><td>1</td><td>0</td><td>0</td><td>35</td><td>1</td><td> -48.06</td><td> -48.06</td><td>  0.00</td><td>⋯</td><td> 1</td><td>2346</td><td>-8363.49</td><td> 0</td><td>18</td><td>    0.00</td><td> 0</td><td> 0</td><td>5853.27</td><td></td></tr>\n",
       "\t<tr><td>214729140</td><td>202109</td><td>1</td><td>0</td><td>0</td><td>34</td><td>1</td><td>1140.89</td><td>1140.89</td><td>  0.00</td><td>⋯</td><td> 8</td><td>   0</td><td>    0.00</td><td> 0</td><td>18</td><td>    0.00</td><td> 0</td><td> 0</td><td> 868.02</td><td></td></tr>\n",
       "\t<tr><td>214729673</td><td>202109</td><td>0</td><td>0</td><td>0</td><td>25</td><td>1</td><td>   0.00</td><td>   0.00</td><td>  0.00</td><td>⋯</td><td> 8</td><td>   0</td><td>      NA</td><td>NA</td><td>18</td><td>      NA</td><td>NA</td><td>NA</td><td>   0.00</td><td></td></tr>\n",
       "\t<tr><td>214738852</td><td>202109</td><td>0</td><td>0</td><td>0</td><td>40</td><td>1</td><td>   0.00</td><td>   0.00</td><td>  0.00</td><td>⋯</td><td> 1</td><td>   0</td><td>      NA</td><td>NA</td><td> 9</td><td>      NA</td><td>NA</td><td>NA</td><td>   0.00</td><td></td></tr>\n",
       "\t<tr><td>214740263</td><td>202109</td><td>0</td><td>0</td><td>0</td><td>29</td><td>1</td><td>   1.04</td><td>   1.04</td><td>  0.00</td><td>⋯</td><td> 1</td><td>   0</td><td>      NA</td><td>NA</td><td>10</td><td>      NA</td><td>NA</td><td>NA</td><td>   0.00</td><td></td></tr>\n",
       "\t<tr><td>214745168</td><td>202109</td><td>1</td><td>0</td><td>0</td><td>50</td><td>1</td><td> 501.12</td><td> 501.12</td><td>  0.00</td><td>⋯</td><td> 1</td><td>   0</td><td>      NA</td><td>NA</td><td> 7</td><td>      NA</td><td>NA</td><td>NA</td><td>   0.00</td><td></td></tr>\n",
       "\t<tr><td>214749857</td><td>202109</td><td>0</td><td>0</td><td>0</td><td>26</td><td>1</td><td>   0.00</td><td>   0.00</td><td>  0.00</td><td>⋯</td><td>NA</td><td>   0</td><td>      NA</td><td>NA</td><td> 2</td><td>      NA</td><td>NA</td><td>NA</td><td>   0.00</td><td></td></tr>\n",
       "\t<tr><td>214758966</td><td>202109</td><td>1</td><td>0</td><td>0</td><td>28</td><td>1</td><td>   0.50</td><td>   0.50</td><td>  0.00</td><td>⋯</td><td> 1</td><td>   0</td><td>      NA</td><td>NA</td><td> 9</td><td>      NA</td><td>NA</td><td>NA</td><td>   0.00</td><td></td></tr>\n",
       "\t<tr><td>214767247</td><td>202109</td><td>1</td><td>0</td><td>0</td><td>44</td><td>1</td><td>   0.12</td><td>   0.12</td><td>  0.00</td><td>⋯</td><td> 1</td><td>   0</td><td>      NA</td><td>NA</td><td>10</td><td>      NA</td><td>NA</td><td>NA</td><td>   0.00</td><td></td></tr>\n",
       "\t<tr><td>214774866</td><td>202109</td><td>1</td><td>0</td><td>0</td><td>45</td><td>1</td><td>  95.43</td><td>  95.43</td><td> 92.59</td><td>⋯</td><td> 1</td><td>   0</td><td>      NA</td><td>NA</td><td> 2</td><td>      NA</td><td>NA</td><td>NA</td><td>   0.00</td><td></td></tr>\n",
       "\t<tr><td>214774985</td><td>202109</td><td>0</td><td>0</td><td>0</td><td>33</td><td>1</td><td>   0.00</td><td>   0.00</td><td>  0.00</td><td>⋯</td><td> 8</td><td>   0</td><td>      NA</td><td>NA</td><td>11</td><td>      NA</td><td>NA</td><td>NA</td><td>   0.00</td><td></td></tr>\n",
       "\t<tr><td>214782860</td><td>202109</td><td>1</td><td>0</td><td>0</td><td>29</td><td>1</td><td>  61.45</td><td>  61.45</td><td>  0.00</td><td>⋯</td><td> 1</td><td>   0</td><td>      NA</td><td>NA</td><td> 3</td><td>      NA</td><td>NA</td><td>NA</td><td>   0.00</td><td></td></tr>\n",
       "\t<tr><td>214787203</td><td>202109</td><td>0</td><td>0</td><td>0</td><td>35</td><td>1</td><td>   0.00</td><td>   0.00</td><td>  0.00</td><td>⋯</td><td>NA</td><td>   0</td><td>      NA</td><td>NA</td><td> 3</td><td>      NA</td><td>NA</td><td>NA</td><td>   0.00</td><td></td></tr>\n",
       "\t<tr><td>214798593</td><td>202109</td><td>1</td><td>0</td><td>0</td><td>31</td><td>1</td><td>  53.80</td><td>  53.80</td><td>  0.00</td><td>⋯</td><td> 1</td><td>   0</td><td>    0.00</td><td> 0</td><td>23</td><td>  807.91</td><td> 2</td><td> 0</td><td>  35.19</td><td></td></tr>\n",
       "\t<tr><td>214799441</td><td>202109</td><td>0</td><td>0</td><td>0</td><td>31</td><td>1</td><td>   0.00</td><td>   0.00</td><td>  0.00</td><td>⋯</td><td> 1</td><td>   0</td><td>      NA</td><td>NA</td><td>11</td><td>      NA</td><td>NA</td><td>NA</td><td>   0.00</td><td></td></tr>\n",
       "\t<tr><td>214802679</td><td>202109</td><td>0</td><td>0</td><td>0</td><td>51</td><td>1</td><td>   0.53</td><td>   0.53</td><td>  0.00</td><td>⋯</td><td> 1</td><td>   0</td><td>      NA</td><td>NA</td><td> 7</td><td>      NA</td><td>NA</td><td>NA</td><td>   0.00</td><td></td></tr>\n",
       "\t<tr><td>214810851</td><td>202109</td><td>0</td><td>0</td><td>0</td><td>31</td><td>1</td><td>   0.00</td><td>   0.00</td><td>  0.00</td><td>⋯</td><td> 1</td><td>   0</td><td>      NA</td><td>NA</td><td> 8</td><td>      NA</td><td>NA</td><td>NA</td><td>   0.00</td><td></td></tr>\n",
       "\t<tr><td>214812173</td><td>202109</td><td>0</td><td>0</td><td>0</td><td>38</td><td>1</td><td>   0.00</td><td>   0.00</td><td>  0.00</td><td>⋯</td><td> 1</td><td>   0</td><td>      NA</td><td>NA</td><td> 2</td><td>      NA</td><td>NA</td><td>NA</td><td>   0.00</td><td></td></tr>\n",
       "</tbody>\n",
       "</table>\n"
      ],
      "text/latex": [
       "A data.table: 165237 × 155\n",
       "\\begin{tabular}{lllllllllllllllllllll}\n",
       " numero\\_de\\_cliente & foto\\_mes & active\\_quarter & cliente\\_vip & internet & cliente\\_edad & cliente\\_antiguedad & mrentabilidad & mrentabilidad\\_annual & mcomisiones & ⋯ & Visa\\_fultimo\\_cierre & Visa\\_mpagado & Visa\\_mpagospesos & Visa\\_mpagosdolares & Visa\\_fechaalta & Visa\\_mconsumototal & Visa\\_cconsumos & Visa\\_cadelantosefectivo & Visa\\_mpagominimo & clase\\_ternaria\\\\\n",
       " <int> & <int> & <int> & <int> & <int> & <int> & <int> & <dbl> & <dbl> & <dbl> & ⋯ & <int> & <dbl> & <dbl> & <dbl> & <int> & <dbl> & <int> & <int> & <dbl> & <chr>\\\\\n",
       "\\hline\n",
       "\t 31116053 & 202109 & 1 & 0 & 0 & 50 & 203 & 41525.30 & 188951.41 &  3514.62 & ⋯ &  8 &      0.00 &  -76245.00 &  0.00 & 6121 & 240395.52 & 95 &  0 &     0.00 & \\\\\n",
       "\t 31116803 & 202109 & 1 & 0 & 0 & 59 & 328 &  5961.42 &  57782.14 &  7482.82 & ⋯ &  1 &      0.00 &  -52153.67 & 17.59 & 4272 &  79827.95 & 11 &  0 & 39119.55 & \\\\\n",
       "\t 31117730 & 202109 & 1 & 0 & 0 & 68 & 274 &  1532.46 &  18774.56 &   591.47 & ⋯ & 22 &   5278.50 &   -4222.80 &  0.00 & 8012 &   2258.29 &  2 &  0 &  1595.28 & \\\\\n",
       "\t 31117908 & 202109 & 1 & 0 & 0 & 80 & 328 & 11616.59 &  68163.98 &  9334.79 & ⋯ &  1 &      0.00 &  -19973.38 &  0.00 & 7763 &  43880.08 & 12 &  0 &  2240.43 & \\\\\n",
       "\t 31117977 & 202109 & 1 & 0 & 0 & 60 & 263 &  2534.68 &  41647.70 &  1202.43 & ⋯ & 22 & 169048.71 & -131667.60 &  0.00 & 8010 & 152292.04 & 36 &  0 &  8093.70 & \\\\\n",
       "\t 31120119 & 202109 & 1 & 0 & 0 & 71 & 381 & 12307.04 &  64530.24 & 12519.64 & ⋯ &  8 &      0.00 &  -14304.10 &  0.00 & 8569 &  10910.35 &  2 &  0 &  1395.87 & \\\\\n",
       "\t 31121017 & 202109 & 1 & 0 & 0 & 68 & 328 &  2560.48 &  20620.47 &  1973.17 & ⋯ &  1 &      0.00 &   -4119.45 &  0.00 & 8800 &   4551.24 &  3 &  0 &   246.33 & \\\\\n",
       "\t 31121264 & 202109 & 1 & 0 & 0 & 46 & 313 & -1535.85 &  -3274.82 &  1302.38 & ⋯ &  8 &      0.00 & -119974.44 &  0.00 & 8541 &  99033.71 & 53 &  0 & 13700.64 & \\\\\n",
       "\t 31121718 & 202109 & 1 & 0 & 0 & 66 & 328 & 36725.22 & 464598.82 &  2924.76 & ⋯ &  8 &   3526.91 &   -3599.39 &  0.00 & 8477 &   3425.16 &  1 &  0 &   234.60 & \\\\\n",
       "\t 31122951 & 202109 & 1 & 0 & 0 & 59 & 272 &  3380.83 &  55633.31 &  2625.15 & ⋯ &  1 &      0.00 & -103116.89 &  0.00 & 4690 & 145055.59 & 41 &  0 &  8750.58 & \\\\\n",
       "\t 31123702 & 202109 & 1 & 0 & 0 & 61 & 328 & -2050.31 &  24890.28 &   752.01 & ⋯ & 22 &  49026.54 &  -38450.94 &  0.00 & 8110 &  10125.59 & 17 &  0 & 10169.91 & \\\\\n",
       "\t 31123830 & 202109 & 1 & 0 & 0 & 50 &  95 &  9286.95 &  94196.08 &  3426.54 & ⋯ &  1 &      0.00 & -135708.25 &  0.00 & 2866 & 117734.01 & 13 &  0 &  6134.79 & \\\\\n",
       "\t 31124501 & 202109 & 1 & 0 & 0 & 50 & 151 &  -896.37 & -10641.45 &   843.15 & ⋯ &  1 &      0.00 &  -55712.49 &  1.00 & 2531 &  14861.87 &  3 &  0 &  2439.84 & \\\\\n",
       "\t 31124827 & 202109 & 1 & 0 & 0 & 69 & 291 &  4041.92 &  82622.53 &  3488.07 & ⋯ & NA &        NA &         NA &    NA &   NA &        NA & NA & NA &       NA & \\\\\n",
       "\t 31125498 & 202109 & 1 & 0 & 0 & 73 & 294 &   177.76 & -11260.87 &  3005.31 & ⋯ &  1 &      0.00 &  -45422.67 &  0.00 & 8950 &   8761.30 &  7 &  0 &  4879.68 & \\\\\n",
       "\t 31125518 & 202109 & 1 & 0 & 0 & 66 & 277 & 18142.96 & 179111.49 &  4390.57 & ⋯ &  1 &      0.00 & -152496.41 & 18.75 & 7885 & 182785.05 & 23 &  0 & 19389.69 & \\\\\n",
       "\t 31126001 & 202109 & 1 & 0 & 0 & 48 & 180 &  3765.95 &  28961.83 &  1972.76 & ⋯ &  1 &      0.00 &  -10592.00 &  0.00 & 4992 &  14199.04 &  4 &  0 &   727.26 & \\\\\n",
       "\t 31126199 & 202109 & 1 & 0 & 0 & 56 &  33 & 25977.17 & 162207.70 &  3453.46 & ⋯ &  1 &      0.00 &   -2306.78 &  0.00 &  261 &      0.00 &  0 &  0 &  1126.08 & \\\\\n",
       "\t 31126633 & 202109 & 1 & 0 & 0 & 82 & 282 &   413.56 &  -1601.37 &  1714.26 & ⋯ &  1 &      0.00 &  -73716.91 &  0.00 & 8570 &  54508.43 & 12 &  0 &  6299.01 & \\\\\n",
       "\t 31127136 & 202109 & 1 & 0 & 0 & 53 & 269 &  1238.40 &  15566.50 &   388.39 & ⋯ &  8 &      0.00 &   -7190.90 &  0.00 & 5519 &   2664.55 &  2 &  0 &   926.67 & \\\\\n",
       "\t 31127195 & 202109 & 1 & 0 & 0 & 53 &  34 & 18608.09 & 111713.56 &  8537.84 & ⋯ &  1 &      0.00 & -223045.12 &  1.00 &  959 & 243797.32 & 60 &  0 & 22756.20 & \\\\\n",
       "\t 31129377 & 202109 & 1 & 0 & 0 & 57 & 269 & -4260.59 &   -544.41 &  1185.08 & ⋯ &  1 &      0.00 &  -41491.68 &  0.00 & 5645 & 138256.77 &  7 &  0 & 16363.35 & \\\\\n",
       "\t 31130581 & 202109 & 1 & 0 & 0 & 63 & 328 & 28149.09 & 244931.93 &  4762.33 & ⋯ &  8 & 108233.81 &  -91049.55 &  0.00 & 9048 &  98860.81 & 19 &  0 &  8293.11 & \\\\\n",
       "\t 31131104 & 202109 & 1 & 0 & 0 & 66 & 381 &   268.76 &   3942.23 &  2554.54 & ⋯ & 22 &  60493.45 &  -50111.76 &  0.00 & 8193 &  39414.92 & 19 &  0 &  4985.25 & \\\\\n",
       "\t 31132831 & 202109 & 1 & 0 & 0 & 54 & 288 &   144.91 &   3805.35 &   180.65 & ⋯ &  8 &   3901.15 &   -9048.00 &  0.00 & 3658 &   8902.24 &  4 &  0 &     0.00 & \\\\\n",
       "\t 31132989 & 202109 & 1 & 0 & 0 & 52 & 128 &  5114.88 &  33897.84 &  2523.81 & ⋯ &  8 &      0.00 &  -47943.61 & 22.53 & 3882 &  35156.40 & 18 &  0 &  4328.37 & \\\\\n",
       "\t 31133028 & 202109 & 1 & 0 & 0 & 41 & 139 & -1782.38 & -27361.13 &  1957.70 & ⋯ &  8 &      0.00 &  -34491.38 & 23.72 & 4181 &  21925.90 & 14 &  0 &  6111.33 & \\\\\n",
       "\t 31133769 & 202109 & 1 & 0 & 0 & 63 & 317 &  2966.44 &  56522.35 &   330.56 & ⋯ &  1 &      0.00 &         NA &    NA & 7554 &        NA & NA & NA &     0.00 & \\\\\n",
       "\t 31133788 & 202109 & 1 & 0 & 0 & 73 & 328 &  2824.49 &  24294.36 &  2509.99 & ⋯ & 22 &  16422.00 &  -12433.80 &  0.00 & 7689 &   4501.48 &  4 &  0 &  3565.92 & \\\\\n",
       "\t 31133818 & 202109 & 1 & 0 & 0 & 60 &   8 &  4124.56 &  10016.17 &  5204.46 & ⋯ &  1 &      0.00 &  -27321.98 &  1.00 &  136 &  49435.17 &  7 &  0 & 53195.55 & \\\\\n",
       "\t ⋮ & ⋮ & ⋮ & ⋮ & ⋮ & ⋮ & ⋮ & ⋮ & ⋮ & ⋮ & ⋱ & ⋮ & ⋮ & ⋮ & ⋮ & ⋮ & ⋮ & ⋮ & ⋮ & ⋮ & ⋮\\\\\n",
       "\t 214662165 & 202109 & 0 & 0 & 0 & 24 & 1 &   51.51 &   51.51 &   0.00 & ⋯ &  1 &    0 &       NA & NA &  9 &       NA & NA & NA &    0.00 & \\\\\n",
       "\t 214663043 & 202109 & 1 & 0 & 0 & 35 & 1 &   30.75 &   30.75 &   0.00 & ⋯ &  1 &    0 &       NA & NA & 14 &       NA & NA & NA &    0.00 & \\\\\n",
       "\t 214663340 & 202109 & 1 & 0 & 0 & 24 & 1 &    0.43 &    0.43 &   0.00 & ⋯ &  1 &    0 &       NA & NA & 11 &       NA & NA & NA &    0.00 & \\\\\n",
       "\t 214663428 & 202109 & 1 & 0 & 0 & 41 & 1 &   70.79 &   70.79 &   0.00 & ⋯ &  1 &    0 &       NA & NA & 11 &       NA & NA & NA &    0.00 & \\\\\n",
       "\t 214665787 & 202109 & 0 & 0 & 0 & 27 & 1 &    1.04 &    1.04 &   0.00 & ⋯ &  1 &    0 &       NA & NA & 10 &       NA & NA & NA &    0.00 & \\\\\n",
       "\t 214666202 & 202109 & 1 & 0 & 0 & 28 & 1 &   22.82 &   22.82 &   0.00 & ⋯ &  1 &    0 &       NA & NA & 10 &       NA & NA & NA &    0.00 & \\\\\n",
       "\t 214677423 & 202109 & 0 & 0 & 0 & 29 & 1 &    0.00 &    0.00 &   0.00 & ⋯ &  1 &    0 &       NA & NA &  1 &       NA & NA & NA &    0.00 & \\\\\n",
       "\t 214687856 & 202109 & 1 & 0 & 0 & 25 & 1 &   30.14 &   30.14 &  22.31 & ⋯ &  1 &    0 &     0.00 &  0 & 23 & 11748.32 & 16 &  0 &  961.86 & \\\\\n",
       "\t 214694024 & 202109 & 1 & 0 & 0 & 29 & 1 &  141.65 &  141.65 &  63.85 & ⋯ &  8 &    0 &       NA & NA & 16 &       NA & NA & NA &    0.00 & \\\\\n",
       "\t 214707703 & 202109 & 1 & 0 & 0 & 27 & 1 &    0.04 &    0.04 &   0.00 & ⋯ &  1 &    0 &       NA & NA &  4 &       NA & NA & NA &    0.00 & \\\\\n",
       "\t 214710546 & 202109 & 0 & 0 & 0 & 39 & 1 &    0.00 &    0.00 &   0.00 & ⋯ &  1 &    0 &       NA & NA &  4 &       NA & NA & NA &    0.00 & \\\\\n",
       "\t 214721787 & 202109 & 1 & 0 & 0 & 35 & 1 &  453.92 &  453.92 & 822.16 & ⋯ &  1 &    0 &     0.00 &  0 & 28 &  3693.63 &  2 &  0 &  879.75 & \\\\\n",
       "\t 214724936 & 202109 & 1 & 0 & 0 & 35 & 1 &  -48.06 &  -48.06 &   0.00 & ⋯ &  1 & 2346 & -8363.49 &  0 & 18 &     0.00 &  0 &  0 & 5853.27 & \\\\\n",
       "\t 214729140 & 202109 & 1 & 0 & 0 & 34 & 1 & 1140.89 & 1140.89 &   0.00 & ⋯ &  8 &    0 &     0.00 &  0 & 18 &     0.00 &  0 &  0 &  868.02 & \\\\\n",
       "\t 214729673 & 202109 & 0 & 0 & 0 & 25 & 1 &    0.00 &    0.00 &   0.00 & ⋯ &  8 &    0 &       NA & NA & 18 &       NA & NA & NA &    0.00 & \\\\\n",
       "\t 214738852 & 202109 & 0 & 0 & 0 & 40 & 1 &    0.00 &    0.00 &   0.00 & ⋯ &  1 &    0 &       NA & NA &  9 &       NA & NA & NA &    0.00 & \\\\\n",
       "\t 214740263 & 202109 & 0 & 0 & 0 & 29 & 1 &    1.04 &    1.04 &   0.00 & ⋯ &  1 &    0 &       NA & NA & 10 &       NA & NA & NA &    0.00 & \\\\\n",
       "\t 214745168 & 202109 & 1 & 0 & 0 & 50 & 1 &  501.12 &  501.12 &   0.00 & ⋯ &  1 &    0 &       NA & NA &  7 &       NA & NA & NA &    0.00 & \\\\\n",
       "\t 214749857 & 202109 & 0 & 0 & 0 & 26 & 1 &    0.00 &    0.00 &   0.00 & ⋯ & NA &    0 &       NA & NA &  2 &       NA & NA & NA &    0.00 & \\\\\n",
       "\t 214758966 & 202109 & 1 & 0 & 0 & 28 & 1 &    0.50 &    0.50 &   0.00 & ⋯ &  1 &    0 &       NA & NA &  9 &       NA & NA & NA &    0.00 & \\\\\n",
       "\t 214767247 & 202109 & 1 & 0 & 0 & 44 & 1 &    0.12 &    0.12 &   0.00 & ⋯ &  1 &    0 &       NA & NA & 10 &       NA & NA & NA &    0.00 & \\\\\n",
       "\t 214774866 & 202109 & 1 & 0 & 0 & 45 & 1 &   95.43 &   95.43 &  92.59 & ⋯ &  1 &    0 &       NA & NA &  2 &       NA & NA & NA &    0.00 & \\\\\n",
       "\t 214774985 & 202109 & 0 & 0 & 0 & 33 & 1 &    0.00 &    0.00 &   0.00 & ⋯ &  8 &    0 &       NA & NA & 11 &       NA & NA & NA &    0.00 & \\\\\n",
       "\t 214782860 & 202109 & 1 & 0 & 0 & 29 & 1 &   61.45 &   61.45 &   0.00 & ⋯ &  1 &    0 &       NA & NA &  3 &       NA & NA & NA &    0.00 & \\\\\n",
       "\t 214787203 & 202109 & 0 & 0 & 0 & 35 & 1 &    0.00 &    0.00 &   0.00 & ⋯ & NA &    0 &       NA & NA &  3 &       NA & NA & NA &    0.00 & \\\\\n",
       "\t 214798593 & 202109 & 1 & 0 & 0 & 31 & 1 &   53.80 &   53.80 &   0.00 & ⋯ &  1 &    0 &     0.00 &  0 & 23 &   807.91 &  2 &  0 &   35.19 & \\\\\n",
       "\t 214799441 & 202109 & 0 & 0 & 0 & 31 & 1 &    0.00 &    0.00 &   0.00 & ⋯ &  1 &    0 &       NA & NA & 11 &       NA & NA & NA &    0.00 & \\\\\n",
       "\t 214802679 & 202109 & 0 & 0 & 0 & 51 & 1 &    0.53 &    0.53 &   0.00 & ⋯ &  1 &    0 &       NA & NA &  7 &       NA & NA & NA &    0.00 & \\\\\n",
       "\t 214810851 & 202109 & 0 & 0 & 0 & 31 & 1 &    0.00 &    0.00 &   0.00 & ⋯ &  1 &    0 &       NA & NA &  8 &       NA & NA & NA &    0.00 & \\\\\n",
       "\t 214812173 & 202109 & 0 & 0 & 0 & 38 & 1 &    0.00 &    0.00 &   0.00 & ⋯ &  1 &    0 &       NA & NA &  2 &       NA & NA & NA &    0.00 & \\\\\n",
       "\\end{tabular}\n"
      ],
      "text/markdown": [
       "\n",
       "A data.table: 165237 × 155\n",
       "\n",
       "| numero_de_cliente &lt;int&gt; | foto_mes &lt;int&gt; | active_quarter &lt;int&gt; | cliente_vip &lt;int&gt; | internet &lt;int&gt; | cliente_edad &lt;int&gt; | cliente_antiguedad &lt;int&gt; | mrentabilidad &lt;dbl&gt; | mrentabilidad_annual &lt;dbl&gt; | mcomisiones &lt;dbl&gt; | ⋯ ⋯ | Visa_fultimo_cierre &lt;int&gt; | Visa_mpagado &lt;dbl&gt; | Visa_mpagospesos &lt;dbl&gt; | Visa_mpagosdolares &lt;dbl&gt; | Visa_fechaalta &lt;int&gt; | Visa_mconsumototal &lt;dbl&gt; | Visa_cconsumos &lt;int&gt; | Visa_cadelantosefectivo &lt;int&gt; | Visa_mpagominimo &lt;dbl&gt; | clase_ternaria &lt;chr&gt; |\n",
       "|---|---|---|---|---|---|---|---|---|---|---|---|---|---|---|---|---|---|---|---|---|\n",
       "| 31116053 | 202109 | 1 | 0 | 0 | 50 | 203 | 41525.30 | 188951.41 |  3514.62 | ⋯ |  8 |      0.00 |  -76245.00 |  0.00 | 6121 | 240395.52 | 95 |  0 |     0.00 | <!----> |\n",
       "| 31116803 | 202109 | 1 | 0 | 0 | 59 | 328 |  5961.42 |  57782.14 |  7482.82 | ⋯ |  1 |      0.00 |  -52153.67 | 17.59 | 4272 |  79827.95 | 11 |  0 | 39119.55 | <!----> |\n",
       "| 31117730 | 202109 | 1 | 0 | 0 | 68 | 274 |  1532.46 |  18774.56 |   591.47 | ⋯ | 22 |   5278.50 |   -4222.80 |  0.00 | 8012 |   2258.29 |  2 |  0 |  1595.28 | <!----> |\n",
       "| 31117908 | 202109 | 1 | 0 | 0 | 80 | 328 | 11616.59 |  68163.98 |  9334.79 | ⋯ |  1 |      0.00 |  -19973.38 |  0.00 | 7763 |  43880.08 | 12 |  0 |  2240.43 | <!----> |\n",
       "| 31117977 | 202109 | 1 | 0 | 0 | 60 | 263 |  2534.68 |  41647.70 |  1202.43 | ⋯ | 22 | 169048.71 | -131667.60 |  0.00 | 8010 | 152292.04 | 36 |  0 |  8093.70 | <!----> |\n",
       "| 31120119 | 202109 | 1 | 0 | 0 | 71 | 381 | 12307.04 |  64530.24 | 12519.64 | ⋯ |  8 |      0.00 |  -14304.10 |  0.00 | 8569 |  10910.35 |  2 |  0 |  1395.87 | <!----> |\n",
       "| 31121017 | 202109 | 1 | 0 | 0 | 68 | 328 |  2560.48 |  20620.47 |  1973.17 | ⋯ |  1 |      0.00 |   -4119.45 |  0.00 | 8800 |   4551.24 |  3 |  0 |   246.33 | <!----> |\n",
       "| 31121264 | 202109 | 1 | 0 | 0 | 46 | 313 | -1535.85 |  -3274.82 |  1302.38 | ⋯ |  8 |      0.00 | -119974.44 |  0.00 | 8541 |  99033.71 | 53 |  0 | 13700.64 | <!----> |\n",
       "| 31121718 | 202109 | 1 | 0 | 0 | 66 | 328 | 36725.22 | 464598.82 |  2924.76 | ⋯ |  8 |   3526.91 |   -3599.39 |  0.00 | 8477 |   3425.16 |  1 |  0 |   234.60 | <!----> |\n",
       "| 31122951 | 202109 | 1 | 0 | 0 | 59 | 272 |  3380.83 |  55633.31 |  2625.15 | ⋯ |  1 |      0.00 | -103116.89 |  0.00 | 4690 | 145055.59 | 41 |  0 |  8750.58 | <!----> |\n",
       "| 31123702 | 202109 | 1 | 0 | 0 | 61 | 328 | -2050.31 |  24890.28 |   752.01 | ⋯ | 22 |  49026.54 |  -38450.94 |  0.00 | 8110 |  10125.59 | 17 |  0 | 10169.91 | <!----> |\n",
       "| 31123830 | 202109 | 1 | 0 | 0 | 50 |  95 |  9286.95 |  94196.08 |  3426.54 | ⋯ |  1 |      0.00 | -135708.25 |  0.00 | 2866 | 117734.01 | 13 |  0 |  6134.79 | <!----> |\n",
       "| 31124501 | 202109 | 1 | 0 | 0 | 50 | 151 |  -896.37 | -10641.45 |   843.15 | ⋯ |  1 |      0.00 |  -55712.49 |  1.00 | 2531 |  14861.87 |  3 |  0 |  2439.84 | <!----> |\n",
       "| 31124827 | 202109 | 1 | 0 | 0 | 69 | 291 |  4041.92 |  82622.53 |  3488.07 | ⋯ | NA |        NA |         NA |    NA |   NA |        NA | NA | NA |       NA | <!----> |\n",
       "| 31125498 | 202109 | 1 | 0 | 0 | 73 | 294 |   177.76 | -11260.87 |  3005.31 | ⋯ |  1 |      0.00 |  -45422.67 |  0.00 | 8950 |   8761.30 |  7 |  0 |  4879.68 | <!----> |\n",
       "| 31125518 | 202109 | 1 | 0 | 0 | 66 | 277 | 18142.96 | 179111.49 |  4390.57 | ⋯ |  1 |      0.00 | -152496.41 | 18.75 | 7885 | 182785.05 | 23 |  0 | 19389.69 | <!----> |\n",
       "| 31126001 | 202109 | 1 | 0 | 0 | 48 | 180 |  3765.95 |  28961.83 |  1972.76 | ⋯ |  1 |      0.00 |  -10592.00 |  0.00 | 4992 |  14199.04 |  4 |  0 |   727.26 | <!----> |\n",
       "| 31126199 | 202109 | 1 | 0 | 0 | 56 |  33 | 25977.17 | 162207.70 |  3453.46 | ⋯ |  1 |      0.00 |   -2306.78 |  0.00 |  261 |      0.00 |  0 |  0 |  1126.08 | <!----> |\n",
       "| 31126633 | 202109 | 1 | 0 | 0 | 82 | 282 |   413.56 |  -1601.37 |  1714.26 | ⋯ |  1 |      0.00 |  -73716.91 |  0.00 | 8570 |  54508.43 | 12 |  0 |  6299.01 | <!----> |\n",
       "| 31127136 | 202109 | 1 | 0 | 0 | 53 | 269 |  1238.40 |  15566.50 |   388.39 | ⋯ |  8 |      0.00 |   -7190.90 |  0.00 | 5519 |   2664.55 |  2 |  0 |   926.67 | <!----> |\n",
       "| 31127195 | 202109 | 1 | 0 | 0 | 53 |  34 | 18608.09 | 111713.56 |  8537.84 | ⋯ |  1 |      0.00 | -223045.12 |  1.00 |  959 | 243797.32 | 60 |  0 | 22756.20 | <!----> |\n",
       "| 31129377 | 202109 | 1 | 0 | 0 | 57 | 269 | -4260.59 |   -544.41 |  1185.08 | ⋯ |  1 |      0.00 |  -41491.68 |  0.00 | 5645 | 138256.77 |  7 |  0 | 16363.35 | <!----> |\n",
       "| 31130581 | 202109 | 1 | 0 | 0 | 63 | 328 | 28149.09 | 244931.93 |  4762.33 | ⋯ |  8 | 108233.81 |  -91049.55 |  0.00 | 9048 |  98860.81 | 19 |  0 |  8293.11 | <!----> |\n",
       "| 31131104 | 202109 | 1 | 0 | 0 | 66 | 381 |   268.76 |   3942.23 |  2554.54 | ⋯ | 22 |  60493.45 |  -50111.76 |  0.00 | 8193 |  39414.92 | 19 |  0 |  4985.25 | <!----> |\n",
       "| 31132831 | 202109 | 1 | 0 | 0 | 54 | 288 |   144.91 |   3805.35 |   180.65 | ⋯ |  8 |   3901.15 |   -9048.00 |  0.00 | 3658 |   8902.24 |  4 |  0 |     0.00 | <!----> |\n",
       "| 31132989 | 202109 | 1 | 0 | 0 | 52 | 128 |  5114.88 |  33897.84 |  2523.81 | ⋯ |  8 |      0.00 |  -47943.61 | 22.53 | 3882 |  35156.40 | 18 |  0 |  4328.37 | <!----> |\n",
       "| 31133028 | 202109 | 1 | 0 | 0 | 41 | 139 | -1782.38 | -27361.13 |  1957.70 | ⋯ |  8 |      0.00 |  -34491.38 | 23.72 | 4181 |  21925.90 | 14 |  0 |  6111.33 | <!----> |\n",
       "| 31133769 | 202109 | 1 | 0 | 0 | 63 | 317 |  2966.44 |  56522.35 |   330.56 | ⋯ |  1 |      0.00 |         NA |    NA | 7554 |        NA | NA | NA |     0.00 | <!----> |\n",
       "| 31133788 | 202109 | 1 | 0 | 0 | 73 | 328 |  2824.49 |  24294.36 |  2509.99 | ⋯ | 22 |  16422.00 |  -12433.80 |  0.00 | 7689 |   4501.48 |  4 |  0 |  3565.92 | <!----> |\n",
       "| 31133818 | 202109 | 1 | 0 | 0 | 60 |   8 |  4124.56 |  10016.17 |  5204.46 | ⋯ |  1 |      0.00 |  -27321.98 |  1.00 |  136 |  49435.17 |  7 |  0 | 53195.55 | <!----> |\n",
       "| ⋮ | ⋮ | ⋮ | ⋮ | ⋮ | ⋮ | ⋮ | ⋮ | ⋮ | ⋮ | ⋱ | ⋮ | ⋮ | ⋮ | ⋮ | ⋮ | ⋮ | ⋮ | ⋮ | ⋮ | ⋮ |\n",
       "| 214662165 | 202109 | 0 | 0 | 0 | 24 | 1 |   51.51 |   51.51 |   0.00 | ⋯ |  1 |    0 |       NA | NA |  9 |       NA | NA | NA |    0.00 | <!----> |\n",
       "| 214663043 | 202109 | 1 | 0 | 0 | 35 | 1 |   30.75 |   30.75 |   0.00 | ⋯ |  1 |    0 |       NA | NA | 14 |       NA | NA | NA |    0.00 | <!----> |\n",
       "| 214663340 | 202109 | 1 | 0 | 0 | 24 | 1 |    0.43 |    0.43 |   0.00 | ⋯ |  1 |    0 |       NA | NA | 11 |       NA | NA | NA |    0.00 | <!----> |\n",
       "| 214663428 | 202109 | 1 | 0 | 0 | 41 | 1 |   70.79 |   70.79 |   0.00 | ⋯ |  1 |    0 |       NA | NA | 11 |       NA | NA | NA |    0.00 | <!----> |\n",
       "| 214665787 | 202109 | 0 | 0 | 0 | 27 | 1 |    1.04 |    1.04 |   0.00 | ⋯ |  1 |    0 |       NA | NA | 10 |       NA | NA | NA |    0.00 | <!----> |\n",
       "| 214666202 | 202109 | 1 | 0 | 0 | 28 | 1 |   22.82 |   22.82 |   0.00 | ⋯ |  1 |    0 |       NA | NA | 10 |       NA | NA | NA |    0.00 | <!----> |\n",
       "| 214677423 | 202109 | 0 | 0 | 0 | 29 | 1 |    0.00 |    0.00 |   0.00 | ⋯ |  1 |    0 |       NA | NA |  1 |       NA | NA | NA |    0.00 | <!----> |\n",
       "| 214687856 | 202109 | 1 | 0 | 0 | 25 | 1 |   30.14 |   30.14 |  22.31 | ⋯ |  1 |    0 |     0.00 |  0 | 23 | 11748.32 | 16 |  0 |  961.86 | <!----> |\n",
       "| 214694024 | 202109 | 1 | 0 | 0 | 29 | 1 |  141.65 |  141.65 |  63.85 | ⋯ |  8 |    0 |       NA | NA | 16 |       NA | NA | NA |    0.00 | <!----> |\n",
       "| 214707703 | 202109 | 1 | 0 | 0 | 27 | 1 |    0.04 |    0.04 |   0.00 | ⋯ |  1 |    0 |       NA | NA |  4 |       NA | NA | NA |    0.00 | <!----> |\n",
       "| 214710546 | 202109 | 0 | 0 | 0 | 39 | 1 |    0.00 |    0.00 |   0.00 | ⋯ |  1 |    0 |       NA | NA |  4 |       NA | NA | NA |    0.00 | <!----> |\n",
       "| 214721787 | 202109 | 1 | 0 | 0 | 35 | 1 |  453.92 |  453.92 | 822.16 | ⋯ |  1 |    0 |     0.00 |  0 | 28 |  3693.63 |  2 |  0 |  879.75 | <!----> |\n",
       "| 214724936 | 202109 | 1 | 0 | 0 | 35 | 1 |  -48.06 |  -48.06 |   0.00 | ⋯ |  1 | 2346 | -8363.49 |  0 | 18 |     0.00 |  0 |  0 | 5853.27 | <!----> |\n",
       "| 214729140 | 202109 | 1 | 0 | 0 | 34 | 1 | 1140.89 | 1140.89 |   0.00 | ⋯ |  8 |    0 |     0.00 |  0 | 18 |     0.00 |  0 |  0 |  868.02 | <!----> |\n",
       "| 214729673 | 202109 | 0 | 0 | 0 | 25 | 1 |    0.00 |    0.00 |   0.00 | ⋯ |  8 |    0 |       NA | NA | 18 |       NA | NA | NA |    0.00 | <!----> |\n",
       "| 214738852 | 202109 | 0 | 0 | 0 | 40 | 1 |    0.00 |    0.00 |   0.00 | ⋯ |  1 |    0 |       NA | NA |  9 |       NA | NA | NA |    0.00 | <!----> |\n",
       "| 214740263 | 202109 | 0 | 0 | 0 | 29 | 1 |    1.04 |    1.04 |   0.00 | ⋯ |  1 |    0 |       NA | NA | 10 |       NA | NA | NA |    0.00 | <!----> |\n",
       "| 214745168 | 202109 | 1 | 0 | 0 | 50 | 1 |  501.12 |  501.12 |   0.00 | ⋯ |  1 |    0 |       NA | NA |  7 |       NA | NA | NA |    0.00 | <!----> |\n",
       "| 214749857 | 202109 | 0 | 0 | 0 | 26 | 1 |    0.00 |    0.00 |   0.00 | ⋯ | NA |    0 |       NA | NA |  2 |       NA | NA | NA |    0.00 | <!----> |\n",
       "| 214758966 | 202109 | 1 | 0 | 0 | 28 | 1 |    0.50 |    0.50 |   0.00 | ⋯ |  1 |    0 |       NA | NA |  9 |       NA | NA | NA |    0.00 | <!----> |\n",
       "| 214767247 | 202109 | 1 | 0 | 0 | 44 | 1 |    0.12 |    0.12 |   0.00 | ⋯ |  1 |    0 |       NA | NA | 10 |       NA | NA | NA |    0.00 | <!----> |\n",
       "| 214774866 | 202109 | 1 | 0 | 0 | 45 | 1 |   95.43 |   95.43 |  92.59 | ⋯ |  1 |    0 |       NA | NA |  2 |       NA | NA | NA |    0.00 | <!----> |\n",
       "| 214774985 | 202109 | 0 | 0 | 0 | 33 | 1 |    0.00 |    0.00 |   0.00 | ⋯ |  8 |    0 |       NA | NA | 11 |       NA | NA | NA |    0.00 | <!----> |\n",
       "| 214782860 | 202109 | 1 | 0 | 0 | 29 | 1 |   61.45 |   61.45 |   0.00 | ⋯ |  1 |    0 |       NA | NA |  3 |       NA | NA | NA |    0.00 | <!----> |\n",
       "| 214787203 | 202109 | 0 | 0 | 0 | 35 | 1 |    0.00 |    0.00 |   0.00 | ⋯ | NA |    0 |       NA | NA |  3 |       NA | NA | NA |    0.00 | <!----> |\n",
       "| 214798593 | 202109 | 1 | 0 | 0 | 31 | 1 |   53.80 |   53.80 |   0.00 | ⋯ |  1 |    0 |     0.00 |  0 | 23 |   807.91 |  2 |  0 |   35.19 | <!----> |\n",
       "| 214799441 | 202109 | 0 | 0 | 0 | 31 | 1 |    0.00 |    0.00 |   0.00 | ⋯ |  1 |    0 |       NA | NA | 11 |       NA | NA | NA |    0.00 | <!----> |\n",
       "| 214802679 | 202109 | 0 | 0 | 0 | 51 | 1 |    0.53 |    0.53 |   0.00 | ⋯ |  1 |    0 |       NA | NA |  7 |       NA | NA | NA |    0.00 | <!----> |\n",
       "| 214810851 | 202109 | 0 | 0 | 0 | 31 | 1 |    0.00 |    0.00 |   0.00 | ⋯ |  1 |    0 |       NA | NA |  8 |       NA | NA | NA |    0.00 | <!----> |\n",
       "| 214812173 | 202109 | 0 | 0 | 0 | 38 | 1 |    0.00 |    0.00 |   0.00 | ⋯ |  1 |    0 |       NA | NA |  2 |       NA | NA | NA |    0.00 | <!----> |\n",
       "\n"
      ],
      "text/plain": [
       "       numero_de_cliente foto_mes active_quarter cliente_vip internet\n",
       "1      31116053          202109   1              0           0       \n",
       "2      31116803          202109   1              0           0       \n",
       "3      31117730          202109   1              0           0       \n",
       "4      31117908          202109   1              0           0       \n",
       "5      31117977          202109   1              0           0       \n",
       "6      31120119          202109   1              0           0       \n",
       "7      31121017          202109   1              0           0       \n",
       "8      31121264          202109   1              0           0       \n",
       "9      31121718          202109   1              0           0       \n",
       "10     31122951          202109   1              0           0       \n",
       "11     31123702          202109   1              0           0       \n",
       "12     31123830          202109   1              0           0       \n",
       "13     31124501          202109   1              0           0       \n",
       "14     31124827          202109   1              0           0       \n",
       "15     31125498          202109   1              0           0       \n",
       "16     31125518          202109   1              0           0       \n",
       "17     31126001          202109   1              0           0       \n",
       "18     31126199          202109   1              0           0       \n",
       "19     31126633          202109   1              0           0       \n",
       "20     31127136          202109   1              0           0       \n",
       "21     31127195          202109   1              0           0       \n",
       "22     31129377          202109   1              0           0       \n",
       "23     31130581          202109   1              0           0       \n",
       "24     31131104          202109   1              0           0       \n",
       "25     31132831          202109   1              0           0       \n",
       "26     31132989          202109   1              0           0       \n",
       "27     31133028          202109   1              0           0       \n",
       "28     31133769          202109   1              0           0       \n",
       "29     31133788          202109   1              0           0       \n",
       "30     31133818          202109   1              0           0       \n",
       "⋮      ⋮                 ⋮        ⋮              ⋮           ⋮       \n",
       "165208 214662165         202109   0              0           0       \n",
       "165209 214663043         202109   1              0           0       \n",
       "165210 214663340         202109   1              0           0       \n",
       "165211 214663428         202109   1              0           0       \n",
       "165212 214665787         202109   0              0           0       \n",
       "165213 214666202         202109   1              0           0       \n",
       "165214 214677423         202109   0              0           0       \n",
       "165215 214687856         202109   1              0           0       \n",
       "165216 214694024         202109   1              0           0       \n",
       "165217 214707703         202109   1              0           0       \n",
       "165218 214710546         202109   0              0           0       \n",
       "165219 214721787         202109   1              0           0       \n",
       "165220 214724936         202109   1              0           0       \n",
       "165221 214729140         202109   1              0           0       \n",
       "165222 214729673         202109   0              0           0       \n",
       "165223 214738852         202109   0              0           0       \n",
       "165224 214740263         202109   0              0           0       \n",
       "165225 214745168         202109   1              0           0       \n",
       "165226 214749857         202109   0              0           0       \n",
       "165227 214758966         202109   1              0           0       \n",
       "165228 214767247         202109   1              0           0       \n",
       "165229 214774866         202109   1              0           0       \n",
       "165230 214774985         202109   0              0           0       \n",
       "165231 214782860         202109   1              0           0       \n",
       "165232 214787203         202109   0              0           0       \n",
       "165233 214798593         202109   1              0           0       \n",
       "165234 214799441         202109   0              0           0       \n",
       "165235 214802679         202109   0              0           0       \n",
       "165236 214810851         202109   0              0           0       \n",
       "165237 214812173         202109   0              0           0       \n",
       "       cliente_edad cliente_antiguedad mrentabilidad mrentabilidad_annual\n",
       "1      50           203                41525.30      188951.41           \n",
       "2      59           328                 5961.42       57782.14           \n",
       "3      68           274                 1532.46       18774.56           \n",
       "4      80           328                11616.59       68163.98           \n",
       "5      60           263                 2534.68       41647.70           \n",
       "6      71           381                12307.04       64530.24           \n",
       "7      68           328                 2560.48       20620.47           \n",
       "8      46           313                -1535.85       -3274.82           \n",
       "9      66           328                36725.22      464598.82           \n",
       "10     59           272                 3380.83       55633.31           \n",
       "11     61           328                -2050.31       24890.28           \n",
       "12     50            95                 9286.95       94196.08           \n",
       "13     50           151                 -896.37      -10641.45           \n",
       "14     69           291                 4041.92       82622.53           \n",
       "15     73           294                  177.76      -11260.87           \n",
       "16     66           277                18142.96      179111.49           \n",
       "17     48           180                 3765.95       28961.83           \n",
       "18     56            33                25977.17      162207.70           \n",
       "19     82           282                  413.56       -1601.37           \n",
       "20     53           269                 1238.40       15566.50           \n",
       "21     53            34                18608.09      111713.56           \n",
       "22     57           269                -4260.59        -544.41           \n",
       "23     63           328                28149.09      244931.93           \n",
       "24     66           381                  268.76        3942.23           \n",
       "25     54           288                  144.91        3805.35           \n",
       "26     52           128                 5114.88       33897.84           \n",
       "27     41           139                -1782.38      -27361.13           \n",
       "28     63           317                 2966.44       56522.35           \n",
       "29     73           328                 2824.49       24294.36           \n",
       "30     60             8                 4124.56       10016.17           \n",
       "⋮      ⋮            ⋮                  ⋮             ⋮                   \n",
       "165208 24           1                    51.51         51.51             \n",
       "165209 35           1                    30.75         30.75             \n",
       "165210 24           1                     0.43          0.43             \n",
       "165211 41           1                    70.79         70.79             \n",
       "165212 27           1                     1.04          1.04             \n",
       "165213 28           1                    22.82         22.82             \n",
       "165214 29           1                     0.00          0.00             \n",
       "165215 25           1                    30.14         30.14             \n",
       "165216 29           1                   141.65        141.65             \n",
       "165217 27           1                     0.04          0.04             \n",
       "165218 39           1                     0.00          0.00             \n",
       "165219 35           1                   453.92        453.92             \n",
       "165220 35           1                   -48.06        -48.06             \n",
       "165221 34           1                  1140.89       1140.89             \n",
       "165222 25           1                     0.00          0.00             \n",
       "165223 40           1                     0.00          0.00             \n",
       "165224 29           1                     1.04          1.04             \n",
       "165225 50           1                   501.12        501.12             \n",
       "165226 26           1                     0.00          0.00             \n",
       "165227 28           1                     0.50          0.50             \n",
       "165228 44           1                     0.12          0.12             \n",
       "165229 45           1                    95.43         95.43             \n",
       "165230 33           1                     0.00          0.00             \n",
       "165231 29           1                    61.45         61.45             \n",
       "165232 35           1                     0.00          0.00             \n",
       "165233 31           1                    53.80         53.80             \n",
       "165234 31           1                     0.00          0.00             \n",
       "165235 51           1                     0.53          0.53             \n",
       "165236 31           1                     0.00          0.00             \n",
       "165237 38           1                     0.00          0.00             \n",
       "       mcomisiones ⋯ Visa_fultimo_cierre Visa_mpagado Visa_mpagospesos\n",
       "1       3514.62    ⋯  8                       0.00     -76245.00      \n",
       "2       7482.82    ⋯  1                       0.00     -52153.67      \n",
       "3        591.47    ⋯ 22                    5278.50      -4222.80      \n",
       "4       9334.79    ⋯  1                       0.00     -19973.38      \n",
       "5       1202.43    ⋯ 22                  169048.71    -131667.60      \n",
       "6      12519.64    ⋯  8                       0.00     -14304.10      \n",
       "7       1973.17    ⋯  1                       0.00      -4119.45      \n",
       "8       1302.38    ⋯  8                       0.00    -119974.44      \n",
       "9       2924.76    ⋯  8                    3526.91      -3599.39      \n",
       "10      2625.15    ⋯  1                       0.00    -103116.89      \n",
       "11       752.01    ⋯ 22                   49026.54     -38450.94      \n",
       "12      3426.54    ⋯  1                       0.00    -135708.25      \n",
       "13       843.15    ⋯  1                       0.00     -55712.49      \n",
       "14      3488.07    ⋯ NA                         NA            NA      \n",
       "15      3005.31    ⋯  1                       0.00     -45422.67      \n",
       "16      4390.57    ⋯  1                       0.00    -152496.41      \n",
       "17      1972.76    ⋯  1                       0.00     -10592.00      \n",
       "18      3453.46    ⋯  1                       0.00      -2306.78      \n",
       "19      1714.26    ⋯  1                       0.00     -73716.91      \n",
       "20       388.39    ⋯  8                       0.00      -7190.90      \n",
       "21      8537.84    ⋯  1                       0.00    -223045.12      \n",
       "22      1185.08    ⋯  1                       0.00     -41491.68      \n",
       "23      4762.33    ⋯  8                  108233.81     -91049.55      \n",
       "24      2554.54    ⋯ 22                   60493.45     -50111.76      \n",
       "25       180.65    ⋯  8                    3901.15      -9048.00      \n",
       "26      2523.81    ⋯  8                       0.00     -47943.61      \n",
       "27      1957.70    ⋯  8                       0.00     -34491.38      \n",
       "28       330.56    ⋯  1                       0.00            NA      \n",
       "29      2509.99    ⋯ 22                   16422.00     -12433.80      \n",
       "30      5204.46    ⋯  1                       0.00     -27321.98      \n",
       "⋮      ⋮           ⋱ ⋮                   ⋮            ⋮               \n",
       "165208   0.00      ⋯  1                     0               NA        \n",
       "165209   0.00      ⋯  1                     0               NA        \n",
       "165210   0.00      ⋯  1                     0               NA        \n",
       "165211   0.00      ⋯  1                     0               NA        \n",
       "165212   0.00      ⋯  1                     0               NA        \n",
       "165213   0.00      ⋯  1                     0               NA        \n",
       "165214   0.00      ⋯  1                     0               NA        \n",
       "165215  22.31      ⋯  1                     0             0.00        \n",
       "165216  63.85      ⋯  8                     0               NA        \n",
       "165217   0.00      ⋯  1                     0               NA        \n",
       "165218   0.00      ⋯  1                     0               NA        \n",
       "165219 822.16      ⋯  1                     0             0.00        \n",
       "165220   0.00      ⋯  1                  2346         -8363.49        \n",
       "165221   0.00      ⋯  8                     0             0.00        \n",
       "165222   0.00      ⋯  8                     0               NA        \n",
       "165223   0.00      ⋯  1                     0               NA        \n",
       "165224   0.00      ⋯  1                     0               NA        \n",
       "165225   0.00      ⋯  1                     0               NA        \n",
       "165226   0.00      ⋯ NA                     0               NA        \n",
       "165227   0.00      ⋯  1                     0               NA        \n",
       "165228   0.00      ⋯  1                     0               NA        \n",
       "165229  92.59      ⋯  1                     0               NA        \n",
       "165230   0.00      ⋯  8                     0               NA        \n",
       "165231   0.00      ⋯  1                     0               NA        \n",
       "165232   0.00      ⋯ NA                     0               NA        \n",
       "165233   0.00      ⋯  1                     0             0.00        \n",
       "165234   0.00      ⋯  1                     0               NA        \n",
       "165235   0.00      ⋯  1                     0               NA        \n",
       "165236   0.00      ⋯  1                     0               NA        \n",
       "165237   0.00      ⋯  1                     0               NA        \n",
       "       Visa_mpagosdolares Visa_fechaalta Visa_mconsumototal Visa_cconsumos\n",
       "1       0.00              6121           240395.52          95            \n",
       "2      17.59              4272            79827.95          11            \n",
       "3       0.00              8012             2258.29           2            \n",
       "4       0.00              7763            43880.08          12            \n",
       "5       0.00              8010           152292.04          36            \n",
       "6       0.00              8569            10910.35           2            \n",
       "7       0.00              8800             4551.24           3            \n",
       "8       0.00              8541            99033.71          53            \n",
       "9       0.00              8477             3425.16           1            \n",
       "10      0.00              4690           145055.59          41            \n",
       "11      0.00              8110            10125.59          17            \n",
       "12      0.00              2866           117734.01          13            \n",
       "13      1.00              2531            14861.87           3            \n",
       "14        NA                NA                  NA          NA            \n",
       "15      0.00              8950             8761.30           7            \n",
       "16     18.75              7885           182785.05          23            \n",
       "17      0.00              4992            14199.04           4            \n",
       "18      0.00               261                0.00           0            \n",
       "19      0.00              8570            54508.43          12            \n",
       "20      0.00              5519             2664.55           2            \n",
       "21      1.00               959           243797.32          60            \n",
       "22      0.00              5645           138256.77           7            \n",
       "23      0.00              9048            98860.81          19            \n",
       "24      0.00              8193            39414.92          19            \n",
       "25      0.00              3658             8902.24           4            \n",
       "26     22.53              3882            35156.40          18            \n",
       "27     23.72              4181            21925.90          14            \n",
       "28        NA              7554                  NA          NA            \n",
       "29      0.00              7689             4501.48           4            \n",
       "30      1.00               136            49435.17           7            \n",
       "⋮      ⋮                  ⋮              ⋮                  ⋮             \n",
       "165208 NA                  9                   NA           NA            \n",
       "165209 NA                 14                   NA           NA            \n",
       "165210 NA                 11                   NA           NA            \n",
       "165211 NA                 11                   NA           NA            \n",
       "165212 NA                 10                   NA           NA            \n",
       "165213 NA                 10                   NA           NA            \n",
       "165214 NA                  1                   NA           NA            \n",
       "165215  0                 23             11748.32           16            \n",
       "165216 NA                 16                   NA           NA            \n",
       "165217 NA                  4                   NA           NA            \n",
       "165218 NA                  4                   NA           NA            \n",
       "165219  0                 28              3693.63            2            \n",
       "165220  0                 18                 0.00            0            \n",
       "165221  0                 18                 0.00            0            \n",
       "165222 NA                 18                   NA           NA            \n",
       "165223 NA                  9                   NA           NA            \n",
       "165224 NA                 10                   NA           NA            \n",
       "165225 NA                  7                   NA           NA            \n",
       "165226 NA                  2                   NA           NA            \n",
       "165227 NA                  9                   NA           NA            \n",
       "165228 NA                 10                   NA           NA            \n",
       "165229 NA                  2                   NA           NA            \n",
       "165230 NA                 11                   NA           NA            \n",
       "165231 NA                  3                   NA           NA            \n",
       "165232 NA                  3                   NA           NA            \n",
       "165233  0                 23               807.91            2            \n",
       "165234 NA                 11                   NA           NA            \n",
       "165235 NA                  7                   NA           NA            \n",
       "165236 NA                  8                   NA           NA            \n",
       "165237 NA                  2                   NA           NA            \n",
       "       Visa_cadelantosefectivo Visa_mpagominimo clase_ternaria\n",
       "1       0                          0.00                       \n",
       "2       0                      39119.55                       \n",
       "3       0                       1595.28                       \n",
       "4       0                       2240.43                       \n",
       "5       0                       8093.70                       \n",
       "6       0                       1395.87                       \n",
       "7       0                        246.33                       \n",
       "8       0                      13700.64                       \n",
       "9       0                        234.60                       \n",
       "10      0                       8750.58                       \n",
       "11      0                      10169.91                       \n",
       "12      0                       6134.79                       \n",
       "13      0                       2439.84                       \n",
       "14     NA                            NA                       \n",
       "15      0                       4879.68                       \n",
       "16      0                      19389.69                       \n",
       "17      0                        727.26                       \n",
       "18      0                       1126.08                       \n",
       "19      0                       6299.01                       \n",
       "20      0                        926.67                       \n",
       "21      0                      22756.20                       \n",
       "22      0                      16363.35                       \n",
       "23      0                       8293.11                       \n",
       "24      0                       4985.25                       \n",
       "25      0                          0.00                       \n",
       "26      0                       4328.37                       \n",
       "27      0                       6111.33                       \n",
       "28     NA                          0.00                       \n",
       "29      0                       3565.92                       \n",
       "30      0                      53195.55                       \n",
       "⋮      ⋮                       ⋮                ⋮             \n",
       "165208 NA                         0.00                        \n",
       "165209 NA                         0.00                        \n",
       "165210 NA                         0.00                        \n",
       "165211 NA                         0.00                        \n",
       "165212 NA                         0.00                        \n",
       "165213 NA                         0.00                        \n",
       "165214 NA                         0.00                        \n",
       "165215  0                       961.86                        \n",
       "165216 NA                         0.00                        \n",
       "165217 NA                         0.00                        \n",
       "165218 NA                         0.00                        \n",
       "165219  0                       879.75                        \n",
       "165220  0                      5853.27                        \n",
       "165221  0                       868.02                        \n",
       "165222 NA                         0.00                        \n",
       "165223 NA                         0.00                        \n",
       "165224 NA                         0.00                        \n",
       "165225 NA                         0.00                        \n",
       "165226 NA                         0.00                        \n",
       "165227 NA                         0.00                        \n",
       "165228 NA                         0.00                        \n",
       "165229 NA                         0.00                        \n",
       "165230 NA                         0.00                        \n",
       "165231 NA                         0.00                        \n",
       "165232 NA                         0.00                        \n",
       "165233  0                        35.19                        \n",
       "165234 NA                         0.00                        \n",
       "165235 NA                         0.00                        \n",
       "165236 NA                         0.00                        \n",
       "165237 NA                         0.00                        "
      ]
     },
     "metadata": {},
     "output_type": "display_data"
    }
   ],
   "source": [
    "dfuturo"
   ]
  },
  {
   "cell_type": "markdown",
   "metadata": {},
   "source": [
    "cuento la cantidad de lineas del dataset"
   ]
  },
  {
   "cell_type": "code",
   "execution_count": 8,
   "metadata": {
    "tags": []
   },
   "outputs": [
    {
     "data": {
      "text/html": [
       "165237"
      ],
      "text/latex": [
       "165237"
      ],
      "text/markdown": [
       "165237"
      ],
      "text/plain": [
       "[1] 165237"
      ]
     },
     "metadata": {},
     "output_type": "display_data"
    }
   ],
   "source": [
    "nrow( dfuturo )"
   ]
  },
  {
   "cell_type": "markdown",
   "metadata": {},
   "source": [
    "Creo un vector que sean los  ids"
   ]
  },
  {
   "cell_type": "code",
   "execution_count": 9,
   "metadata": {
    "tags": []
   },
   "outputs": [],
   "source": [
    "vector_ids  <-   dfuturo[ , numero_de_cliente]"
   ]
  },
  {
   "cell_type": "code",
   "execution_count": 10,
   "metadata": {
    "tags": []
   },
   "outputs": [
    {
     "data": {
      "text/html": [
       "<style>\n",
       ".list-inline {list-style: none; margin:0; padding: 0}\n",
       ".list-inline>li {display: inline-block}\n",
       ".list-inline>li:not(:last-child)::after {content: \"\\00b7\"; padding: 0 .5ex}\n",
       "</style>\n",
       "<ol class=list-inline><li>31116053</li><li>31116803</li><li>31117730</li><li>31117908</li><li>31117977</li><li>31120119</li></ol>\n"
      ],
      "text/latex": [
       "\\begin{enumerate*}\n",
       "\\item 31116053\n",
       "\\item 31116803\n",
       "\\item 31117730\n",
       "\\item 31117908\n",
       "\\item 31117977\n",
       "\\item 31120119\n",
       "\\end{enumerate*}\n"
      ],
      "text/markdown": [
       "1. 31116053\n",
       "2. 31116803\n",
       "3. 31117730\n",
       "4. 31117908\n",
       "5. 31117977\n",
       "6. 31120119\n",
       "\n",
       "\n"
      ],
      "text/plain": [
       "[1] 31116053 31116803 31117730 31117908 31117977 31120119"
      ]
     },
     "metadata": {},
     "output_type": "display_data"
    }
   ],
   "source": [
    "head( vector_ids)"
   ]
  },
  {
   "cell_type": "markdown",
   "metadata": {},
   "source": [
    "Creo un vector de todos unos, con la cantidad de registros que tiene dfuturo\n",
    "<br>\n",
    "utilizo la instruccion  **rep()**  de R  https://www.rdocumentation.org/packages/base/versions/3.6.2/topics/rep"
   ]
  },
  {
   "cell_type": "code",
   "execution_count": 11,
   "metadata": {
    "tags": []
   },
   "outputs": [],
   "source": [
    "vector_enviar <-  rep( 1,  nrow( dfuturo))"
   ]
  },
  {
   "cell_type": "code",
   "execution_count": 12,
   "metadata": {
    "tags": []
   },
   "outputs": [
    {
     "data": {
      "text/html": [
       "<style>\n",
       ".list-inline {list-style: none; margin:0; padding: 0}\n",
       ".list-inline>li {display: inline-block}\n",
       ".list-inline>li:not(:last-child)::after {content: \"\\00b7\"; padding: 0 .5ex}\n",
       "</style>\n",
       "<ol class=list-inline><li>1</li><li>1</li><li>1</li><li>1</li><li>1</li><li>1</li></ol>\n"
      ],
      "text/latex": [
       "\\begin{enumerate*}\n",
       "\\item 1\n",
       "\\item 1\n",
       "\\item 1\n",
       "\\item 1\n",
       "\\item 1\n",
       "\\item 1\n",
       "\\end{enumerate*}\n"
      ],
      "text/markdown": [
       "1. 1\n",
       "2. 1\n",
       "3. 1\n",
       "4. 1\n",
       "5. 1\n",
       "6. 1\n",
       "\n",
       "\n"
      ],
      "text/plain": [
       "[1] 1 1 1 1 1 1"
      ]
     },
     "metadata": {},
     "output_type": "display_data"
    }
   ],
   "source": [
    "head( vector_enviar )"
   ]
  },
  {
   "cell_type": "code",
   "execution_count": 13,
   "metadata": {
    "tags": []
   },
   "outputs": [
    {
     "data": {
      "text/html": [
       "165237"
      ],
      "text/latex": [
       "165237"
      ],
      "text/markdown": [
       "165237"
      ],
      "text/plain": [
       "[1] 165237"
      ]
     },
     "metadata": {},
     "output_type": "display_data"
    }
   ],
   "source": [
    "length( vector_enviar)"
   ]
  },
  {
   "cell_type": "markdown",
   "metadata": {},
   "source": [
    "Excelente, tiene tantos unos como registros tiene dfuturo"
   ]
  },
  {
   "cell_type": "markdown",
   "metadata": {},
   "source": [
    "creo una tabla con  lo que voy a enviar a Kaggle"
   ]
  },
  {
   "cell_type": "code",
   "execution_count": 14,
   "metadata": {
    "tags": []
   },
   "outputs": [],
   "source": [
    "tabla_final  <-   as.data.table(  list(  \"numero_de_cliente\"= vector_ids,\n",
    "                                         \"Predicted\"=         vector_enviar))"
   ]
  },
  {
   "cell_type": "code",
   "execution_count": 15,
   "metadata": {
    "tags": []
   },
   "outputs": [
    {
     "data": {
      "text/html": [
       "<table class=\"dataframe\">\n",
       "<caption>A data.table: 6 × 2</caption>\n",
       "<thead>\n",
       "\t<tr><th scope=col>numero_de_cliente</th><th scope=col>Predicted</th></tr>\n",
       "\t<tr><th scope=col>&lt;int&gt;</th><th scope=col>&lt;dbl&gt;</th></tr>\n",
       "</thead>\n",
       "<tbody>\n",
       "\t<tr><td>31116053</td><td>1</td></tr>\n",
       "\t<tr><td>31116803</td><td>1</td></tr>\n",
       "\t<tr><td>31117730</td><td>1</td></tr>\n",
       "\t<tr><td>31117908</td><td>1</td></tr>\n",
       "\t<tr><td>31117977</td><td>1</td></tr>\n",
       "\t<tr><td>31120119</td><td>1</td></tr>\n",
       "</tbody>\n",
       "</table>\n"
      ],
      "text/latex": [
       "A data.table: 6 × 2\n",
       "\\begin{tabular}{ll}\n",
       " numero\\_de\\_cliente & Predicted\\\\\n",
       " <int> & <dbl>\\\\\n",
       "\\hline\n",
       "\t 31116053 & 1\\\\\n",
       "\t 31116803 & 1\\\\\n",
       "\t 31117730 & 1\\\\\n",
       "\t 31117908 & 1\\\\\n",
       "\t 31117977 & 1\\\\\n",
       "\t 31120119 & 1\\\\\n",
       "\\end{tabular}\n"
      ],
      "text/markdown": [
       "\n",
       "A data.table: 6 × 2\n",
       "\n",
       "| numero_de_cliente &lt;int&gt; | Predicted &lt;dbl&gt; |\n",
       "|---|---|\n",
       "| 31116053 | 1 |\n",
       "| 31116803 | 1 |\n",
       "| 31117730 | 1 |\n",
       "| 31117908 | 1 |\n",
       "| 31117977 | 1 |\n",
       "| 31120119 | 1 |\n",
       "\n"
      ],
      "text/plain": [
       "  numero_de_cliente Predicted\n",
       "1 31116053          1        \n",
       "2 31116803          1        \n",
       "3 31117730          1        \n",
       "4 31117908          1        \n",
       "5 31117977          1        \n",
       "6 31120119          1        "
      ]
     },
     "metadata": {},
     "output_type": "display_data"
    }
   ],
   "source": [
    "head( tabla_final)"
   ]
  },
  {
   "cell_type": "code",
   "execution_count": 16,
   "metadata": {
    "tags": []
   },
   "outputs": [],
   "source": [
    "#genero el archivo para Kaggle\n",
    "#creo la carpeta donde va el experimento\n",
    "dir.create( \"./exp/\",  showWarnings = FALSE ) \n",
    "dir.create( \"./exp/ZH2016/\", showWarnings = FALSE )\n",
    "\n",
    "#genero el archivo para Kaggle\n",
    "fwrite(tabla_final, \n",
    "        file= \"./exp/ZH2016/todos_unos.csv\",\n",
    "        sep=  \",\" )"
   ]
  },
  {
   "cell_type": "markdown",
   "metadata": {},
   "source": [
    "Subo el archivo a Kaggle y me fijo cuanta ganancia me da en el Public Leaderboard"
   ]
  },
  {
   "cell_type": "markdown",
   "metadata": {},
   "source": [
    "da una ganancia de **-368.11331**   ( menos 368 millones )"
   ]
  },
  {
   "cell_type": "markdown",
   "metadata": {},
   "source": [
    "### el hackeo"
   ]
  },
  {
   "cell_type": "markdown",
   "metadata": {},
   "source": [
    "Ahora pasamos a calcular la cantidad de BAJA+2  que hay en los datos de septiembre-2021,  hackeamos Kaggle"
   ]
  },
  {
   "cell_type": "markdown",
   "metadata": {},
   "source": [
    "Tengo dos incognitas, por un lado lo que llamo POS , los positivos, las \"BAJA+2\"\n",
    "<br>\n",
    "Por otro lado, lo que llamo NEG, los negativos,  los \"BAJA+1\" y \"CONTINUA\""
   ]
  },
  {
   "cell_type": "markdown",
   "metadata": {},
   "source": [
    "Se que se cumplen estas dos cosas:\n",
    "* POS + NEG = 165237\n",
    "* 117000\\*POS - 3000\\*NEG =-368113310"
   ]
  },
  {
   "cell_type": "markdown",
   "metadata": {},
   "source": [
    "Es un sistema de dos ecuaciones con dos incógnitas, has multiples formas de resolverlo, la primera sería despejar POS.\n",
    "<br>\n",
    "pero utilizamos esta página  https://keisan.casio.com/exec/system/14013211335541"
   ]
  },
  {
   "cell_type": "markdown",
   "metadata": {},
   "source": [
    "Al correrlo obtenemos que  POS = 1063, o sea **las BAJA+2  de 202109  son  1063**"
   ]
  },
  {
   "cell_type": "markdown",
   "metadata": {},
   "source": [
    "¿Qué nos dicen estas 1063 BAJA+2 de septiembre del 2021? ¿Explican algo?\n",
    "<br>\n",
    "Las BAJA+2 que hay en julio del 2021 son  1268\n",
    "<br>\n",
    "1268 > 1063\n",
    "<br>\n",
    "Con lo cual es de esperar mayores ganancias de los modelos predictivos en 202107  que en 202109,  va a irnos PEOR en el Public Leaderboard que en nuestros traning/testing."
   ]
  }
 ],
 "metadata": {
  "kernelspec": {
   "display_name": "R",
   "language": "R",
   "name": "ir"
  },
  "language_info": {
   "codemirror_mode": "r",
   "file_extension": ".r",
   "mimetype": "text/x-r-source",
   "name": "R",
   "pygments_lexer": "r",
   "version": "4.2.3"
  }
 },
 "nbformat": 4,
 "nbformat_minor": 4
}
