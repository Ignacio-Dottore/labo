{
 "cells": [
  {
   "cell_type": "markdown",
   "metadata": {},
   "source": [
    "# Zero to Hero"
   ]
  },
  {
   "cell_type": "markdown",
   "metadata": {},
   "source": [
    "## 1.02  Carga del dataset desde la nube y operaciones básicas"
   ]
  },
  {
   "cell_type": "markdown",
   "metadata": {},
   "source": [
    "Se muestra una alternativa a cargar el dataset directamente desde la nube, que funciona desde Kaggle, Google Colab\n",
    "<br>\n",
    "Si se está corriendo desde la PC local, siempre es preferible cargar el archivo del disco local."
   ]
  },
  {
   "cell_type": "code",
   "execution_count": 58,
   "metadata": {
    "tags": []
   },
   "outputs": [],
   "source": [
    "library( \"data.table\")   #cargo la libreria  data.table"
   ]
  },
  {
   "cell_type": "markdown",
   "metadata": {},
   "source": [
    "\"https://storage.googleapis.com/labo2023v/dataset_pequeno.csv\" es el dataset de la Primera Competencia de la asignatura"
   ]
  },
  {
   "cell_type": "code",
   "execution_count": 59,
   "metadata": {
    "tags": []
   },
   "outputs": [],
   "source": [
    "dataset <- fread( \"https://storage.googleapis.com/labo2023v/dataset_pequeno.csv\")"
   ]
  },
  {
   "cell_type": "markdown",
   "metadata": {},
   "source": [
    "Obviamente ahora el leer el archivo demora bastante, ya que se está bajando por internet, están viajando 160MB"
   ]
  },
  {
   "cell_type": "code",
   "execution_count": 60,
   "metadata": {
    "tags": []
   },
   "outputs": [
    {
     "data": {
      "text/html": [
       "<table class=\"dataframe\">\n",
       "<caption>A data.table: 329919 × 155</caption>\n",
       "<thead>\n",
       "\t<tr><th scope=col>numero_de_cliente</th><th scope=col>foto_mes</th><th scope=col>active_quarter</th><th scope=col>cliente_vip</th><th scope=col>internet</th><th scope=col>cliente_edad</th><th scope=col>cliente_antiguedad</th><th scope=col>mrentabilidad</th><th scope=col>mrentabilidad_annual</th><th scope=col>mcomisiones</th><th scope=col>⋯</th><th scope=col>Visa_fultimo_cierre</th><th scope=col>Visa_mpagado</th><th scope=col>Visa_mpagospesos</th><th scope=col>Visa_mpagosdolares</th><th scope=col>Visa_fechaalta</th><th scope=col>Visa_mconsumototal</th><th scope=col>Visa_cconsumos</th><th scope=col>Visa_cadelantosefectivo</th><th scope=col>Visa_mpagominimo</th><th scope=col>clase_ternaria</th></tr>\n",
       "\t<tr><th scope=col>&lt;int&gt;</th><th scope=col>&lt;int&gt;</th><th scope=col>&lt;int&gt;</th><th scope=col>&lt;int&gt;</th><th scope=col>&lt;int&gt;</th><th scope=col>&lt;int&gt;</th><th scope=col>&lt;int&gt;</th><th scope=col>&lt;dbl&gt;</th><th scope=col>&lt;dbl&gt;</th><th scope=col>&lt;dbl&gt;</th><th scope=col>⋯</th><th scope=col>&lt;int&gt;</th><th scope=col>&lt;dbl&gt;</th><th scope=col>&lt;dbl&gt;</th><th scope=col>&lt;dbl&gt;</th><th scope=col>&lt;int&gt;</th><th scope=col>&lt;dbl&gt;</th><th scope=col>&lt;int&gt;</th><th scope=col>&lt;int&gt;</th><th scope=col>&lt;dbl&gt;</th><th scope=col>&lt;chr&gt;</th></tr>\n",
       "</thead>\n",
       "<tbody>\n",
       "\t<tr><td>31116053</td><td>202107</td><td>1</td><td>0</td><td>0</td><td>50</td><td>201</td><td>13073.36</td><td>161035.99</td><td>3163.52</td><td>⋯</td><td>10</td><td>     0.00</td><td> -82110.00</td><td> 0.00</td><td>6060</td><td>121585.39</td><td>75</td><td> 0</td><td>77617.41</td><td>CONTINUA</td></tr>\n",
       "\t<tr><td>31116803</td><td>202107</td><td>1</td><td>0</td><td>0</td><td>59</td><td>326</td><td> 2640.48</td><td> 56751.51</td><td>5232.22</td><td>⋯</td><td> 3</td><td>     0.00</td><td> -85347.94</td><td>17.59</td><td>4211</td><td> 21596.40</td><td> 7</td><td> 0</td><td> 4938.33</td><td>CONTINUA</td></tr>\n",
       "\t<tr><td>31117730</td><td>202107</td><td>1</td><td>0</td><td>0</td><td>68</td><td>272</td><td> 1343.51</td><td> 20201.31</td><td> 582.94</td><td>⋯</td><td>24</td><td>  4692.00</td><td>  -4692.00</td><td> 0.00</td><td>7951</td><td>  1529.02</td><td> 2</td><td> 0</td><td> 1407.60</td><td>CONTINUA</td></tr>\n",
       "\t<tr><td>31117908</td><td>202107</td><td>1</td><td>0</td><td>0</td><td>80</td><td>326</td><td> 5523.19</td><td> 55827.28</td><td>2712.26</td><td>⋯</td><td> 3</td><td>     0.00</td><td> -26420.00</td><td> 0.00</td><td>7702</td><td> 12815.99</td><td> 8</td><td> 0</td><td>  856.29</td><td>CONTINUA</td></tr>\n",
       "\t<tr><td>31117977</td><td>202107</td><td>1</td><td>0</td><td>0</td><td>60</td><td>261</td><td> 4819.35</td><td> 37386.40</td><td>1878.40</td><td>⋯</td><td>24</td><td>174063.72</td><td>-160642.13</td><td>12.89</td><td>7949</td><td>157186.12</td><td>27</td><td> 0</td><td> 9548.22</td><td>CONTINUA</td></tr>\n",
       "\t<tr><td>31120119</td><td>202107</td><td>1</td><td>0</td><td>0</td><td>71</td><td>379</td><td> 1374.50</td><td> 55964.94</td><td>1561.94</td><td>⋯</td><td>10</td><td>     0.00</td><td> -10424.07</td><td> 0.00</td><td>8508</td><td>  9831.19</td><td> 2</td><td> 0</td><td>  656.88</td><td>CONTINUA</td></tr>\n",
       "\t<tr><td>31121017</td><td>202107</td><td>1</td><td>0</td><td>0</td><td>67</td><td>326</td><td> 2579.35</td><td> 18260.09</td><td>1958.62</td><td>⋯</td><td> 3</td><td>     0.00</td><td>  -4048.02</td><td> 0.00</td><td>8739</td><td>  3988.20</td><td> 3</td><td> 0</td><td>  211.14</td><td>CONTINUA</td></tr>\n",
       "\t<tr><td>31121264</td><td>202107</td><td>1</td><td>0</td><td>0</td><td>46</td><td>311</td><td>-1451.10</td><td> -5036.02</td><td>2348.34</td><td>⋯</td><td>10</td><td> 30480.40</td><td>-140760.00</td><td> 0.00</td><td>8480</td><td> 62938.18</td><td>49</td><td> 0</td><td>14193.30</td><td>CONTINUA</td></tr>\n",
       "\t<tr><td>31121718</td><td>202107</td><td>1</td><td>0</td><td>0</td><td>66</td><td>326</td><td>37560.90</td><td>478240.90</td><td>2827.01</td><td>⋯</td><td>10</td><td>  3873.57</td><td>  -3075.19</td><td> 0.00</td><td>8416</td><td>  3761.81</td><td> 1</td><td> 0</td><td>  258.06</td><td>CONTINUA</td></tr>\n",
       "\t<tr><td>31122951</td><td>202107</td><td>1</td><td>0</td><td>0</td><td>59</td><td>270</td><td> 4119.31</td><td> 60639.40</td><td>1959.26</td><td>⋯</td><td> 3</td><td>     0.00</td><td> -78615.19</td><td> 0.00</td><td>4629</td><td> 92695.38</td><td>29</td><td> 0</td><td> 9876.66</td><td>CONTINUA</td></tr>\n",
       "\t<tr><td>31123702</td><td>202107</td><td>1</td><td>0</td><td>0</td><td>61</td><td>326</td><td> 1786.16</td><td> 32792.93</td><td>1126.77</td><td>⋯</td><td>24</td><td> 37117.10</td><td> -20938.05</td><td> 0.00</td><td>8049</td><td>  6126.47</td><td> 9</td><td> 0</td><td> 6568.80</td><td>CONTINUA</td></tr>\n",
       "\t<tr><td>31123830</td><td>202107</td><td>1</td><td>0</td><td>0</td><td>50</td><td> 93</td><td> 7481.87</td><td> 95115.12</td><td>2785.35</td><td>⋯</td><td> 3</td><td>     0.00</td><td>-228815.90</td><td> 0.00</td><td>2805</td><td> 76937.08</td><td>10</td><td> 0</td><td> 4832.76</td><td>CONTINUA</td></tr>\n",
       "\t<tr><td>31124501</td><td>202107</td><td>1</td><td>0</td><td>0</td><td>50</td><td>149</td><td>-1325.67</td><td>-11929.57</td><td> 466.83</td><td>⋯</td><td> 3</td><td>     0.00</td><td> -31196.68</td><td> 1.00</td><td>2470</td><td> 22846.74</td><td> 4</td><td> 0</td><td> 3519.00</td><td>CONTINUA</td></tr>\n",
       "\t<tr><td>31124827</td><td>202107</td><td>1</td><td>0</td><td>0</td><td>69</td><td>289</td><td> 2838.41</td><td> 81556.91</td><td>2300.35</td><td>⋯</td><td>NA</td><td>       NA</td><td>        NA</td><td>   NA</td><td>  NA</td><td>       NA</td><td>NA</td><td>NA</td><td>      NA</td><td>CONTINUA</td></tr>\n",
       "\t<tr><td>31125498</td><td>202107</td><td>1</td><td>0</td><td>0</td><td>73</td><td>292</td><td>   78.83</td><td> -9142.87</td><td>2750.21</td><td>⋯</td><td> 3</td><td>     0.00</td><td> -36128.40</td><td> 0.00</td><td>8889</td><td>  8270.70</td><td>11</td><td> 0</td><td>  727.26</td><td>CONTINUA</td></tr>\n",
       "\t<tr><td>31125518</td><td>202107</td><td>1</td><td>0</td><td>0</td><td>66</td><td>275</td><td>11234.68</td><td>163437.25</td><td>3999.28</td><td>⋯</td><td> 3</td><td>     0.00</td><td>-182105.27</td><td>18.75</td><td>7824</td><td> 64127.07</td><td>18</td><td> 0</td><td> 9125.94</td><td>CONTINUA</td></tr>\n",
       "\t<tr><td>31126001</td><td>202107</td><td>1</td><td>0</td><td>0</td><td>48</td><td>178</td><td> 3299.36</td><td> 27041.55</td><td> 735.17</td><td>⋯</td><td> 3</td><td>     0.00</td><td> -12316.96</td><td> 0.00</td><td>4931</td><td>  4640.41</td><td> 3</td><td> 0</td><td>  527.85</td><td>CONTINUA</td></tr>\n",
       "\t<tr><td>31126199</td><td>202107</td><td>1</td><td>0</td><td>0</td><td>56</td><td> 31</td><td>15973.93</td><td>124363.41</td><td>2116.80</td><td>⋯</td><td> 3</td><td>     0.00</td><td>  -2306.78</td><td> 0.00</td><td> 200</td><td>     0.00</td><td> 0</td><td> 0</td><td>  246.33</td><td>CONTINUA</td></tr>\n",
       "\t<tr><td>31126633</td><td>202107</td><td>1</td><td>0</td><td>0</td><td>82</td><td>280</td><td> -388.88</td><td>   405.81</td><td>1463.51</td><td>⋯</td><td> 3</td><td>     0.00</td><td> -59845.25</td><td> 0.00</td><td>8509</td><td> 55816.29</td><td>15</td><td> 0</td><td> 5759.43</td><td>CONTINUA</td></tr>\n",
       "\t<tr><td>31127136</td><td>202107</td><td>1</td><td>0</td><td>0</td><td>52</td><td>267</td><td> 2423.98</td><td> 14761.00</td><td> 286.47</td><td>⋯</td><td>10</td><td>     0.00</td><td> -10475.78</td><td> 0.00</td><td>5458</td><td>  7143.65</td><td> 3</td><td> 0</td><td> 1372.41</td><td>CONTINUA</td></tr>\n",
       "\t<tr><td>31127195</td><td>202107</td><td>1</td><td>0</td><td>0</td><td>53</td><td> 32</td><td>12545.08</td><td> 88343.11</td><td>8143.71</td><td>⋯</td><td> 3</td><td>     0.00</td><td>-166635.68</td><td>27.65</td><td> 898</td><td> 98532.00</td><td>45</td><td> 0</td><td>12656.67</td><td>CONTINUA</td></tr>\n",
       "\t<tr><td>31128656</td><td>202107</td><td>1</td><td>0</td><td>0</td><td>53</td><td> 61</td><td> 1918.53</td><td> 17495.50</td><td>1910.64</td><td>⋯</td><td> 3</td><td>     0.00</td><td>        NA</td><td>   NA</td><td>1854</td><td>       NA</td><td>NA</td><td>NA</td><td>    0.00</td><td>BAJA+1  </td></tr>\n",
       "\t<tr><td>31129377</td><td>202107</td><td>1</td><td>0</td><td>0</td><td>57</td><td>267</td><td>-3431.54</td><td>  8723.57</td><td> 959.97</td><td>⋯</td><td> 3</td><td>     0.00</td><td> -68419.01</td><td> 0.00</td><td>5584</td><td> 21125.70</td><td> 5</td><td> 0</td><td>10639.11</td><td>CONTINUA</td></tr>\n",
       "\t<tr><td>31130581</td><td>202107</td><td>1</td><td>0</td><td>0</td><td>63</td><td>326</td><td>18024.51</td><td>232836.73</td><td>4305.22</td><td>⋯</td><td>10</td><td>     0.00</td><td>-112541.32</td><td> 0.00</td><td>8987</td><td> 76955.25</td><td>15</td><td> 0</td><td> 7425.09</td><td>CONTINUA</td></tr>\n",
       "\t<tr><td>31131104</td><td>202107</td><td>1</td><td>0</td><td>0</td><td>66</td><td>379</td><td>  401.42</td><td>  2451.08</td><td>1961.04</td><td>⋯</td><td>24</td><td> 50928.70</td><td> -47190.83</td><td> 0.00</td><td>8132</td><td> 32908.24</td><td>21</td><td> 0</td><td> 4621.62</td><td>CONTINUA</td></tr>\n",
       "\t<tr><td>31132831</td><td>202107</td><td>1</td><td>0</td><td>0</td><td>54</td><td>286</td><td>  689.79</td><td>  3462.12</td><td> 462.10</td><td>⋯</td><td>10</td><td>  2228.70</td><td> -17828.93</td><td> 0.00</td><td>3597</td><td> 15561.11</td><td> 5</td><td> 0</td><td>    0.00</td><td>CONTINUA</td></tr>\n",
       "\t<tr><td>31132989</td><td>202107</td><td>1</td><td>0</td><td>0</td><td>51</td><td>126</td><td> 5079.82</td><td> 32063.65</td><td>2542.57</td><td>⋯</td><td>10</td><td>     0.00</td><td> -49505.92</td><td>20.15</td><td>3821</td><td> 28788.78</td><td>12</td><td> 0</td><td> 4211.07</td><td>CONTINUA</td></tr>\n",
       "\t<tr><td>31133028</td><td>202107</td><td>1</td><td>0</td><td>0</td><td>41</td><td>137</td><td>-2971.09</td><td>-24176.96</td><td>1025.20</td><td>⋯</td><td>10</td><td>     0.00</td><td> -19951.81</td><td> 0.00</td><td>4120</td><td> 17418.90</td><td>10</td><td> 0</td><td> 2346.00</td><td>CONTINUA</td></tr>\n",
       "\t<tr><td>31133769</td><td>202107</td><td>1</td><td>0</td><td>0</td><td>63</td><td>315</td><td> 3477.42</td><td> 56685.69</td><td> 472.05</td><td>⋯</td><td> 3</td><td>     0.00</td><td> -16915.25</td><td> 0.00</td><td>7493</td><td> 11116.52</td><td> 2</td><td> 0</td><td>  574.77</td><td>CONTINUA</td></tr>\n",
       "\t<tr><td>31133788</td><td>202107</td><td>1</td><td>0</td><td>0</td><td>73</td><td>326</td><td> 1705.08</td><td> 23972.20</td><td>2290.82</td><td>⋯</td><td>24</td><td> 13137.60</td><td> -21230.10</td><td> 0.15</td><td>7628</td><td>  4244.98</td><td> 4</td><td> 0</td><td> 2838.66</td><td>CONTINUA</td></tr>\n",
       "\t<tr><td>⋮</td><td>⋮</td><td>⋮</td><td>⋮</td><td>⋮</td><td>⋮</td><td>⋮</td><td>⋮</td><td>⋮</td><td>⋮</td><td>⋱</td><td>⋮</td><td>⋮</td><td>⋮</td><td>⋮</td><td>⋮</td><td>⋮</td><td>⋮</td><td>⋮</td><td>⋮</td><td>⋮</td></tr>\n",
       "\t<tr><td>214662165</td><td>202109</td><td>0</td><td>0</td><td>0</td><td>24</td><td>1</td><td>  51.51</td><td>  51.51</td><td>  0.00</td><td>⋯</td><td> 1</td><td>   0</td><td>      NA</td><td>NA</td><td> 9</td><td>      NA</td><td>NA</td><td>NA</td><td>   0.00</td><td></td></tr>\n",
       "\t<tr><td>214663043</td><td>202109</td><td>1</td><td>0</td><td>0</td><td>35</td><td>1</td><td>  30.75</td><td>  30.75</td><td>  0.00</td><td>⋯</td><td> 1</td><td>   0</td><td>      NA</td><td>NA</td><td>14</td><td>      NA</td><td>NA</td><td>NA</td><td>   0.00</td><td></td></tr>\n",
       "\t<tr><td>214663340</td><td>202109</td><td>1</td><td>0</td><td>0</td><td>24</td><td>1</td><td>   0.43</td><td>   0.43</td><td>  0.00</td><td>⋯</td><td> 1</td><td>   0</td><td>      NA</td><td>NA</td><td>11</td><td>      NA</td><td>NA</td><td>NA</td><td>   0.00</td><td></td></tr>\n",
       "\t<tr><td>214663428</td><td>202109</td><td>1</td><td>0</td><td>0</td><td>41</td><td>1</td><td>  70.79</td><td>  70.79</td><td>  0.00</td><td>⋯</td><td> 1</td><td>   0</td><td>      NA</td><td>NA</td><td>11</td><td>      NA</td><td>NA</td><td>NA</td><td>   0.00</td><td></td></tr>\n",
       "\t<tr><td>214665787</td><td>202109</td><td>0</td><td>0</td><td>0</td><td>27</td><td>1</td><td>   1.04</td><td>   1.04</td><td>  0.00</td><td>⋯</td><td> 1</td><td>   0</td><td>      NA</td><td>NA</td><td>10</td><td>      NA</td><td>NA</td><td>NA</td><td>   0.00</td><td></td></tr>\n",
       "\t<tr><td>214666202</td><td>202109</td><td>1</td><td>0</td><td>0</td><td>28</td><td>1</td><td>  22.82</td><td>  22.82</td><td>  0.00</td><td>⋯</td><td> 1</td><td>   0</td><td>      NA</td><td>NA</td><td>10</td><td>      NA</td><td>NA</td><td>NA</td><td>   0.00</td><td></td></tr>\n",
       "\t<tr><td>214677423</td><td>202109</td><td>0</td><td>0</td><td>0</td><td>29</td><td>1</td><td>   0.00</td><td>   0.00</td><td>  0.00</td><td>⋯</td><td> 1</td><td>   0</td><td>      NA</td><td>NA</td><td> 1</td><td>      NA</td><td>NA</td><td>NA</td><td>   0.00</td><td></td></tr>\n",
       "\t<tr><td>214687856</td><td>202109</td><td>1</td><td>0</td><td>0</td><td>25</td><td>1</td><td>  30.14</td><td>  30.14</td><td> 22.31</td><td>⋯</td><td> 1</td><td>   0</td><td>    0.00</td><td> 0</td><td>23</td><td>11748.32</td><td>16</td><td> 0</td><td> 961.86</td><td></td></tr>\n",
       "\t<tr><td>214694024</td><td>202109</td><td>1</td><td>0</td><td>0</td><td>29</td><td>1</td><td> 141.65</td><td> 141.65</td><td> 63.85</td><td>⋯</td><td> 8</td><td>   0</td><td>      NA</td><td>NA</td><td>16</td><td>      NA</td><td>NA</td><td>NA</td><td>   0.00</td><td></td></tr>\n",
       "\t<tr><td>214707703</td><td>202109</td><td>1</td><td>0</td><td>0</td><td>27</td><td>1</td><td>   0.04</td><td>   0.04</td><td>  0.00</td><td>⋯</td><td> 1</td><td>   0</td><td>      NA</td><td>NA</td><td> 4</td><td>      NA</td><td>NA</td><td>NA</td><td>   0.00</td><td></td></tr>\n",
       "\t<tr><td>214710546</td><td>202109</td><td>0</td><td>0</td><td>0</td><td>39</td><td>1</td><td>   0.00</td><td>   0.00</td><td>  0.00</td><td>⋯</td><td> 1</td><td>   0</td><td>      NA</td><td>NA</td><td> 4</td><td>      NA</td><td>NA</td><td>NA</td><td>   0.00</td><td></td></tr>\n",
       "\t<tr><td>214721787</td><td>202109</td><td>1</td><td>0</td><td>0</td><td>35</td><td>1</td><td> 453.92</td><td> 453.92</td><td>822.16</td><td>⋯</td><td> 1</td><td>   0</td><td>    0.00</td><td> 0</td><td>28</td><td> 3693.63</td><td> 2</td><td> 0</td><td> 879.75</td><td></td></tr>\n",
       "\t<tr><td>214724936</td><td>202109</td><td>1</td><td>0</td><td>0</td><td>35</td><td>1</td><td> -48.06</td><td> -48.06</td><td>  0.00</td><td>⋯</td><td> 1</td><td>2346</td><td>-8363.49</td><td> 0</td><td>18</td><td>    0.00</td><td> 0</td><td> 0</td><td>5853.27</td><td></td></tr>\n",
       "\t<tr><td>214729140</td><td>202109</td><td>1</td><td>0</td><td>0</td><td>34</td><td>1</td><td>1140.89</td><td>1140.89</td><td>  0.00</td><td>⋯</td><td> 8</td><td>   0</td><td>    0.00</td><td> 0</td><td>18</td><td>    0.00</td><td> 0</td><td> 0</td><td> 868.02</td><td></td></tr>\n",
       "\t<tr><td>214729673</td><td>202109</td><td>0</td><td>0</td><td>0</td><td>25</td><td>1</td><td>   0.00</td><td>   0.00</td><td>  0.00</td><td>⋯</td><td> 8</td><td>   0</td><td>      NA</td><td>NA</td><td>18</td><td>      NA</td><td>NA</td><td>NA</td><td>   0.00</td><td></td></tr>\n",
       "\t<tr><td>214738852</td><td>202109</td><td>0</td><td>0</td><td>0</td><td>40</td><td>1</td><td>   0.00</td><td>   0.00</td><td>  0.00</td><td>⋯</td><td> 1</td><td>   0</td><td>      NA</td><td>NA</td><td> 9</td><td>      NA</td><td>NA</td><td>NA</td><td>   0.00</td><td></td></tr>\n",
       "\t<tr><td>214740263</td><td>202109</td><td>0</td><td>0</td><td>0</td><td>29</td><td>1</td><td>   1.04</td><td>   1.04</td><td>  0.00</td><td>⋯</td><td> 1</td><td>   0</td><td>      NA</td><td>NA</td><td>10</td><td>      NA</td><td>NA</td><td>NA</td><td>   0.00</td><td></td></tr>\n",
       "\t<tr><td>214745168</td><td>202109</td><td>1</td><td>0</td><td>0</td><td>50</td><td>1</td><td> 501.12</td><td> 501.12</td><td>  0.00</td><td>⋯</td><td> 1</td><td>   0</td><td>      NA</td><td>NA</td><td> 7</td><td>      NA</td><td>NA</td><td>NA</td><td>   0.00</td><td></td></tr>\n",
       "\t<tr><td>214749857</td><td>202109</td><td>0</td><td>0</td><td>0</td><td>26</td><td>1</td><td>   0.00</td><td>   0.00</td><td>  0.00</td><td>⋯</td><td>NA</td><td>   0</td><td>      NA</td><td>NA</td><td> 2</td><td>      NA</td><td>NA</td><td>NA</td><td>   0.00</td><td></td></tr>\n",
       "\t<tr><td>214758966</td><td>202109</td><td>1</td><td>0</td><td>0</td><td>28</td><td>1</td><td>   0.50</td><td>   0.50</td><td>  0.00</td><td>⋯</td><td> 1</td><td>   0</td><td>      NA</td><td>NA</td><td> 9</td><td>      NA</td><td>NA</td><td>NA</td><td>   0.00</td><td></td></tr>\n",
       "\t<tr><td>214767247</td><td>202109</td><td>1</td><td>0</td><td>0</td><td>44</td><td>1</td><td>   0.12</td><td>   0.12</td><td>  0.00</td><td>⋯</td><td> 1</td><td>   0</td><td>      NA</td><td>NA</td><td>10</td><td>      NA</td><td>NA</td><td>NA</td><td>   0.00</td><td></td></tr>\n",
       "\t<tr><td>214774866</td><td>202109</td><td>1</td><td>0</td><td>0</td><td>45</td><td>1</td><td>  95.43</td><td>  95.43</td><td> 92.59</td><td>⋯</td><td> 1</td><td>   0</td><td>      NA</td><td>NA</td><td> 2</td><td>      NA</td><td>NA</td><td>NA</td><td>   0.00</td><td></td></tr>\n",
       "\t<tr><td>214774985</td><td>202109</td><td>0</td><td>0</td><td>0</td><td>33</td><td>1</td><td>   0.00</td><td>   0.00</td><td>  0.00</td><td>⋯</td><td> 8</td><td>   0</td><td>      NA</td><td>NA</td><td>11</td><td>      NA</td><td>NA</td><td>NA</td><td>   0.00</td><td></td></tr>\n",
       "\t<tr><td>214782860</td><td>202109</td><td>1</td><td>0</td><td>0</td><td>29</td><td>1</td><td>  61.45</td><td>  61.45</td><td>  0.00</td><td>⋯</td><td> 1</td><td>   0</td><td>      NA</td><td>NA</td><td> 3</td><td>      NA</td><td>NA</td><td>NA</td><td>   0.00</td><td></td></tr>\n",
       "\t<tr><td>214787203</td><td>202109</td><td>0</td><td>0</td><td>0</td><td>35</td><td>1</td><td>   0.00</td><td>   0.00</td><td>  0.00</td><td>⋯</td><td>NA</td><td>   0</td><td>      NA</td><td>NA</td><td> 3</td><td>      NA</td><td>NA</td><td>NA</td><td>   0.00</td><td></td></tr>\n",
       "\t<tr><td>214798593</td><td>202109</td><td>1</td><td>0</td><td>0</td><td>31</td><td>1</td><td>  53.80</td><td>  53.80</td><td>  0.00</td><td>⋯</td><td> 1</td><td>   0</td><td>    0.00</td><td> 0</td><td>23</td><td>  807.91</td><td> 2</td><td> 0</td><td>  35.19</td><td></td></tr>\n",
       "\t<tr><td>214799441</td><td>202109</td><td>0</td><td>0</td><td>0</td><td>31</td><td>1</td><td>   0.00</td><td>   0.00</td><td>  0.00</td><td>⋯</td><td> 1</td><td>   0</td><td>      NA</td><td>NA</td><td>11</td><td>      NA</td><td>NA</td><td>NA</td><td>   0.00</td><td></td></tr>\n",
       "\t<tr><td>214802679</td><td>202109</td><td>0</td><td>0</td><td>0</td><td>51</td><td>1</td><td>   0.53</td><td>   0.53</td><td>  0.00</td><td>⋯</td><td> 1</td><td>   0</td><td>      NA</td><td>NA</td><td> 7</td><td>      NA</td><td>NA</td><td>NA</td><td>   0.00</td><td></td></tr>\n",
       "\t<tr><td>214810851</td><td>202109</td><td>0</td><td>0</td><td>0</td><td>31</td><td>1</td><td>   0.00</td><td>   0.00</td><td>  0.00</td><td>⋯</td><td> 1</td><td>   0</td><td>      NA</td><td>NA</td><td> 8</td><td>      NA</td><td>NA</td><td>NA</td><td>   0.00</td><td></td></tr>\n",
       "\t<tr><td>214812173</td><td>202109</td><td>0</td><td>0</td><td>0</td><td>38</td><td>1</td><td>   0.00</td><td>   0.00</td><td>  0.00</td><td>⋯</td><td> 1</td><td>   0</td><td>      NA</td><td>NA</td><td> 2</td><td>      NA</td><td>NA</td><td>NA</td><td>   0.00</td><td></td></tr>\n",
       "</tbody>\n",
       "</table>\n"
      ],
      "text/latex": [
       "A data.table: 329919 × 155\n",
       "\\begin{tabular}{lllllllllllllllllllll}\n",
       " numero\\_de\\_cliente & foto\\_mes & active\\_quarter & cliente\\_vip & internet & cliente\\_edad & cliente\\_antiguedad & mrentabilidad & mrentabilidad\\_annual & mcomisiones & ⋯ & Visa\\_fultimo\\_cierre & Visa\\_mpagado & Visa\\_mpagospesos & Visa\\_mpagosdolares & Visa\\_fechaalta & Visa\\_mconsumototal & Visa\\_cconsumos & Visa\\_cadelantosefectivo & Visa\\_mpagominimo & clase\\_ternaria\\\\\n",
       " <int> & <int> & <int> & <int> & <int> & <int> & <int> & <dbl> & <dbl> & <dbl> & ⋯ & <int> & <dbl> & <dbl> & <dbl> & <int> & <dbl> & <int> & <int> & <dbl> & <chr>\\\\\n",
       "\\hline\n",
       "\t 31116053 & 202107 & 1 & 0 & 0 & 50 & 201 & 13073.36 & 161035.99 & 3163.52 & ⋯ & 10 &      0.00 &  -82110.00 &  0.00 & 6060 & 121585.39 & 75 &  0 & 77617.41 & CONTINUA\\\\\n",
       "\t 31116803 & 202107 & 1 & 0 & 0 & 59 & 326 &  2640.48 &  56751.51 & 5232.22 & ⋯ &  3 &      0.00 &  -85347.94 & 17.59 & 4211 &  21596.40 &  7 &  0 &  4938.33 & CONTINUA\\\\\n",
       "\t 31117730 & 202107 & 1 & 0 & 0 & 68 & 272 &  1343.51 &  20201.31 &  582.94 & ⋯ & 24 &   4692.00 &   -4692.00 &  0.00 & 7951 &   1529.02 &  2 &  0 &  1407.60 & CONTINUA\\\\\n",
       "\t 31117908 & 202107 & 1 & 0 & 0 & 80 & 326 &  5523.19 &  55827.28 & 2712.26 & ⋯ &  3 &      0.00 &  -26420.00 &  0.00 & 7702 &  12815.99 &  8 &  0 &   856.29 & CONTINUA\\\\\n",
       "\t 31117977 & 202107 & 1 & 0 & 0 & 60 & 261 &  4819.35 &  37386.40 & 1878.40 & ⋯ & 24 & 174063.72 & -160642.13 & 12.89 & 7949 & 157186.12 & 27 &  0 &  9548.22 & CONTINUA\\\\\n",
       "\t 31120119 & 202107 & 1 & 0 & 0 & 71 & 379 &  1374.50 &  55964.94 & 1561.94 & ⋯ & 10 &      0.00 &  -10424.07 &  0.00 & 8508 &   9831.19 &  2 &  0 &   656.88 & CONTINUA\\\\\n",
       "\t 31121017 & 202107 & 1 & 0 & 0 & 67 & 326 &  2579.35 &  18260.09 & 1958.62 & ⋯ &  3 &      0.00 &   -4048.02 &  0.00 & 8739 &   3988.20 &  3 &  0 &   211.14 & CONTINUA\\\\\n",
       "\t 31121264 & 202107 & 1 & 0 & 0 & 46 & 311 & -1451.10 &  -5036.02 & 2348.34 & ⋯ & 10 &  30480.40 & -140760.00 &  0.00 & 8480 &  62938.18 & 49 &  0 & 14193.30 & CONTINUA\\\\\n",
       "\t 31121718 & 202107 & 1 & 0 & 0 & 66 & 326 & 37560.90 & 478240.90 & 2827.01 & ⋯ & 10 &   3873.57 &   -3075.19 &  0.00 & 8416 &   3761.81 &  1 &  0 &   258.06 & CONTINUA\\\\\n",
       "\t 31122951 & 202107 & 1 & 0 & 0 & 59 & 270 &  4119.31 &  60639.40 & 1959.26 & ⋯ &  3 &      0.00 &  -78615.19 &  0.00 & 4629 &  92695.38 & 29 &  0 &  9876.66 & CONTINUA\\\\\n",
       "\t 31123702 & 202107 & 1 & 0 & 0 & 61 & 326 &  1786.16 &  32792.93 & 1126.77 & ⋯ & 24 &  37117.10 &  -20938.05 &  0.00 & 8049 &   6126.47 &  9 &  0 &  6568.80 & CONTINUA\\\\\n",
       "\t 31123830 & 202107 & 1 & 0 & 0 & 50 &  93 &  7481.87 &  95115.12 & 2785.35 & ⋯ &  3 &      0.00 & -228815.90 &  0.00 & 2805 &  76937.08 & 10 &  0 &  4832.76 & CONTINUA\\\\\n",
       "\t 31124501 & 202107 & 1 & 0 & 0 & 50 & 149 & -1325.67 & -11929.57 &  466.83 & ⋯ &  3 &      0.00 &  -31196.68 &  1.00 & 2470 &  22846.74 &  4 &  0 &  3519.00 & CONTINUA\\\\\n",
       "\t 31124827 & 202107 & 1 & 0 & 0 & 69 & 289 &  2838.41 &  81556.91 & 2300.35 & ⋯ & NA &        NA &         NA &    NA &   NA &        NA & NA & NA &       NA & CONTINUA\\\\\n",
       "\t 31125498 & 202107 & 1 & 0 & 0 & 73 & 292 &    78.83 &  -9142.87 & 2750.21 & ⋯ &  3 &      0.00 &  -36128.40 &  0.00 & 8889 &   8270.70 & 11 &  0 &   727.26 & CONTINUA\\\\\n",
       "\t 31125518 & 202107 & 1 & 0 & 0 & 66 & 275 & 11234.68 & 163437.25 & 3999.28 & ⋯ &  3 &      0.00 & -182105.27 & 18.75 & 7824 &  64127.07 & 18 &  0 &  9125.94 & CONTINUA\\\\\n",
       "\t 31126001 & 202107 & 1 & 0 & 0 & 48 & 178 &  3299.36 &  27041.55 &  735.17 & ⋯ &  3 &      0.00 &  -12316.96 &  0.00 & 4931 &   4640.41 &  3 &  0 &   527.85 & CONTINUA\\\\\n",
       "\t 31126199 & 202107 & 1 & 0 & 0 & 56 &  31 & 15973.93 & 124363.41 & 2116.80 & ⋯ &  3 &      0.00 &   -2306.78 &  0.00 &  200 &      0.00 &  0 &  0 &   246.33 & CONTINUA\\\\\n",
       "\t 31126633 & 202107 & 1 & 0 & 0 & 82 & 280 &  -388.88 &    405.81 & 1463.51 & ⋯ &  3 &      0.00 &  -59845.25 &  0.00 & 8509 &  55816.29 & 15 &  0 &  5759.43 & CONTINUA\\\\\n",
       "\t 31127136 & 202107 & 1 & 0 & 0 & 52 & 267 &  2423.98 &  14761.00 &  286.47 & ⋯ & 10 &      0.00 &  -10475.78 &  0.00 & 5458 &   7143.65 &  3 &  0 &  1372.41 & CONTINUA\\\\\n",
       "\t 31127195 & 202107 & 1 & 0 & 0 & 53 &  32 & 12545.08 &  88343.11 & 8143.71 & ⋯ &  3 &      0.00 & -166635.68 & 27.65 &  898 &  98532.00 & 45 &  0 & 12656.67 & CONTINUA\\\\\n",
       "\t 31128656 & 202107 & 1 & 0 & 0 & 53 &  61 &  1918.53 &  17495.50 & 1910.64 & ⋯ &  3 &      0.00 &         NA &    NA & 1854 &        NA & NA & NA &     0.00 & BAJA+1  \\\\\n",
       "\t 31129377 & 202107 & 1 & 0 & 0 & 57 & 267 & -3431.54 &   8723.57 &  959.97 & ⋯ &  3 &      0.00 &  -68419.01 &  0.00 & 5584 &  21125.70 &  5 &  0 & 10639.11 & CONTINUA\\\\\n",
       "\t 31130581 & 202107 & 1 & 0 & 0 & 63 & 326 & 18024.51 & 232836.73 & 4305.22 & ⋯ & 10 &      0.00 & -112541.32 &  0.00 & 8987 &  76955.25 & 15 &  0 &  7425.09 & CONTINUA\\\\\n",
       "\t 31131104 & 202107 & 1 & 0 & 0 & 66 & 379 &   401.42 &   2451.08 & 1961.04 & ⋯ & 24 &  50928.70 &  -47190.83 &  0.00 & 8132 &  32908.24 & 21 &  0 &  4621.62 & CONTINUA\\\\\n",
       "\t 31132831 & 202107 & 1 & 0 & 0 & 54 & 286 &   689.79 &   3462.12 &  462.10 & ⋯ & 10 &   2228.70 &  -17828.93 &  0.00 & 3597 &  15561.11 &  5 &  0 &     0.00 & CONTINUA\\\\\n",
       "\t 31132989 & 202107 & 1 & 0 & 0 & 51 & 126 &  5079.82 &  32063.65 & 2542.57 & ⋯ & 10 &      0.00 &  -49505.92 & 20.15 & 3821 &  28788.78 & 12 &  0 &  4211.07 & CONTINUA\\\\\n",
       "\t 31133028 & 202107 & 1 & 0 & 0 & 41 & 137 & -2971.09 & -24176.96 & 1025.20 & ⋯ & 10 &      0.00 &  -19951.81 &  0.00 & 4120 &  17418.90 & 10 &  0 &  2346.00 & CONTINUA\\\\\n",
       "\t 31133769 & 202107 & 1 & 0 & 0 & 63 & 315 &  3477.42 &  56685.69 &  472.05 & ⋯ &  3 &      0.00 &  -16915.25 &  0.00 & 7493 &  11116.52 &  2 &  0 &   574.77 & CONTINUA\\\\\n",
       "\t 31133788 & 202107 & 1 & 0 & 0 & 73 & 326 &  1705.08 &  23972.20 & 2290.82 & ⋯ & 24 &  13137.60 &  -21230.10 &  0.15 & 7628 &   4244.98 &  4 &  0 &  2838.66 & CONTINUA\\\\\n",
       "\t ⋮ & ⋮ & ⋮ & ⋮ & ⋮ & ⋮ & ⋮ & ⋮ & ⋮ & ⋮ & ⋱ & ⋮ & ⋮ & ⋮ & ⋮ & ⋮ & ⋮ & ⋮ & ⋮ & ⋮ & ⋮\\\\\n",
       "\t 214662165 & 202109 & 0 & 0 & 0 & 24 & 1 &   51.51 &   51.51 &   0.00 & ⋯ &  1 &    0 &       NA & NA &  9 &       NA & NA & NA &    0.00 & \\\\\n",
       "\t 214663043 & 202109 & 1 & 0 & 0 & 35 & 1 &   30.75 &   30.75 &   0.00 & ⋯ &  1 &    0 &       NA & NA & 14 &       NA & NA & NA &    0.00 & \\\\\n",
       "\t 214663340 & 202109 & 1 & 0 & 0 & 24 & 1 &    0.43 &    0.43 &   0.00 & ⋯ &  1 &    0 &       NA & NA & 11 &       NA & NA & NA &    0.00 & \\\\\n",
       "\t 214663428 & 202109 & 1 & 0 & 0 & 41 & 1 &   70.79 &   70.79 &   0.00 & ⋯ &  1 &    0 &       NA & NA & 11 &       NA & NA & NA &    0.00 & \\\\\n",
       "\t 214665787 & 202109 & 0 & 0 & 0 & 27 & 1 &    1.04 &    1.04 &   0.00 & ⋯ &  1 &    0 &       NA & NA & 10 &       NA & NA & NA &    0.00 & \\\\\n",
       "\t 214666202 & 202109 & 1 & 0 & 0 & 28 & 1 &   22.82 &   22.82 &   0.00 & ⋯ &  1 &    0 &       NA & NA & 10 &       NA & NA & NA &    0.00 & \\\\\n",
       "\t 214677423 & 202109 & 0 & 0 & 0 & 29 & 1 &    0.00 &    0.00 &   0.00 & ⋯ &  1 &    0 &       NA & NA &  1 &       NA & NA & NA &    0.00 & \\\\\n",
       "\t 214687856 & 202109 & 1 & 0 & 0 & 25 & 1 &   30.14 &   30.14 &  22.31 & ⋯ &  1 &    0 &     0.00 &  0 & 23 & 11748.32 & 16 &  0 &  961.86 & \\\\\n",
       "\t 214694024 & 202109 & 1 & 0 & 0 & 29 & 1 &  141.65 &  141.65 &  63.85 & ⋯ &  8 &    0 &       NA & NA & 16 &       NA & NA & NA &    0.00 & \\\\\n",
       "\t 214707703 & 202109 & 1 & 0 & 0 & 27 & 1 &    0.04 &    0.04 &   0.00 & ⋯ &  1 &    0 &       NA & NA &  4 &       NA & NA & NA &    0.00 & \\\\\n",
       "\t 214710546 & 202109 & 0 & 0 & 0 & 39 & 1 &    0.00 &    0.00 &   0.00 & ⋯ &  1 &    0 &       NA & NA &  4 &       NA & NA & NA &    0.00 & \\\\\n",
       "\t 214721787 & 202109 & 1 & 0 & 0 & 35 & 1 &  453.92 &  453.92 & 822.16 & ⋯ &  1 &    0 &     0.00 &  0 & 28 &  3693.63 &  2 &  0 &  879.75 & \\\\\n",
       "\t 214724936 & 202109 & 1 & 0 & 0 & 35 & 1 &  -48.06 &  -48.06 &   0.00 & ⋯ &  1 & 2346 & -8363.49 &  0 & 18 &     0.00 &  0 &  0 & 5853.27 & \\\\\n",
       "\t 214729140 & 202109 & 1 & 0 & 0 & 34 & 1 & 1140.89 & 1140.89 &   0.00 & ⋯ &  8 &    0 &     0.00 &  0 & 18 &     0.00 &  0 &  0 &  868.02 & \\\\\n",
       "\t 214729673 & 202109 & 0 & 0 & 0 & 25 & 1 &    0.00 &    0.00 &   0.00 & ⋯ &  8 &    0 &       NA & NA & 18 &       NA & NA & NA &    0.00 & \\\\\n",
       "\t 214738852 & 202109 & 0 & 0 & 0 & 40 & 1 &    0.00 &    0.00 &   0.00 & ⋯ &  1 &    0 &       NA & NA &  9 &       NA & NA & NA &    0.00 & \\\\\n",
       "\t 214740263 & 202109 & 0 & 0 & 0 & 29 & 1 &    1.04 &    1.04 &   0.00 & ⋯ &  1 &    0 &       NA & NA & 10 &       NA & NA & NA &    0.00 & \\\\\n",
       "\t 214745168 & 202109 & 1 & 0 & 0 & 50 & 1 &  501.12 &  501.12 &   0.00 & ⋯ &  1 &    0 &       NA & NA &  7 &       NA & NA & NA &    0.00 & \\\\\n",
       "\t 214749857 & 202109 & 0 & 0 & 0 & 26 & 1 &    0.00 &    0.00 &   0.00 & ⋯ & NA &    0 &       NA & NA &  2 &       NA & NA & NA &    0.00 & \\\\\n",
       "\t 214758966 & 202109 & 1 & 0 & 0 & 28 & 1 &    0.50 &    0.50 &   0.00 & ⋯ &  1 &    0 &       NA & NA &  9 &       NA & NA & NA &    0.00 & \\\\\n",
       "\t 214767247 & 202109 & 1 & 0 & 0 & 44 & 1 &    0.12 &    0.12 &   0.00 & ⋯ &  1 &    0 &       NA & NA & 10 &       NA & NA & NA &    0.00 & \\\\\n",
       "\t 214774866 & 202109 & 1 & 0 & 0 & 45 & 1 &   95.43 &   95.43 &  92.59 & ⋯ &  1 &    0 &       NA & NA &  2 &       NA & NA & NA &    0.00 & \\\\\n",
       "\t 214774985 & 202109 & 0 & 0 & 0 & 33 & 1 &    0.00 &    0.00 &   0.00 & ⋯ &  8 &    0 &       NA & NA & 11 &       NA & NA & NA &    0.00 & \\\\\n",
       "\t 214782860 & 202109 & 1 & 0 & 0 & 29 & 1 &   61.45 &   61.45 &   0.00 & ⋯ &  1 &    0 &       NA & NA &  3 &       NA & NA & NA &    0.00 & \\\\\n",
       "\t 214787203 & 202109 & 0 & 0 & 0 & 35 & 1 &    0.00 &    0.00 &   0.00 & ⋯ & NA &    0 &       NA & NA &  3 &       NA & NA & NA &    0.00 & \\\\\n",
       "\t 214798593 & 202109 & 1 & 0 & 0 & 31 & 1 &   53.80 &   53.80 &   0.00 & ⋯ &  1 &    0 &     0.00 &  0 & 23 &   807.91 &  2 &  0 &   35.19 & \\\\\n",
       "\t 214799441 & 202109 & 0 & 0 & 0 & 31 & 1 &    0.00 &    0.00 &   0.00 & ⋯ &  1 &    0 &       NA & NA & 11 &       NA & NA & NA &    0.00 & \\\\\n",
       "\t 214802679 & 202109 & 0 & 0 & 0 & 51 & 1 &    0.53 &    0.53 &   0.00 & ⋯ &  1 &    0 &       NA & NA &  7 &       NA & NA & NA &    0.00 & \\\\\n",
       "\t 214810851 & 202109 & 0 & 0 & 0 & 31 & 1 &    0.00 &    0.00 &   0.00 & ⋯ &  1 &    0 &       NA & NA &  8 &       NA & NA & NA &    0.00 & \\\\\n",
       "\t 214812173 & 202109 & 0 & 0 & 0 & 38 & 1 &    0.00 &    0.00 &   0.00 & ⋯ &  1 &    0 &       NA & NA &  2 &       NA & NA & NA &    0.00 & \\\\\n",
       "\\end{tabular}\n"
      ],
      "text/markdown": [
       "\n",
       "A data.table: 329919 × 155\n",
       "\n",
       "| numero_de_cliente &lt;int&gt; | foto_mes &lt;int&gt; | active_quarter &lt;int&gt; | cliente_vip &lt;int&gt; | internet &lt;int&gt; | cliente_edad &lt;int&gt; | cliente_antiguedad &lt;int&gt; | mrentabilidad &lt;dbl&gt; | mrentabilidad_annual &lt;dbl&gt; | mcomisiones &lt;dbl&gt; | ⋯ ⋯ | Visa_fultimo_cierre &lt;int&gt; | Visa_mpagado &lt;dbl&gt; | Visa_mpagospesos &lt;dbl&gt; | Visa_mpagosdolares &lt;dbl&gt; | Visa_fechaalta &lt;int&gt; | Visa_mconsumototal &lt;dbl&gt; | Visa_cconsumos &lt;int&gt; | Visa_cadelantosefectivo &lt;int&gt; | Visa_mpagominimo &lt;dbl&gt; | clase_ternaria &lt;chr&gt; |\n",
       "|---|---|---|---|---|---|---|---|---|---|---|---|---|---|---|---|---|---|---|---|---|\n",
       "| 31116053 | 202107 | 1 | 0 | 0 | 50 | 201 | 13073.36 | 161035.99 | 3163.52 | ⋯ | 10 |      0.00 |  -82110.00 |  0.00 | 6060 | 121585.39 | 75 |  0 | 77617.41 | CONTINUA |\n",
       "| 31116803 | 202107 | 1 | 0 | 0 | 59 | 326 |  2640.48 |  56751.51 | 5232.22 | ⋯ |  3 |      0.00 |  -85347.94 | 17.59 | 4211 |  21596.40 |  7 |  0 |  4938.33 | CONTINUA |\n",
       "| 31117730 | 202107 | 1 | 0 | 0 | 68 | 272 |  1343.51 |  20201.31 |  582.94 | ⋯ | 24 |   4692.00 |   -4692.00 |  0.00 | 7951 |   1529.02 |  2 |  0 |  1407.60 | CONTINUA |\n",
       "| 31117908 | 202107 | 1 | 0 | 0 | 80 | 326 |  5523.19 |  55827.28 | 2712.26 | ⋯ |  3 |      0.00 |  -26420.00 |  0.00 | 7702 |  12815.99 |  8 |  0 |   856.29 | CONTINUA |\n",
       "| 31117977 | 202107 | 1 | 0 | 0 | 60 | 261 |  4819.35 |  37386.40 | 1878.40 | ⋯ | 24 | 174063.72 | -160642.13 | 12.89 | 7949 | 157186.12 | 27 |  0 |  9548.22 | CONTINUA |\n",
       "| 31120119 | 202107 | 1 | 0 | 0 | 71 | 379 |  1374.50 |  55964.94 | 1561.94 | ⋯ | 10 |      0.00 |  -10424.07 |  0.00 | 8508 |   9831.19 |  2 |  0 |   656.88 | CONTINUA |\n",
       "| 31121017 | 202107 | 1 | 0 | 0 | 67 | 326 |  2579.35 |  18260.09 | 1958.62 | ⋯ |  3 |      0.00 |   -4048.02 |  0.00 | 8739 |   3988.20 |  3 |  0 |   211.14 | CONTINUA |\n",
       "| 31121264 | 202107 | 1 | 0 | 0 | 46 | 311 | -1451.10 |  -5036.02 | 2348.34 | ⋯ | 10 |  30480.40 | -140760.00 |  0.00 | 8480 |  62938.18 | 49 |  0 | 14193.30 | CONTINUA |\n",
       "| 31121718 | 202107 | 1 | 0 | 0 | 66 | 326 | 37560.90 | 478240.90 | 2827.01 | ⋯ | 10 |   3873.57 |   -3075.19 |  0.00 | 8416 |   3761.81 |  1 |  0 |   258.06 | CONTINUA |\n",
       "| 31122951 | 202107 | 1 | 0 | 0 | 59 | 270 |  4119.31 |  60639.40 | 1959.26 | ⋯ |  3 |      0.00 |  -78615.19 |  0.00 | 4629 |  92695.38 | 29 |  0 |  9876.66 | CONTINUA |\n",
       "| 31123702 | 202107 | 1 | 0 | 0 | 61 | 326 |  1786.16 |  32792.93 | 1126.77 | ⋯ | 24 |  37117.10 |  -20938.05 |  0.00 | 8049 |   6126.47 |  9 |  0 |  6568.80 | CONTINUA |\n",
       "| 31123830 | 202107 | 1 | 0 | 0 | 50 |  93 |  7481.87 |  95115.12 | 2785.35 | ⋯ |  3 |      0.00 | -228815.90 |  0.00 | 2805 |  76937.08 | 10 |  0 |  4832.76 | CONTINUA |\n",
       "| 31124501 | 202107 | 1 | 0 | 0 | 50 | 149 | -1325.67 | -11929.57 |  466.83 | ⋯ |  3 |      0.00 |  -31196.68 |  1.00 | 2470 |  22846.74 |  4 |  0 |  3519.00 | CONTINUA |\n",
       "| 31124827 | 202107 | 1 | 0 | 0 | 69 | 289 |  2838.41 |  81556.91 | 2300.35 | ⋯ | NA |        NA |         NA |    NA |   NA |        NA | NA | NA |       NA | CONTINUA |\n",
       "| 31125498 | 202107 | 1 | 0 | 0 | 73 | 292 |    78.83 |  -9142.87 | 2750.21 | ⋯ |  3 |      0.00 |  -36128.40 |  0.00 | 8889 |   8270.70 | 11 |  0 |   727.26 | CONTINUA |\n",
       "| 31125518 | 202107 | 1 | 0 | 0 | 66 | 275 | 11234.68 | 163437.25 | 3999.28 | ⋯ |  3 |      0.00 | -182105.27 | 18.75 | 7824 |  64127.07 | 18 |  0 |  9125.94 | CONTINUA |\n",
       "| 31126001 | 202107 | 1 | 0 | 0 | 48 | 178 |  3299.36 |  27041.55 |  735.17 | ⋯ |  3 |      0.00 |  -12316.96 |  0.00 | 4931 |   4640.41 |  3 |  0 |   527.85 | CONTINUA |\n",
       "| 31126199 | 202107 | 1 | 0 | 0 | 56 |  31 | 15973.93 | 124363.41 | 2116.80 | ⋯ |  3 |      0.00 |   -2306.78 |  0.00 |  200 |      0.00 |  0 |  0 |   246.33 | CONTINUA |\n",
       "| 31126633 | 202107 | 1 | 0 | 0 | 82 | 280 |  -388.88 |    405.81 | 1463.51 | ⋯ |  3 |      0.00 |  -59845.25 |  0.00 | 8509 |  55816.29 | 15 |  0 |  5759.43 | CONTINUA |\n",
       "| 31127136 | 202107 | 1 | 0 | 0 | 52 | 267 |  2423.98 |  14761.00 |  286.47 | ⋯ | 10 |      0.00 |  -10475.78 |  0.00 | 5458 |   7143.65 |  3 |  0 |  1372.41 | CONTINUA |\n",
       "| 31127195 | 202107 | 1 | 0 | 0 | 53 |  32 | 12545.08 |  88343.11 | 8143.71 | ⋯ |  3 |      0.00 | -166635.68 | 27.65 |  898 |  98532.00 | 45 |  0 | 12656.67 | CONTINUA |\n",
       "| 31128656 | 202107 | 1 | 0 | 0 | 53 |  61 |  1918.53 |  17495.50 | 1910.64 | ⋯ |  3 |      0.00 |         NA |    NA | 1854 |        NA | NA | NA |     0.00 | BAJA+1   |\n",
       "| 31129377 | 202107 | 1 | 0 | 0 | 57 | 267 | -3431.54 |   8723.57 |  959.97 | ⋯ |  3 |      0.00 |  -68419.01 |  0.00 | 5584 |  21125.70 |  5 |  0 | 10639.11 | CONTINUA |\n",
       "| 31130581 | 202107 | 1 | 0 | 0 | 63 | 326 | 18024.51 | 232836.73 | 4305.22 | ⋯ | 10 |      0.00 | -112541.32 |  0.00 | 8987 |  76955.25 | 15 |  0 |  7425.09 | CONTINUA |\n",
       "| 31131104 | 202107 | 1 | 0 | 0 | 66 | 379 |   401.42 |   2451.08 | 1961.04 | ⋯ | 24 |  50928.70 |  -47190.83 |  0.00 | 8132 |  32908.24 | 21 |  0 |  4621.62 | CONTINUA |\n",
       "| 31132831 | 202107 | 1 | 0 | 0 | 54 | 286 |   689.79 |   3462.12 |  462.10 | ⋯ | 10 |   2228.70 |  -17828.93 |  0.00 | 3597 |  15561.11 |  5 |  0 |     0.00 | CONTINUA |\n",
       "| 31132989 | 202107 | 1 | 0 | 0 | 51 | 126 |  5079.82 |  32063.65 | 2542.57 | ⋯ | 10 |      0.00 |  -49505.92 | 20.15 | 3821 |  28788.78 | 12 |  0 |  4211.07 | CONTINUA |\n",
       "| 31133028 | 202107 | 1 | 0 | 0 | 41 | 137 | -2971.09 | -24176.96 | 1025.20 | ⋯ | 10 |      0.00 |  -19951.81 |  0.00 | 4120 |  17418.90 | 10 |  0 |  2346.00 | CONTINUA |\n",
       "| 31133769 | 202107 | 1 | 0 | 0 | 63 | 315 |  3477.42 |  56685.69 |  472.05 | ⋯ |  3 |      0.00 |  -16915.25 |  0.00 | 7493 |  11116.52 |  2 |  0 |   574.77 | CONTINUA |\n",
       "| 31133788 | 202107 | 1 | 0 | 0 | 73 | 326 |  1705.08 |  23972.20 | 2290.82 | ⋯ | 24 |  13137.60 |  -21230.10 |  0.15 | 7628 |   4244.98 |  4 |  0 |  2838.66 | CONTINUA |\n",
       "| ⋮ | ⋮ | ⋮ | ⋮ | ⋮ | ⋮ | ⋮ | ⋮ | ⋮ | ⋮ | ⋱ | ⋮ | ⋮ | ⋮ | ⋮ | ⋮ | ⋮ | ⋮ | ⋮ | ⋮ | ⋮ |\n",
       "| 214662165 | 202109 | 0 | 0 | 0 | 24 | 1 |   51.51 |   51.51 |   0.00 | ⋯ |  1 |    0 |       NA | NA |  9 |       NA | NA | NA |    0.00 | <!----> |\n",
       "| 214663043 | 202109 | 1 | 0 | 0 | 35 | 1 |   30.75 |   30.75 |   0.00 | ⋯ |  1 |    0 |       NA | NA | 14 |       NA | NA | NA |    0.00 | <!----> |\n",
       "| 214663340 | 202109 | 1 | 0 | 0 | 24 | 1 |    0.43 |    0.43 |   0.00 | ⋯ |  1 |    0 |       NA | NA | 11 |       NA | NA | NA |    0.00 | <!----> |\n",
       "| 214663428 | 202109 | 1 | 0 | 0 | 41 | 1 |   70.79 |   70.79 |   0.00 | ⋯ |  1 |    0 |       NA | NA | 11 |       NA | NA | NA |    0.00 | <!----> |\n",
       "| 214665787 | 202109 | 0 | 0 | 0 | 27 | 1 |    1.04 |    1.04 |   0.00 | ⋯ |  1 |    0 |       NA | NA | 10 |       NA | NA | NA |    0.00 | <!----> |\n",
       "| 214666202 | 202109 | 1 | 0 | 0 | 28 | 1 |   22.82 |   22.82 |   0.00 | ⋯ |  1 |    0 |       NA | NA | 10 |       NA | NA | NA |    0.00 | <!----> |\n",
       "| 214677423 | 202109 | 0 | 0 | 0 | 29 | 1 |    0.00 |    0.00 |   0.00 | ⋯ |  1 |    0 |       NA | NA |  1 |       NA | NA | NA |    0.00 | <!----> |\n",
       "| 214687856 | 202109 | 1 | 0 | 0 | 25 | 1 |   30.14 |   30.14 |  22.31 | ⋯ |  1 |    0 |     0.00 |  0 | 23 | 11748.32 | 16 |  0 |  961.86 | <!----> |\n",
       "| 214694024 | 202109 | 1 | 0 | 0 | 29 | 1 |  141.65 |  141.65 |  63.85 | ⋯ |  8 |    0 |       NA | NA | 16 |       NA | NA | NA |    0.00 | <!----> |\n",
       "| 214707703 | 202109 | 1 | 0 | 0 | 27 | 1 |    0.04 |    0.04 |   0.00 | ⋯ |  1 |    0 |       NA | NA |  4 |       NA | NA | NA |    0.00 | <!----> |\n",
       "| 214710546 | 202109 | 0 | 0 | 0 | 39 | 1 |    0.00 |    0.00 |   0.00 | ⋯ |  1 |    0 |       NA | NA |  4 |       NA | NA | NA |    0.00 | <!----> |\n",
       "| 214721787 | 202109 | 1 | 0 | 0 | 35 | 1 |  453.92 |  453.92 | 822.16 | ⋯ |  1 |    0 |     0.00 |  0 | 28 |  3693.63 |  2 |  0 |  879.75 | <!----> |\n",
       "| 214724936 | 202109 | 1 | 0 | 0 | 35 | 1 |  -48.06 |  -48.06 |   0.00 | ⋯ |  1 | 2346 | -8363.49 |  0 | 18 |     0.00 |  0 |  0 | 5853.27 | <!----> |\n",
       "| 214729140 | 202109 | 1 | 0 | 0 | 34 | 1 | 1140.89 | 1140.89 |   0.00 | ⋯ |  8 |    0 |     0.00 |  0 | 18 |     0.00 |  0 |  0 |  868.02 | <!----> |\n",
       "| 214729673 | 202109 | 0 | 0 | 0 | 25 | 1 |    0.00 |    0.00 |   0.00 | ⋯ |  8 |    0 |       NA | NA | 18 |       NA | NA | NA |    0.00 | <!----> |\n",
       "| 214738852 | 202109 | 0 | 0 | 0 | 40 | 1 |    0.00 |    0.00 |   0.00 | ⋯ |  1 |    0 |       NA | NA |  9 |       NA | NA | NA |    0.00 | <!----> |\n",
       "| 214740263 | 202109 | 0 | 0 | 0 | 29 | 1 |    1.04 |    1.04 |   0.00 | ⋯ |  1 |    0 |       NA | NA | 10 |       NA | NA | NA |    0.00 | <!----> |\n",
       "| 214745168 | 202109 | 1 | 0 | 0 | 50 | 1 |  501.12 |  501.12 |   0.00 | ⋯ |  1 |    0 |       NA | NA |  7 |       NA | NA | NA |    0.00 | <!----> |\n",
       "| 214749857 | 202109 | 0 | 0 | 0 | 26 | 1 |    0.00 |    0.00 |   0.00 | ⋯ | NA |    0 |       NA | NA |  2 |       NA | NA | NA |    0.00 | <!----> |\n",
       "| 214758966 | 202109 | 1 | 0 | 0 | 28 | 1 |    0.50 |    0.50 |   0.00 | ⋯ |  1 |    0 |       NA | NA |  9 |       NA | NA | NA |    0.00 | <!----> |\n",
       "| 214767247 | 202109 | 1 | 0 | 0 | 44 | 1 |    0.12 |    0.12 |   0.00 | ⋯ |  1 |    0 |       NA | NA | 10 |       NA | NA | NA |    0.00 | <!----> |\n",
       "| 214774866 | 202109 | 1 | 0 | 0 | 45 | 1 |   95.43 |   95.43 |  92.59 | ⋯ |  1 |    0 |       NA | NA |  2 |       NA | NA | NA |    0.00 | <!----> |\n",
       "| 214774985 | 202109 | 0 | 0 | 0 | 33 | 1 |    0.00 |    0.00 |   0.00 | ⋯ |  8 |    0 |       NA | NA | 11 |       NA | NA | NA |    0.00 | <!----> |\n",
       "| 214782860 | 202109 | 1 | 0 | 0 | 29 | 1 |   61.45 |   61.45 |   0.00 | ⋯ |  1 |    0 |       NA | NA |  3 |       NA | NA | NA |    0.00 | <!----> |\n",
       "| 214787203 | 202109 | 0 | 0 | 0 | 35 | 1 |    0.00 |    0.00 |   0.00 | ⋯ | NA |    0 |       NA | NA |  3 |       NA | NA | NA |    0.00 | <!----> |\n",
       "| 214798593 | 202109 | 1 | 0 | 0 | 31 | 1 |   53.80 |   53.80 |   0.00 | ⋯ |  1 |    0 |     0.00 |  0 | 23 |   807.91 |  2 |  0 |   35.19 | <!----> |\n",
       "| 214799441 | 202109 | 0 | 0 | 0 | 31 | 1 |    0.00 |    0.00 |   0.00 | ⋯ |  1 |    0 |       NA | NA | 11 |       NA | NA | NA |    0.00 | <!----> |\n",
       "| 214802679 | 202109 | 0 | 0 | 0 | 51 | 1 |    0.53 |    0.53 |   0.00 | ⋯ |  1 |    0 |       NA | NA |  7 |       NA | NA | NA |    0.00 | <!----> |\n",
       "| 214810851 | 202109 | 0 | 0 | 0 | 31 | 1 |    0.00 |    0.00 |   0.00 | ⋯ |  1 |    0 |       NA | NA |  8 |       NA | NA | NA |    0.00 | <!----> |\n",
       "| 214812173 | 202109 | 0 | 0 | 0 | 38 | 1 |    0.00 |    0.00 |   0.00 | ⋯ |  1 |    0 |       NA | NA |  2 |       NA | NA | NA |    0.00 | <!----> |\n",
       "\n"
      ],
      "text/plain": [
       "       numero_de_cliente foto_mes active_quarter cliente_vip internet cliente_edad cliente_antiguedad mrentabilidad\n",
       "1      31116053          202107   1              0           0        50           201                13073.36     \n",
       "2      31116803          202107   1              0           0        59           326                 2640.48     \n",
       "3      31117730          202107   1              0           0        68           272                 1343.51     \n",
       "4      31117908          202107   1              0           0        80           326                 5523.19     \n",
       "5      31117977          202107   1              0           0        60           261                 4819.35     \n",
       "6      31120119          202107   1              0           0        71           379                 1374.50     \n",
       "7      31121017          202107   1              0           0        67           326                 2579.35     \n",
       "8      31121264          202107   1              0           0        46           311                -1451.10     \n",
       "9      31121718          202107   1              0           0        66           326                37560.90     \n",
       "10     31122951          202107   1              0           0        59           270                 4119.31     \n",
       "11     31123702          202107   1              0           0        61           326                 1786.16     \n",
       "12     31123830          202107   1              0           0        50            93                 7481.87     \n",
       "13     31124501          202107   1              0           0        50           149                -1325.67     \n",
       "14     31124827          202107   1              0           0        69           289                 2838.41     \n",
       "15     31125498          202107   1              0           0        73           292                   78.83     \n",
       "16     31125518          202107   1              0           0        66           275                11234.68     \n",
       "17     31126001          202107   1              0           0        48           178                 3299.36     \n",
       "18     31126199          202107   1              0           0        56            31                15973.93     \n",
       "19     31126633          202107   1              0           0        82           280                 -388.88     \n",
       "20     31127136          202107   1              0           0        52           267                 2423.98     \n",
       "21     31127195          202107   1              0           0        53            32                12545.08     \n",
       "22     31128656          202107   1              0           0        53            61                 1918.53     \n",
       "23     31129377          202107   1              0           0        57           267                -3431.54     \n",
       "24     31130581          202107   1              0           0        63           326                18024.51     \n",
       "25     31131104          202107   1              0           0        66           379                  401.42     \n",
       "26     31132831          202107   1              0           0        54           286                  689.79     \n",
       "27     31132989          202107   1              0           0        51           126                 5079.82     \n",
       "28     31133028          202107   1              0           0        41           137                -2971.09     \n",
       "29     31133769          202107   1              0           0        63           315                 3477.42     \n",
       "30     31133788          202107   1              0           0        73           326                 1705.08     \n",
       "⋮      ⋮                 ⋮        ⋮              ⋮           ⋮        ⋮            ⋮                  ⋮            \n",
       "329890 214662165         202109   0              0           0        24           1                    51.51      \n",
       "329891 214663043         202109   1              0           0        35           1                    30.75      \n",
       "329892 214663340         202109   1              0           0        24           1                     0.43      \n",
       "329893 214663428         202109   1              0           0        41           1                    70.79      \n",
       "329894 214665787         202109   0              0           0        27           1                     1.04      \n",
       "329895 214666202         202109   1              0           0        28           1                    22.82      \n",
       "329896 214677423         202109   0              0           0        29           1                     0.00      \n",
       "329897 214687856         202109   1              0           0        25           1                    30.14      \n",
       "329898 214694024         202109   1              0           0        29           1                   141.65      \n",
       "329899 214707703         202109   1              0           0        27           1                     0.04      \n",
       "329900 214710546         202109   0              0           0        39           1                     0.00      \n",
       "329901 214721787         202109   1              0           0        35           1                   453.92      \n",
       "329902 214724936         202109   1              0           0        35           1                   -48.06      \n",
       "329903 214729140         202109   1              0           0        34           1                  1140.89      \n",
       "329904 214729673         202109   0              0           0        25           1                     0.00      \n",
       "329905 214738852         202109   0              0           0        40           1                     0.00      \n",
       "329906 214740263         202109   0              0           0        29           1                     1.04      \n",
       "329907 214745168         202109   1              0           0        50           1                   501.12      \n",
       "329908 214749857         202109   0              0           0        26           1                     0.00      \n",
       "329909 214758966         202109   1              0           0        28           1                     0.50      \n",
       "329910 214767247         202109   1              0           0        44           1                     0.12      \n",
       "329911 214774866         202109   1              0           0        45           1                    95.43      \n",
       "329912 214774985         202109   0              0           0        33           1                     0.00      \n",
       "329913 214782860         202109   1              0           0        29           1                    61.45      \n",
       "329914 214787203         202109   0              0           0        35           1                     0.00      \n",
       "329915 214798593         202109   1              0           0        31           1                    53.80      \n",
       "329916 214799441         202109   0              0           0        31           1                     0.00      \n",
       "329917 214802679         202109   0              0           0        51           1                     0.53      \n",
       "329918 214810851         202109   0              0           0        31           1                     0.00      \n",
       "329919 214812173         202109   0              0           0        38           1                     0.00      \n",
       "       mrentabilidad_annual mcomisiones ⋯ Visa_fultimo_cierre Visa_mpagado Visa_mpagospesos Visa_mpagosdolares\n",
       "1      161035.99            3163.52     ⋯ 10                       0.00     -82110.00        0.00             \n",
       "2       56751.51            5232.22     ⋯  3                       0.00     -85347.94       17.59             \n",
       "3       20201.31             582.94     ⋯ 24                    4692.00      -4692.00        0.00             \n",
       "4       55827.28            2712.26     ⋯  3                       0.00     -26420.00        0.00             \n",
       "5       37386.40            1878.40     ⋯ 24                  174063.72    -160642.13       12.89             \n",
       "6       55964.94            1561.94     ⋯ 10                       0.00     -10424.07        0.00             \n",
       "7       18260.09            1958.62     ⋯  3                       0.00      -4048.02        0.00             \n",
       "8       -5036.02            2348.34     ⋯ 10                   30480.40    -140760.00        0.00             \n",
       "9      478240.90            2827.01     ⋯ 10                    3873.57      -3075.19        0.00             \n",
       "10      60639.40            1959.26     ⋯  3                       0.00     -78615.19        0.00             \n",
       "11      32792.93            1126.77     ⋯ 24                   37117.10     -20938.05        0.00             \n",
       "12      95115.12            2785.35     ⋯  3                       0.00    -228815.90        0.00             \n",
       "13     -11929.57             466.83     ⋯  3                       0.00     -31196.68        1.00             \n",
       "14      81556.91            2300.35     ⋯ NA                         NA            NA          NA             \n",
       "15      -9142.87            2750.21     ⋯  3                       0.00     -36128.40        0.00             \n",
       "16     163437.25            3999.28     ⋯  3                       0.00    -182105.27       18.75             \n",
       "17      27041.55             735.17     ⋯  3                       0.00     -12316.96        0.00             \n",
       "18     124363.41            2116.80     ⋯  3                       0.00      -2306.78        0.00             \n",
       "19        405.81            1463.51     ⋯  3                       0.00     -59845.25        0.00             \n",
       "20      14761.00             286.47     ⋯ 10                       0.00     -10475.78        0.00             \n",
       "21      88343.11            8143.71     ⋯  3                       0.00    -166635.68       27.65             \n",
       "22      17495.50            1910.64     ⋯  3                       0.00            NA          NA             \n",
       "23       8723.57             959.97     ⋯  3                       0.00     -68419.01        0.00             \n",
       "24     232836.73            4305.22     ⋯ 10                       0.00    -112541.32        0.00             \n",
       "25       2451.08            1961.04     ⋯ 24                   50928.70     -47190.83        0.00             \n",
       "26       3462.12             462.10     ⋯ 10                    2228.70     -17828.93        0.00             \n",
       "27      32063.65            2542.57     ⋯ 10                       0.00     -49505.92       20.15             \n",
       "28     -24176.96            1025.20     ⋯ 10                       0.00     -19951.81        0.00             \n",
       "29      56685.69             472.05     ⋯  3                       0.00     -16915.25        0.00             \n",
       "30      23972.20            2290.82     ⋯ 24                   13137.60     -21230.10        0.15             \n",
       "⋮      ⋮                    ⋮           ⋱ ⋮                   ⋮            ⋮                ⋮                 \n",
       "329890   51.51                0.00      ⋯  1                     0               NA         NA                \n",
       "329891   30.75                0.00      ⋯  1                     0               NA         NA                \n",
       "329892    0.43                0.00      ⋯  1                     0               NA         NA                \n",
       "329893   70.79                0.00      ⋯  1                     0               NA         NA                \n",
       "329894    1.04                0.00      ⋯  1                     0               NA         NA                \n",
       "329895   22.82                0.00      ⋯  1                     0               NA         NA                \n",
       "329896    0.00                0.00      ⋯  1                     0               NA         NA                \n",
       "329897   30.14               22.31      ⋯  1                     0             0.00          0                \n",
       "329898  141.65               63.85      ⋯  8                     0               NA         NA                \n",
       "329899    0.04                0.00      ⋯  1                     0               NA         NA                \n",
       "329900    0.00                0.00      ⋯  1                     0               NA         NA                \n",
       "329901  453.92              822.16      ⋯  1                     0             0.00          0                \n",
       "329902  -48.06                0.00      ⋯  1                  2346         -8363.49          0                \n",
       "329903 1140.89                0.00      ⋯  8                     0             0.00          0                \n",
       "329904    0.00                0.00      ⋯  8                     0               NA         NA                \n",
       "329905    0.00                0.00      ⋯  1                     0               NA         NA                \n",
       "329906    1.04                0.00      ⋯  1                     0               NA         NA                \n",
       "329907  501.12                0.00      ⋯  1                     0               NA         NA                \n",
       "329908    0.00                0.00      ⋯ NA                     0               NA         NA                \n",
       "329909    0.50                0.00      ⋯  1                     0               NA         NA                \n",
       "329910    0.12                0.00      ⋯  1                     0               NA         NA                \n",
       "329911   95.43               92.59      ⋯  1                     0               NA         NA                \n",
       "329912    0.00                0.00      ⋯  8                     0               NA         NA                \n",
       "329913   61.45                0.00      ⋯  1                     0               NA         NA                \n",
       "329914    0.00                0.00      ⋯ NA                     0               NA         NA                \n",
       "329915   53.80                0.00      ⋯  1                     0             0.00          0                \n",
       "329916    0.00                0.00      ⋯  1                     0               NA         NA                \n",
       "329917    0.53                0.00      ⋯  1                     0               NA         NA                \n",
       "329918    0.00                0.00      ⋯  1                     0               NA         NA                \n",
       "329919    0.00                0.00      ⋯  1                     0               NA         NA                \n",
       "       Visa_fechaalta Visa_mconsumototal Visa_cconsumos Visa_cadelantosefectivo Visa_mpagominimo clase_ternaria\n",
       "1      6060           121585.39          75              0                      77617.41         CONTINUA      \n",
       "2      4211            21596.40           7              0                       4938.33         CONTINUA      \n",
       "3      7951             1529.02           2              0                       1407.60         CONTINUA      \n",
       "4      7702            12815.99           8              0                        856.29         CONTINUA      \n",
       "5      7949           157186.12          27              0                       9548.22         CONTINUA      \n",
       "6      8508             9831.19           2              0                        656.88         CONTINUA      \n",
       "7      8739             3988.20           3              0                        211.14         CONTINUA      \n",
       "8      8480            62938.18          49              0                      14193.30         CONTINUA      \n",
       "9      8416             3761.81           1              0                        258.06         CONTINUA      \n",
       "10     4629            92695.38          29              0                       9876.66         CONTINUA      \n",
       "11     8049             6126.47           9              0                       6568.80         CONTINUA      \n",
       "12     2805            76937.08          10              0                       4832.76         CONTINUA      \n",
       "13     2470            22846.74           4              0                       3519.00         CONTINUA      \n",
       "14       NA                  NA          NA             NA                            NA         CONTINUA      \n",
       "15     8889             8270.70          11              0                        727.26         CONTINUA      \n",
       "16     7824            64127.07          18              0                       9125.94         CONTINUA      \n",
       "17     4931             4640.41           3              0                        527.85         CONTINUA      \n",
       "18      200                0.00           0              0                        246.33         CONTINUA      \n",
       "19     8509            55816.29          15              0                       5759.43         CONTINUA      \n",
       "20     5458             7143.65           3              0                       1372.41         CONTINUA      \n",
       "21      898            98532.00          45              0                      12656.67         CONTINUA      \n",
       "22     1854                  NA          NA             NA                          0.00         BAJA+1        \n",
       "23     5584            21125.70           5              0                      10639.11         CONTINUA      \n",
       "24     8987            76955.25          15              0                       7425.09         CONTINUA      \n",
       "25     8132            32908.24          21              0                       4621.62         CONTINUA      \n",
       "26     3597            15561.11           5              0                          0.00         CONTINUA      \n",
       "27     3821            28788.78          12              0                       4211.07         CONTINUA      \n",
       "28     4120            17418.90          10              0                       2346.00         CONTINUA      \n",
       "29     7493            11116.52           2              0                        574.77         CONTINUA      \n",
       "30     7628             4244.98           4              0                       2838.66         CONTINUA      \n",
       "⋮      ⋮              ⋮                  ⋮              ⋮                       ⋮                ⋮             \n",
       "329890  9                   NA           NA             NA                         0.00                        \n",
       "329891 14                   NA           NA             NA                         0.00                        \n",
       "329892 11                   NA           NA             NA                         0.00                        \n",
       "329893 11                   NA           NA             NA                         0.00                        \n",
       "329894 10                   NA           NA             NA                         0.00                        \n",
       "329895 10                   NA           NA             NA                         0.00                        \n",
       "329896  1                   NA           NA             NA                         0.00                        \n",
       "329897 23             11748.32           16              0                       961.86                        \n",
       "329898 16                   NA           NA             NA                         0.00                        \n",
       "329899  4                   NA           NA             NA                         0.00                        \n",
       "329900  4                   NA           NA             NA                         0.00                        \n",
       "329901 28              3693.63            2              0                       879.75                        \n",
       "329902 18                 0.00            0              0                      5853.27                        \n",
       "329903 18                 0.00            0              0                       868.02                        \n",
       "329904 18                   NA           NA             NA                         0.00                        \n",
       "329905  9                   NA           NA             NA                         0.00                        \n",
       "329906 10                   NA           NA             NA                         0.00                        \n",
       "329907  7                   NA           NA             NA                         0.00                        \n",
       "329908  2                   NA           NA             NA                         0.00                        \n",
       "329909  9                   NA           NA             NA                         0.00                        \n",
       "329910 10                   NA           NA             NA                         0.00                        \n",
       "329911  2                   NA           NA             NA                         0.00                        \n",
       "329912 11                   NA           NA             NA                         0.00                        \n",
       "329913  3                   NA           NA             NA                         0.00                        \n",
       "329914  3                   NA           NA             NA                         0.00                        \n",
       "329915 23               807.91            2              0                        35.19                        \n",
       "329916 11                   NA           NA             NA                         0.00                        \n",
       "329917  7                   NA           NA             NA                         0.00                        \n",
       "329918  8                   NA           NA             NA                         0.00                        \n",
       "329919  2                   NA           NA             NA                         0.00                        "
      ]
     },
     "metadata": {},
     "output_type": "display_data"
    }
   ],
   "source": [
    "# Set max.print option to a large integer value\n",
    "options(width = 120)\n",
    "\n",
    "\n",
    "# Show the dataset\n",
    "dataset"
   ]
  },
  {
   "cell_type": "markdown",
   "metadata": {},
   "source": [
    "### Ahora, algunas operaciones básicas con el dataset"
   ]
  },
  {
   "cell_type": "markdown",
   "metadata": {},
   "source": [
    "cantidad de registros y columnas"
   ]
  },
  {
   "cell_type": "code",
   "execution_count": 61,
   "metadata": {
    "tags": []
   },
   "outputs": [
    {
     "data": {
      "text/html": [
       "329919"
      ],
      "text/latex": [
       "329919"
      ],
      "text/markdown": [
       "329919"
      ],
      "text/plain": [
       "[1] 329919"
      ]
     },
     "metadata": {},
     "output_type": "display_data"
    },
    {
     "data": {
      "text/html": [
       "155"
      ],
      "text/latex": [
       "155"
      ],
      "text/markdown": [
       "155"
      ],
      "text/plain": [
       "[1] 155"
      ]
     },
     "metadata": {},
     "output_type": "display_data"
    }
   ],
   "source": [
    "nrow( dataset )\n",
    "ncol( dataset )"
   ]
  },
  {
   "cell_type": "markdown",
   "metadata": {},
   "source": [
    "Otra forma de ver la cantidad de registros del dataset, al  *estilo data table*\n",
    "<br>\n",
    "El .N  es la cantidad de registros y va en la segunda poscion  dataset[ 1, 2, 3 ]"
   ]
  },
  {
   "cell_type": "code",
   "execution_count": 62,
   "metadata": {
    "tags": []
   },
   "outputs": [
    {
     "data": {
      "text/html": [
       "329919"
      ],
      "text/latex": [
       "329919"
      ],
      "text/markdown": [
       "329919"
      ],
      "text/plain": [
       "[1] 329919"
      ]
     },
     "metadata": {},
     "output_type": "display_data"
    }
   ],
   "source": [
    "dataset[ , .N ]"
   ]
  },
  {
   "cell_type": "markdown",
   "metadata": {},
   "source": [
    "Ahora hacemos la apertura por el periodo, el campo  foto_mes"
   ]
  },
  {
   "cell_type": "code",
   "execution_count": 63,
   "metadata": {
    "tags": []
   },
   "outputs": [
    {
     "data": {
      "text/html": [
       "<table class=\"dataframe\">\n",
       "<caption>A data.table: 2 × 2</caption>\n",
       "<thead>\n",
       "\t<tr><th scope=col>foto_mes</th><th scope=col>N</th></tr>\n",
       "\t<tr><th scope=col>&lt;int&gt;</th><th scope=col>&lt;int&gt;</th></tr>\n",
       "</thead>\n",
       "<tbody>\n",
       "\t<tr><td>202107</td><td>164682</td></tr>\n",
       "\t<tr><td>202109</td><td>165237</td></tr>\n",
       "</tbody>\n",
       "</table>\n"
      ],
      "text/latex": [
       "A data.table: 2 × 2\n",
       "\\begin{tabular}{ll}\n",
       " foto\\_mes & N\\\\\n",
       " <int> & <int>\\\\\n",
       "\\hline\n",
       "\t 202107 & 164682\\\\\n",
       "\t 202109 & 165237\\\\\n",
       "\\end{tabular}\n"
      ],
      "text/markdown": [
       "\n",
       "A data.table: 2 × 2\n",
       "\n",
       "| foto_mes &lt;int&gt; | N &lt;int&gt; |\n",
       "|---|---|\n",
       "| 202107 | 164682 |\n",
       "| 202109 | 165237 |\n",
       "\n"
      ],
      "text/plain": [
       "  foto_mes N     \n",
       "1 202107   164682\n",
       "2 202109   165237"
      ]
     },
     "metadata": {},
     "output_type": "display_data"
    }
   ],
   "source": [
    "dataset[ , .N, foto_mes ]"
   ]
  },
  {
   "cell_type": "markdown",
   "metadata": {},
   "source": [
    "nombre de las columnas del dataset"
   ]
  },
  {
   "cell_type": "code",
   "execution_count": 64,
   "metadata": {
    "tags": []
   },
   "outputs": [
    {
     "data": {
      "text/html": [
       "<style>\n",
       ".list-inline {list-style: none; margin:0; padding: 0}\n",
       ".list-inline>li {display: inline-block}\n",
       ".list-inline>li:not(:last-child)::after {content: \"\\00b7\"; padding: 0 .5ex}\n",
       "</style>\n",
       "<ol class=list-inline><li>'numero_de_cliente'</li><li>'foto_mes'</li><li>'active_quarter'</li><li>'cliente_vip'</li><li>'internet'</li><li>'cliente_edad'</li><li>'cliente_antiguedad'</li><li>'mrentabilidad'</li><li>'mrentabilidad_annual'</li><li>'mcomisiones'</li><li>'mactivos_margen'</li><li>'mpasivos_margen'</li><li>'cproductos'</li><li>'tcuentas'</li><li>'ccuenta_corriente'</li><li>'mcuenta_corriente_adicional'</li><li>'mcuenta_corriente'</li><li>'ccaja_ahorro'</li><li>'mcaja_ahorro'</li><li>'mcaja_ahorro_adicional'</li><li>'mcaja_ahorro_dolares'</li><li>'cdescubierto_preacordado'</li><li>'mcuentas_saldo'</li><li>'ctarjeta_debito'</li><li>'ctarjeta_debito_transacciones'</li><li>'mautoservicio'</li><li>'ctarjeta_visa'</li><li>'ctarjeta_visa_transacciones'</li><li>'mtarjeta_visa_consumo'</li><li>'ctarjeta_master'</li><li>'ctarjeta_master_transacciones'</li><li>'mtarjeta_master_consumo'</li><li>'cprestamos_personales'</li><li>'mprestamos_personales'</li><li>'cprestamos_prendarios'</li><li>'mprestamos_prendarios'</li><li>'cprestamos_hipotecarios'</li><li>'mprestamos_hipotecarios'</li><li>'cplazo_fijo'</li><li>'mplazo_fijo_dolares'</li><li>'mplazo_fijo_pesos'</li><li>'cinversion1'</li><li>'minversion1_pesos'</li><li>'minversion1_dolares'</li><li>'cinversion2'</li><li>'minversion2'</li><li>'cseguro_vida'</li><li>'cseguro_auto'</li><li>'cseguro_vivienda'</li><li>'cseguro_accidentes_personales'</li><li>'ccaja_seguridad'</li><li>'cpayroll_trx'</li><li>'mpayroll'</li><li>'mpayroll2'</li><li>'cpayroll2_trx'</li><li>'ccuenta_debitos_automaticos'</li><li>'mcuenta_debitos_automaticos'</li><li>'ctarjeta_visa_debitos_automaticos'</li><li>'mttarjeta_visa_debitos_automaticos'</li><li>'ctarjeta_master_debitos_automaticos'</li><li>'mttarjeta_master_debitos_automaticos'</li><li>'cpagodeservicios'</li><li>'mpagodeservicios'</li><li>'cpagomiscuentas'</li><li>'mpagomiscuentas'</li><li>'ccajeros_propios_descuentos'</li><li>'mcajeros_propios_descuentos'</li><li>'ctarjeta_visa_descuentos'</li><li>'mtarjeta_visa_descuentos'</li><li>'ctarjeta_master_descuentos'</li><li>'mtarjeta_master_descuentos'</li><li>'ccomisiones_mantenimiento'</li><li>'mcomisiones_mantenimiento'</li><li>'ccomisiones_otras'</li><li>'mcomisiones_otras'</li><li>'cforex'</li><li>'cforex_buy'</li><li>'mforex_buy'</li><li>'cforex_sell'</li><li>'mforex_sell'</li><li>'ctransferencias_recibidas'</li><li>'mtransferencias_recibidas'</li><li>'ctransferencias_emitidas'</li><li>'mtransferencias_emitidas'</li><li>'cextraccion_autoservicio'</li><li>'mextraccion_autoservicio'</li><li>'ccheques_depositados'</li><li>'mcheques_depositados'</li><li>'ccheques_emitidos'</li><li>'mcheques_emitidos'</li><li>'ccheques_depositados_rechazados'</li><li>'mcheques_depositados_rechazados'</li><li>'ccheques_emitidos_rechazados'</li><li>'mcheques_emitidos_rechazados'</li><li>'tcallcenter'</li><li>'ccallcenter_transacciones'</li><li>'thomebanking'</li><li>'chomebanking_transacciones'</li><li>'ccajas_transacciones'</li><li>'ccajas_consultas'</li><li>'ccajas_depositos'</li><li>'ccajas_extracciones'</li><li>'ccajas_otras'</li><li>'catm_trx'</li><li>'matm'</li><li>'catm_trx_other'</li><li>'matm_other'</li><li>'ctrx_quarter'</li><li>'tmobile_app'</li><li>'cmobile_app_trx'</li><li>'Master_delinquency'</li><li>'Master_status'</li><li>'Master_mfinanciacion_limite'</li><li>'Master_Fvencimiento'</li><li>'Master_Finiciomora'</li><li>'Master_msaldototal'</li><li>'Master_msaldopesos'</li><li>'Master_msaldodolares'</li><li>'Master_mconsumospesos'</li><li>'Master_mconsumosdolares'</li><li>'Master_mlimitecompra'</li><li>'Master_madelantopesos'</li><li>'Master_madelantodolares'</li><li>'Master_fultimo_cierre'</li><li>'Master_mpagado'</li><li>'Master_mpagospesos'</li><li>'Master_mpagosdolares'</li><li>'Master_fechaalta'</li><li>'Master_mconsumototal'</li><li>'Master_cconsumos'</li><li>'Master_cadelantosefectivo'</li><li>'Master_mpagominimo'</li><li>'Visa_delinquency'</li><li>'Visa_status'</li><li>'Visa_mfinanciacion_limite'</li><li>'Visa_Fvencimiento'</li><li>'Visa_Finiciomora'</li><li>'Visa_msaldototal'</li><li>'Visa_msaldopesos'</li><li>'Visa_msaldodolares'</li><li>'Visa_mconsumospesos'</li><li>'Visa_mconsumosdolares'</li><li>'Visa_mlimitecompra'</li><li>'Visa_madelantopesos'</li><li>'Visa_madelantodolares'</li><li>'Visa_fultimo_cierre'</li><li>'Visa_mpagado'</li><li>'Visa_mpagospesos'</li><li>'Visa_mpagosdolares'</li><li>'Visa_fechaalta'</li><li>'Visa_mconsumototal'</li><li>'Visa_cconsumos'</li><li>'Visa_cadelantosefectivo'</li><li>'Visa_mpagominimo'</li><li>'clase_ternaria'</li></ol>\n"
      ],
      "text/latex": [
       "\\begin{enumerate*}\n",
       "\\item 'numero\\_de\\_cliente'\n",
       "\\item 'foto\\_mes'\n",
       "\\item 'active\\_quarter'\n",
       "\\item 'cliente\\_vip'\n",
       "\\item 'internet'\n",
       "\\item 'cliente\\_edad'\n",
       "\\item 'cliente\\_antiguedad'\n",
       "\\item 'mrentabilidad'\n",
       "\\item 'mrentabilidad\\_annual'\n",
       "\\item 'mcomisiones'\n",
       "\\item 'mactivos\\_margen'\n",
       "\\item 'mpasivos\\_margen'\n",
       "\\item 'cproductos'\n",
       "\\item 'tcuentas'\n",
       "\\item 'ccuenta\\_corriente'\n",
       "\\item 'mcuenta\\_corriente\\_adicional'\n",
       "\\item 'mcuenta\\_corriente'\n",
       "\\item 'ccaja\\_ahorro'\n",
       "\\item 'mcaja\\_ahorro'\n",
       "\\item 'mcaja\\_ahorro\\_adicional'\n",
       "\\item 'mcaja\\_ahorro\\_dolares'\n",
       "\\item 'cdescubierto\\_preacordado'\n",
       "\\item 'mcuentas\\_saldo'\n",
       "\\item 'ctarjeta\\_debito'\n",
       "\\item 'ctarjeta\\_debito\\_transacciones'\n",
       "\\item 'mautoservicio'\n",
       "\\item 'ctarjeta\\_visa'\n",
       "\\item 'ctarjeta\\_visa\\_transacciones'\n",
       "\\item 'mtarjeta\\_visa\\_consumo'\n",
       "\\item 'ctarjeta\\_master'\n",
       "\\item 'ctarjeta\\_master\\_transacciones'\n",
       "\\item 'mtarjeta\\_master\\_consumo'\n",
       "\\item 'cprestamos\\_personales'\n",
       "\\item 'mprestamos\\_personales'\n",
       "\\item 'cprestamos\\_prendarios'\n",
       "\\item 'mprestamos\\_prendarios'\n",
       "\\item 'cprestamos\\_hipotecarios'\n",
       "\\item 'mprestamos\\_hipotecarios'\n",
       "\\item 'cplazo\\_fijo'\n",
       "\\item 'mplazo\\_fijo\\_dolares'\n",
       "\\item 'mplazo\\_fijo\\_pesos'\n",
       "\\item 'cinversion1'\n",
       "\\item 'minversion1\\_pesos'\n",
       "\\item 'minversion1\\_dolares'\n",
       "\\item 'cinversion2'\n",
       "\\item 'minversion2'\n",
       "\\item 'cseguro\\_vida'\n",
       "\\item 'cseguro\\_auto'\n",
       "\\item 'cseguro\\_vivienda'\n",
       "\\item 'cseguro\\_accidentes\\_personales'\n",
       "\\item 'ccaja\\_seguridad'\n",
       "\\item 'cpayroll\\_trx'\n",
       "\\item 'mpayroll'\n",
       "\\item 'mpayroll2'\n",
       "\\item 'cpayroll2\\_trx'\n",
       "\\item 'ccuenta\\_debitos\\_automaticos'\n",
       "\\item 'mcuenta\\_debitos\\_automaticos'\n",
       "\\item 'ctarjeta\\_visa\\_debitos\\_automaticos'\n",
       "\\item 'mttarjeta\\_visa\\_debitos\\_automaticos'\n",
       "\\item 'ctarjeta\\_master\\_debitos\\_automaticos'\n",
       "\\item 'mttarjeta\\_master\\_debitos\\_automaticos'\n",
       "\\item 'cpagodeservicios'\n",
       "\\item 'mpagodeservicios'\n",
       "\\item 'cpagomiscuentas'\n",
       "\\item 'mpagomiscuentas'\n",
       "\\item 'ccajeros\\_propios\\_descuentos'\n",
       "\\item 'mcajeros\\_propios\\_descuentos'\n",
       "\\item 'ctarjeta\\_visa\\_descuentos'\n",
       "\\item 'mtarjeta\\_visa\\_descuentos'\n",
       "\\item 'ctarjeta\\_master\\_descuentos'\n",
       "\\item 'mtarjeta\\_master\\_descuentos'\n",
       "\\item 'ccomisiones\\_mantenimiento'\n",
       "\\item 'mcomisiones\\_mantenimiento'\n",
       "\\item 'ccomisiones\\_otras'\n",
       "\\item 'mcomisiones\\_otras'\n",
       "\\item 'cforex'\n",
       "\\item 'cforex\\_buy'\n",
       "\\item 'mforex\\_buy'\n",
       "\\item 'cforex\\_sell'\n",
       "\\item 'mforex\\_sell'\n",
       "\\item 'ctransferencias\\_recibidas'\n",
       "\\item 'mtransferencias\\_recibidas'\n",
       "\\item 'ctransferencias\\_emitidas'\n",
       "\\item 'mtransferencias\\_emitidas'\n",
       "\\item 'cextraccion\\_autoservicio'\n",
       "\\item 'mextraccion\\_autoservicio'\n",
       "\\item 'ccheques\\_depositados'\n",
       "\\item 'mcheques\\_depositados'\n",
       "\\item 'ccheques\\_emitidos'\n",
       "\\item 'mcheques\\_emitidos'\n",
       "\\item 'ccheques\\_depositados\\_rechazados'\n",
       "\\item 'mcheques\\_depositados\\_rechazados'\n",
       "\\item 'ccheques\\_emitidos\\_rechazados'\n",
       "\\item 'mcheques\\_emitidos\\_rechazados'\n",
       "\\item 'tcallcenter'\n",
       "\\item 'ccallcenter\\_transacciones'\n",
       "\\item 'thomebanking'\n",
       "\\item 'chomebanking\\_transacciones'\n",
       "\\item 'ccajas\\_transacciones'\n",
       "\\item 'ccajas\\_consultas'\n",
       "\\item 'ccajas\\_depositos'\n",
       "\\item 'ccajas\\_extracciones'\n",
       "\\item 'ccajas\\_otras'\n",
       "\\item 'catm\\_trx'\n",
       "\\item 'matm'\n",
       "\\item 'catm\\_trx\\_other'\n",
       "\\item 'matm\\_other'\n",
       "\\item 'ctrx\\_quarter'\n",
       "\\item 'tmobile\\_app'\n",
       "\\item 'cmobile\\_app\\_trx'\n",
       "\\item 'Master\\_delinquency'\n",
       "\\item 'Master\\_status'\n",
       "\\item 'Master\\_mfinanciacion\\_limite'\n",
       "\\item 'Master\\_Fvencimiento'\n",
       "\\item 'Master\\_Finiciomora'\n",
       "\\item 'Master\\_msaldototal'\n",
       "\\item 'Master\\_msaldopesos'\n",
       "\\item 'Master\\_msaldodolares'\n",
       "\\item 'Master\\_mconsumospesos'\n",
       "\\item 'Master\\_mconsumosdolares'\n",
       "\\item 'Master\\_mlimitecompra'\n",
       "\\item 'Master\\_madelantopesos'\n",
       "\\item 'Master\\_madelantodolares'\n",
       "\\item 'Master\\_fultimo\\_cierre'\n",
       "\\item 'Master\\_mpagado'\n",
       "\\item 'Master\\_mpagospesos'\n",
       "\\item 'Master\\_mpagosdolares'\n",
       "\\item 'Master\\_fechaalta'\n",
       "\\item 'Master\\_mconsumototal'\n",
       "\\item 'Master\\_cconsumos'\n",
       "\\item 'Master\\_cadelantosefectivo'\n",
       "\\item 'Master\\_mpagominimo'\n",
       "\\item 'Visa\\_delinquency'\n",
       "\\item 'Visa\\_status'\n",
       "\\item 'Visa\\_mfinanciacion\\_limite'\n",
       "\\item 'Visa\\_Fvencimiento'\n",
       "\\item 'Visa\\_Finiciomora'\n",
       "\\item 'Visa\\_msaldototal'\n",
       "\\item 'Visa\\_msaldopesos'\n",
       "\\item 'Visa\\_msaldodolares'\n",
       "\\item 'Visa\\_mconsumospesos'\n",
       "\\item 'Visa\\_mconsumosdolares'\n",
       "\\item 'Visa\\_mlimitecompra'\n",
       "\\item 'Visa\\_madelantopesos'\n",
       "\\item 'Visa\\_madelantodolares'\n",
       "\\item 'Visa\\_fultimo\\_cierre'\n",
       "\\item 'Visa\\_mpagado'\n",
       "\\item 'Visa\\_mpagospesos'\n",
       "\\item 'Visa\\_mpagosdolares'\n",
       "\\item 'Visa\\_fechaalta'\n",
       "\\item 'Visa\\_mconsumototal'\n",
       "\\item 'Visa\\_cconsumos'\n",
       "\\item 'Visa\\_cadelantosefectivo'\n",
       "\\item 'Visa\\_mpagominimo'\n",
       "\\item 'clase\\_ternaria'\n",
       "\\end{enumerate*}\n"
      ],
      "text/markdown": [
       "1. 'numero_de_cliente'\n",
       "2. 'foto_mes'\n",
       "3. 'active_quarter'\n",
       "4. 'cliente_vip'\n",
       "5. 'internet'\n",
       "6. 'cliente_edad'\n",
       "7. 'cliente_antiguedad'\n",
       "8. 'mrentabilidad'\n",
       "9. 'mrentabilidad_annual'\n",
       "10. 'mcomisiones'\n",
       "11. 'mactivos_margen'\n",
       "12. 'mpasivos_margen'\n",
       "13. 'cproductos'\n",
       "14. 'tcuentas'\n",
       "15. 'ccuenta_corriente'\n",
       "16. 'mcuenta_corriente_adicional'\n",
       "17. 'mcuenta_corriente'\n",
       "18. 'ccaja_ahorro'\n",
       "19. 'mcaja_ahorro'\n",
       "20. 'mcaja_ahorro_adicional'\n",
       "21. 'mcaja_ahorro_dolares'\n",
       "22. 'cdescubierto_preacordado'\n",
       "23. 'mcuentas_saldo'\n",
       "24. 'ctarjeta_debito'\n",
       "25. 'ctarjeta_debito_transacciones'\n",
       "26. 'mautoservicio'\n",
       "27. 'ctarjeta_visa'\n",
       "28. 'ctarjeta_visa_transacciones'\n",
       "29. 'mtarjeta_visa_consumo'\n",
       "30. 'ctarjeta_master'\n",
       "31. 'ctarjeta_master_transacciones'\n",
       "32. 'mtarjeta_master_consumo'\n",
       "33. 'cprestamos_personales'\n",
       "34. 'mprestamos_personales'\n",
       "35. 'cprestamos_prendarios'\n",
       "36. 'mprestamos_prendarios'\n",
       "37. 'cprestamos_hipotecarios'\n",
       "38. 'mprestamos_hipotecarios'\n",
       "39. 'cplazo_fijo'\n",
       "40. 'mplazo_fijo_dolares'\n",
       "41. 'mplazo_fijo_pesos'\n",
       "42. 'cinversion1'\n",
       "43. 'minversion1_pesos'\n",
       "44. 'minversion1_dolares'\n",
       "45. 'cinversion2'\n",
       "46. 'minversion2'\n",
       "47. 'cseguro_vida'\n",
       "48. 'cseguro_auto'\n",
       "49. 'cseguro_vivienda'\n",
       "50. 'cseguro_accidentes_personales'\n",
       "51. 'ccaja_seguridad'\n",
       "52. 'cpayroll_trx'\n",
       "53. 'mpayroll'\n",
       "54. 'mpayroll2'\n",
       "55. 'cpayroll2_trx'\n",
       "56. 'ccuenta_debitos_automaticos'\n",
       "57. 'mcuenta_debitos_automaticos'\n",
       "58. 'ctarjeta_visa_debitos_automaticos'\n",
       "59. 'mttarjeta_visa_debitos_automaticos'\n",
       "60. 'ctarjeta_master_debitos_automaticos'\n",
       "61. 'mttarjeta_master_debitos_automaticos'\n",
       "62. 'cpagodeservicios'\n",
       "63. 'mpagodeservicios'\n",
       "64. 'cpagomiscuentas'\n",
       "65. 'mpagomiscuentas'\n",
       "66. 'ccajeros_propios_descuentos'\n",
       "67. 'mcajeros_propios_descuentos'\n",
       "68. 'ctarjeta_visa_descuentos'\n",
       "69. 'mtarjeta_visa_descuentos'\n",
       "70. 'ctarjeta_master_descuentos'\n",
       "71. 'mtarjeta_master_descuentos'\n",
       "72. 'ccomisiones_mantenimiento'\n",
       "73. 'mcomisiones_mantenimiento'\n",
       "74. 'ccomisiones_otras'\n",
       "75. 'mcomisiones_otras'\n",
       "76. 'cforex'\n",
       "77. 'cforex_buy'\n",
       "78. 'mforex_buy'\n",
       "79. 'cforex_sell'\n",
       "80. 'mforex_sell'\n",
       "81. 'ctransferencias_recibidas'\n",
       "82. 'mtransferencias_recibidas'\n",
       "83. 'ctransferencias_emitidas'\n",
       "84. 'mtransferencias_emitidas'\n",
       "85. 'cextraccion_autoservicio'\n",
       "86. 'mextraccion_autoservicio'\n",
       "87. 'ccheques_depositados'\n",
       "88. 'mcheques_depositados'\n",
       "89. 'ccheques_emitidos'\n",
       "90. 'mcheques_emitidos'\n",
       "91. 'ccheques_depositados_rechazados'\n",
       "92. 'mcheques_depositados_rechazados'\n",
       "93. 'ccheques_emitidos_rechazados'\n",
       "94. 'mcheques_emitidos_rechazados'\n",
       "95. 'tcallcenter'\n",
       "96. 'ccallcenter_transacciones'\n",
       "97. 'thomebanking'\n",
       "98. 'chomebanking_transacciones'\n",
       "99. 'ccajas_transacciones'\n",
       "100. 'ccajas_consultas'\n",
       "101. 'ccajas_depositos'\n",
       "102. 'ccajas_extracciones'\n",
       "103. 'ccajas_otras'\n",
       "104. 'catm_trx'\n",
       "105. 'matm'\n",
       "106. 'catm_trx_other'\n",
       "107. 'matm_other'\n",
       "108. 'ctrx_quarter'\n",
       "109. 'tmobile_app'\n",
       "110. 'cmobile_app_trx'\n",
       "111. 'Master_delinquency'\n",
       "112. 'Master_status'\n",
       "113. 'Master_mfinanciacion_limite'\n",
       "114. 'Master_Fvencimiento'\n",
       "115. 'Master_Finiciomora'\n",
       "116. 'Master_msaldototal'\n",
       "117. 'Master_msaldopesos'\n",
       "118. 'Master_msaldodolares'\n",
       "119. 'Master_mconsumospesos'\n",
       "120. 'Master_mconsumosdolares'\n",
       "121. 'Master_mlimitecompra'\n",
       "122. 'Master_madelantopesos'\n",
       "123. 'Master_madelantodolares'\n",
       "124. 'Master_fultimo_cierre'\n",
       "125. 'Master_mpagado'\n",
       "126. 'Master_mpagospesos'\n",
       "127. 'Master_mpagosdolares'\n",
       "128. 'Master_fechaalta'\n",
       "129. 'Master_mconsumototal'\n",
       "130. 'Master_cconsumos'\n",
       "131. 'Master_cadelantosefectivo'\n",
       "132. 'Master_mpagominimo'\n",
       "133. 'Visa_delinquency'\n",
       "134. 'Visa_status'\n",
       "135. 'Visa_mfinanciacion_limite'\n",
       "136. 'Visa_Fvencimiento'\n",
       "137. 'Visa_Finiciomora'\n",
       "138. 'Visa_msaldototal'\n",
       "139. 'Visa_msaldopesos'\n",
       "140. 'Visa_msaldodolares'\n",
       "141. 'Visa_mconsumospesos'\n",
       "142. 'Visa_mconsumosdolares'\n",
       "143. 'Visa_mlimitecompra'\n",
       "144. 'Visa_madelantopesos'\n",
       "145. 'Visa_madelantodolares'\n",
       "146. 'Visa_fultimo_cierre'\n",
       "147. 'Visa_mpagado'\n",
       "148. 'Visa_mpagospesos'\n",
       "149. 'Visa_mpagosdolares'\n",
       "150. 'Visa_fechaalta'\n",
       "151. 'Visa_mconsumototal'\n",
       "152. 'Visa_cconsumos'\n",
       "153. 'Visa_cadelantosefectivo'\n",
       "154. 'Visa_mpagominimo'\n",
       "155. 'clase_ternaria'\n",
       "\n",
       "\n"
      ],
      "text/plain": [
       "  [1] \"numero_de_cliente\"                    \"foto_mes\"                            \n",
       "  [3] \"active_quarter\"                       \"cliente_vip\"                         \n",
       "  [5] \"internet\"                             \"cliente_edad\"                        \n",
       "  [7] \"cliente_antiguedad\"                   \"mrentabilidad\"                       \n",
       "  [9] \"mrentabilidad_annual\"                 \"mcomisiones\"                         \n",
       " [11] \"mactivos_margen\"                      \"mpasivos_margen\"                     \n",
       " [13] \"cproductos\"                           \"tcuentas\"                            \n",
       " [15] \"ccuenta_corriente\"                    \"mcuenta_corriente_adicional\"         \n",
       " [17] \"mcuenta_corriente\"                    \"ccaja_ahorro\"                        \n",
       " [19] \"mcaja_ahorro\"                         \"mcaja_ahorro_adicional\"              \n",
       " [21] \"mcaja_ahorro_dolares\"                 \"cdescubierto_preacordado\"            \n",
       " [23] \"mcuentas_saldo\"                       \"ctarjeta_debito\"                     \n",
       " [25] \"ctarjeta_debito_transacciones\"        \"mautoservicio\"                       \n",
       " [27] \"ctarjeta_visa\"                        \"ctarjeta_visa_transacciones\"         \n",
       " [29] \"mtarjeta_visa_consumo\"                \"ctarjeta_master\"                     \n",
       " [31] \"ctarjeta_master_transacciones\"        \"mtarjeta_master_consumo\"             \n",
       " [33] \"cprestamos_personales\"                \"mprestamos_personales\"               \n",
       " [35] \"cprestamos_prendarios\"                \"mprestamos_prendarios\"               \n",
       " [37] \"cprestamos_hipotecarios\"              \"mprestamos_hipotecarios\"             \n",
       " [39] \"cplazo_fijo\"                          \"mplazo_fijo_dolares\"                 \n",
       " [41] \"mplazo_fijo_pesos\"                    \"cinversion1\"                         \n",
       " [43] \"minversion1_pesos\"                    \"minversion1_dolares\"                 \n",
       " [45] \"cinversion2\"                          \"minversion2\"                         \n",
       " [47] \"cseguro_vida\"                         \"cseguro_auto\"                        \n",
       " [49] \"cseguro_vivienda\"                     \"cseguro_accidentes_personales\"       \n",
       " [51] \"ccaja_seguridad\"                      \"cpayroll_trx\"                        \n",
       " [53] \"mpayroll\"                             \"mpayroll2\"                           \n",
       " [55] \"cpayroll2_trx\"                        \"ccuenta_debitos_automaticos\"         \n",
       " [57] \"mcuenta_debitos_automaticos\"          \"ctarjeta_visa_debitos_automaticos\"   \n",
       " [59] \"mttarjeta_visa_debitos_automaticos\"   \"ctarjeta_master_debitos_automaticos\" \n",
       " [61] \"mttarjeta_master_debitos_automaticos\" \"cpagodeservicios\"                    \n",
       " [63] \"mpagodeservicios\"                     \"cpagomiscuentas\"                     \n",
       " [65] \"mpagomiscuentas\"                      \"ccajeros_propios_descuentos\"         \n",
       " [67] \"mcajeros_propios_descuentos\"          \"ctarjeta_visa_descuentos\"            \n",
       " [69] \"mtarjeta_visa_descuentos\"             \"ctarjeta_master_descuentos\"          \n",
       " [71] \"mtarjeta_master_descuentos\"           \"ccomisiones_mantenimiento\"           \n",
       " [73] \"mcomisiones_mantenimiento\"            \"ccomisiones_otras\"                   \n",
       " [75] \"mcomisiones_otras\"                    \"cforex\"                              \n",
       " [77] \"cforex_buy\"                           \"mforex_buy\"                          \n",
       " [79] \"cforex_sell\"                          \"mforex_sell\"                         \n",
       " [81] \"ctransferencias_recibidas\"            \"mtransferencias_recibidas\"           \n",
       " [83] \"ctransferencias_emitidas\"             \"mtransferencias_emitidas\"            \n",
       " [85] \"cextraccion_autoservicio\"             \"mextraccion_autoservicio\"            \n",
       " [87] \"ccheques_depositados\"                 \"mcheques_depositados\"                \n",
       " [89] \"ccheques_emitidos\"                    \"mcheques_emitidos\"                   \n",
       " [91] \"ccheques_depositados_rechazados\"      \"mcheques_depositados_rechazados\"     \n",
       " [93] \"ccheques_emitidos_rechazados\"         \"mcheques_emitidos_rechazados\"        \n",
       " [95] \"tcallcenter\"                          \"ccallcenter_transacciones\"           \n",
       " [97] \"thomebanking\"                         \"chomebanking_transacciones\"          \n",
       " [99] \"ccajas_transacciones\"                 \"ccajas_consultas\"                    \n",
       "[101] \"ccajas_depositos\"                     \"ccajas_extracciones\"                 \n",
       "[103] \"ccajas_otras\"                         \"catm_trx\"                            \n",
       "[105] \"matm\"                                 \"catm_trx_other\"                      \n",
       "[107] \"matm_other\"                           \"ctrx_quarter\"                        \n",
       "[109] \"tmobile_app\"                          \"cmobile_app_trx\"                     \n",
       "[111] \"Master_delinquency\"                   \"Master_status\"                       \n",
       "[113] \"Master_mfinanciacion_limite\"          \"Master_Fvencimiento\"                 \n",
       "[115] \"Master_Finiciomora\"                   \"Master_msaldototal\"                  \n",
       "[117] \"Master_msaldopesos\"                   \"Master_msaldodolares\"                \n",
       "[119] \"Master_mconsumospesos\"                \"Master_mconsumosdolares\"             \n",
       "[121] \"Master_mlimitecompra\"                 \"Master_madelantopesos\"               \n",
       "[123] \"Master_madelantodolares\"              \"Master_fultimo_cierre\"               \n",
       "[125] \"Master_mpagado\"                       \"Master_mpagospesos\"                  \n",
       "[127] \"Master_mpagosdolares\"                 \"Master_fechaalta\"                    \n",
       "[129] \"Master_mconsumototal\"                 \"Master_cconsumos\"                    \n",
       "[131] \"Master_cadelantosefectivo\"            \"Master_mpagominimo\"                  \n",
       "[133] \"Visa_delinquency\"                     \"Visa_status\"                         \n",
       "[135] \"Visa_mfinanciacion_limite\"            \"Visa_Fvencimiento\"                   \n",
       "[137] \"Visa_Finiciomora\"                     \"Visa_msaldototal\"                    \n",
       "[139] \"Visa_msaldopesos\"                     \"Visa_msaldodolares\"                  \n",
       "[141] \"Visa_mconsumospesos\"                  \"Visa_mconsumosdolares\"               \n",
       "[143] \"Visa_mlimitecompra\"                   \"Visa_madelantopesos\"                 \n",
       "[145] \"Visa_madelantodolares\"                \"Visa_fultimo_cierre\"                 \n",
       "[147] \"Visa_mpagado\"                         \"Visa_mpagospesos\"                    \n",
       "[149] \"Visa_mpagosdolares\"                   \"Visa_fechaalta\"                      \n",
       "[151] \"Visa_mconsumototal\"                   \"Visa_cconsumos\"                      \n",
       "[153] \"Visa_cadelantosefectivo\"              \"Visa_mpagominimo\"                    \n",
       "[155] \"clase_ternaria\"                      "
      ]
     },
     "metadata": {},
     "output_type": "display_data"
    }
   ],
   "source": [
    "colnames( dataset )"
   ]
  },
  {
   "cell_type": "markdown",
   "metadata": {},
   "source": [
    "Exploración de clase_ternaria."
   ]
  },
  {
   "cell_type": "code",
   "execution_count": 65,
   "metadata": {
    "tags": []
   },
   "outputs": [
    {
     "data": {
      "text/html": [
       "<table class=\"dataframe\">\n",
       "<caption>A data.table: 4 × 3</caption>\n",
       "<thead>\n",
       "\t<tr><th scope=col>foto_mes</th><th scope=col>clase_ternaria</th><th scope=col>N</th></tr>\n",
       "\t<tr><th scope=col>&lt;int&gt;</th><th scope=col>&lt;chr&gt;</th><th scope=col>&lt;int&gt;</th></tr>\n",
       "</thead>\n",
       "<tbody>\n",
       "\t<tr><td>202107</td><td>CONTINUA</td><td>162336</td></tr>\n",
       "\t<tr><td>202107</td><td>BAJA+1  </td><td>  1078</td></tr>\n",
       "\t<tr><td>202107</td><td>BAJA+2  </td><td>  1268</td></tr>\n",
       "\t<tr><td>202109</td><td>        </td><td>165237</td></tr>\n",
       "</tbody>\n",
       "</table>\n"
      ],
      "text/latex": [
       "A data.table: 4 × 3\n",
       "\\begin{tabular}{lll}\n",
       " foto\\_mes & clase\\_ternaria & N\\\\\n",
       " <int> & <chr> & <int>\\\\\n",
       "\\hline\n",
       "\t 202107 & CONTINUA & 162336\\\\\n",
       "\t 202107 & BAJA+1   &   1078\\\\\n",
       "\t 202107 & BAJA+2   &   1268\\\\\n",
       "\t 202109 &          & 165237\\\\\n",
       "\\end{tabular}\n"
      ],
      "text/markdown": [
       "\n",
       "A data.table: 4 × 3\n",
       "\n",
       "| foto_mes &lt;int&gt; | clase_ternaria &lt;chr&gt; | N &lt;int&gt; |\n",
       "|---|---|---|\n",
       "| 202107 | CONTINUA | 162336 |\n",
       "| 202107 | BAJA+1   |   1078 |\n",
       "| 202107 | BAJA+2   |   1268 |\n",
       "| 202109 | <!----> | 165237 |\n",
       "\n"
      ],
      "text/plain": [
       "  foto_mes clase_ternaria N     \n",
       "1 202107   CONTINUA       162336\n",
       "2 202107   BAJA+1           1078\n",
       "3 202107   BAJA+2           1268\n",
       "4 202109                  165237"
      ]
     },
     "metadata": {},
     "output_type": "display_data"
    }
   ],
   "source": [
    "dataset[  , .N, list( foto_mes, clase_ternaria) ]"
   ]
  },
  {
   "cell_type": "markdown",
   "metadata": {},
   "source": [
    "###  varias formas de contar los BAJA+2"
   ]
  },
  {
   "cell_type": "markdown",
   "metadata": {},
   "source": [
    "todas las formas dan el mismo resultado"
   ]
  },
  {
   "cell_type": "code",
   "execution_count": 66,
   "metadata": {
    "tags": []
   },
   "outputs": [
    {
     "data": {
      "text/html": [
       "1268"
      ],
      "text/latex": [
       "1268"
      ],
      "text/markdown": [
       "1268"
      ],
      "text/plain": [
       "[1] 1268"
      ]
     },
     "metadata": {},
     "output_type": "display_data"
    }
   ],
   "source": [
    "nrow(  dataset[ clase_ternaria==\"BAJA+2\" ])"
   ]
  },
  {
   "cell_type": "code",
   "execution_count": 67,
   "metadata": {
    "tags": []
   },
   "outputs": [
    {
     "data": {
      "text/html": [
       "1268"
      ],
      "text/latex": [
       "1268"
      ],
      "text/markdown": [
       "1268"
      ],
      "text/plain": [
       "[1] 1268"
      ]
     },
     "metadata": {},
     "output_type": "display_data"
    }
   ],
   "source": [
    "dataset[ clase_ternaria==\"BAJA+2\", .N ] #el autentico estilo data.table"
   ]
  },
  {
   "cell_type": "code",
   "execution_count": 12,
   "metadata": {
    "tags": []
   },
   "outputs": [
    {
     "data": {
      "text/html": [
       "1268"
      ],
      "text/latex": [
       "1268"
      ],
      "text/markdown": [
       "1268"
      ],
      "text/plain": [
       "[1] 1268"
      ]
     },
     "metadata": {},
     "output_type": "display_data"
    }
   ],
   "source": [
    "dataset[  , sum(clase_ternaria==\"BAJA+2\")]"
   ]
  },
  {
   "cell_type": "markdown",
   "metadata": {},
   "source": [
    "### Conteo de proporcion de BAJA+2 en el dataset"
   ]
  },
  {
   "cell_type": "code",
   "execution_count": 68,
   "metadata": {
    "tags": []
   },
   "outputs": [
    {
     "data": {
      "text/html": [
       "0.00769968788331451"
      ],
      "text/latex": [
       "0.00769968788331451"
      ],
      "text/markdown": [
       "0.00769968788331451"
      ],
      "text/plain": [
       "[1] 0.007699688"
      ]
     },
     "metadata": {},
     "output_type": "display_data"
    }
   ],
   "source": [
    "dataset[ foto_mes==202107  ,  sum(clase_ternaria==\"BAJA+2\")/.N]"
   ]
  },
  {
   "cell_type": "markdown",
   "metadata": {},
   "source": [
    "Conteo de la proporcion de BAJA+2 en un predicado"
   ]
  },
  {
   "cell_type": "code",
   "execution_count": 69,
   "metadata": {
    "tags": []
   },
   "outputs": [
    {
     "data": {
      "text/html": [
       "0.0583797038573989"
      ],
      "text/latex": [
       "0.0583797038573989"
      ],
      "text/markdown": [
       "0.0583797038573989"
      ],
      "text/plain": [
       "[1] 0.0583797"
      ]
     },
     "metadata": {},
     "output_type": "display_data"
    }
   ],
   "source": [
    "dataset[ foto_mes==202107 & ctrx_quarter < 20  ,  sum(clase_ternaria==\"BAJA+2\")/.N]"
   ]
  },
  {
   "cell_type": "markdown",
   "metadata": {},
   "source": [
    "### Lift del predicado  ctrx_quarter  vs el universo"
   ]
  },
  {
   "cell_type": "markdown",
   "metadata": {},
   "source": [
    "forma brutal de calcularlo"
   ]
  },
  {
   "cell_type": "code",
   "execution_count": 70,
   "metadata": {
    "tags": []
   },
   "outputs": [
    {
     "data": {
      "text/html": [
       "7.58208705886763"
      ],
      "text/latex": [
       "7.58208705886763"
      ],
      "text/markdown": [
       "7.58208705886763"
      ],
      "text/plain": [
       "[1] 7.582087"
      ]
     },
     "metadata": {},
     "output_type": "display_data"
    }
   ],
   "source": [
    "dataset[ foto_mes==202107 & ctrx_quarter < 20  ,  sum(clase_ternaria==\"BAJA+2\")/.N]  /dataset[ foto_mes==202107  ,  sum(clase_ternaria==\"BAJA+2\")/.N]"
   ]
  },
  {
   "cell_type": "markdown",
   "metadata": {},
   "source": [
    "### Ganancias del dataset"
   ]
  },
  {
   "cell_type": "markdown",
   "metadata": {},
   "source": [
    "Agregado de la columna ganancia al dataset"
   ]
  },
  {
   "cell_type": "markdown",
   "metadata": {},
   "source": [
    "Primero le asigno a TODOS los registros el valor de  -3000\n",
    "<br>\n",
    "la asignacion se hace con el  :="
   ]
  },
  {
   "cell_type": "code",
   "execution_count": 71,
   "metadata": {
    "tags": []
   },
   "outputs": [],
   "source": [
    "dataset[ foto_mes==202107, ganancia := -3000]"
   ]
  },
  {
   "cell_type": "markdown",
   "metadata": {},
   "source": [
    "y finalmente a los  BAJA+2 les asigno 117000"
   ]
  },
  {
   "cell_type": "code",
   "execution_count": 72,
   "metadata": {
    "tags": []
   },
   "outputs": [],
   "source": [
    "dataset[ foto_mes==202107 & clase_ternaria==\"BAJA+2\", ganancia := 117000]"
   ]
  },
  {
   "cell_type": "markdown",
   "metadata": {},
   "source": [
    "Calculo la ganancia que tendria una campaña en donde envío estímulo a TODOS los clientes"
   ]
  },
  {
   "cell_type": "code",
   "execution_count": 73,
   "metadata": {
    "tags": []
   },
   "outputs": [
    {
     "data": {
      "text/html": [
       "-341886000"
      ],
      "text/latex": [
       "-341886000"
      ],
      "text/markdown": [
       "-341886000"
      ],
      "text/plain": [
       "[1] -341886000"
      ]
     },
     "metadata": {},
     "output_type": "display_data"
    }
   ],
   "source": [
    "dataset[ foto_mes==202107 , sum(ganancia)]"
   ]
  },
  {
   "cell_type": "markdown",
   "metadata": {},
   "source": [
    "Si le enviara estímulo a todos, se **pierden**  341 millones de pesos"
   ]
  },
  {
   "cell_type": "markdown",
   "metadata": {},
   "source": [
    "### Ganancias de predicados univariados"
   ]
  },
  {
   "cell_type": "markdown",
   "metadata": {},
   "source": [
    "Calculo la ganancia de un predicado simple\n",
    "ctrx_quarter < 20"
   ]
  },
  {
   "cell_type": "code",
   "execution_count": 42,
   "metadata": {
    "tags": []
   },
   "outputs": [
    {
     "data": {
      "text/html": [
       "42471000"
      ],
      "text/latex": [
       "42471000"
      ],
      "text/markdown": [
       "42471000"
      ],
      "text/plain": [
       "[1] 42471000"
      ]
     },
     "metadata": {},
     "output_type": "display_data"
    }
   ],
   "source": [
    "dataset[ foto_mes==202107 & ctrx_quarter < 20,  sum( ganancia )  ]"
   ]
  },
  {
   "cell_type": "markdown",
   "metadata": {},
   "source": [
    "Ahora  la ganancia de  *ctrx_quarter < 4 *"
   ]
  },
  {
   "cell_type": "code",
   "execution_count": 43,
   "metadata": {
    "tags": []
   },
   "outputs": [
    {
     "data": {
      "text/html": [
       "26598000"
      ],
      "text/latex": [
       "26598000"
      ],
      "text/markdown": [
       "26598000"
      ],
      "text/plain": [
       "[1] 26598000"
      ]
     },
     "metadata": {},
     "output_type": "display_data"
    }
   ],
   "source": [
    "dataset[ foto_mes==202107 & ctrx_quarter < 4,  sum( ganancia )  ]"
   ]
  },
  {
   "cell_type": "markdown",
   "metadata": {},
   "source": [
    "Ahora, en forma brutal e ineficiente, busco donde esta el mejor corte de  ctrx_quarter\n",
    "<br>\n",
    "Ya resolveremos esto en forma inteligente más adelante"
   ]
  },
  {
   "cell_type": "code",
   "execution_count": 44,
   "metadata": {
    "tags": []
   },
   "outputs": [
    {
     "name": "stdout",
     "output_type": "stream",
     "text": [
      "0 0 \n",
      "1 16026000 \n",
      "2 17991000 \n",
      "3 20661000 \n",
      "4 26598000 \n",
      "5 29142000 \n",
      "6 30750000 \n",
      "7 32571000 \n",
      "8 34017000 \n",
      "9 35766000 \n",
      "10 36756000 \n",
      "11 37749000 \n",
      "12 38055000 \n",
      "13 39060000 \n",
      "14 39513000 \n",
      "15 40491000 \n",
      "16 41883000 \n",
      "17 42498000 \n",
      "18 42786000 \n",
      "19 42600000 \n",
      "20 42471000 \n",
      "21 42363000 \n",
      "22 42651000 \n",
      "23 41466000 \n",
      "24 42804000 \n",
      "25 42231000 \n",
      "26 42159000 \n",
      "27 42567000 \n",
      "28 42165000 \n",
      "29 41670000 \n",
      "30 40596000 \n",
      "31 40149000 \n",
      "32 39861000 \n",
      "33 38937000 \n",
      "34 38175000 \n",
      "35 37494000 \n",
      "36 36402000 \n",
      "37 35322000 \n",
      "38 34158000 \n",
      "39 33156000 \n",
      "40 32073000 \n",
      "41 31335000 \n",
      "42 29820000 \n",
      "43 28527000 \n",
      "44 27519000 \n",
      "45 26430000 \n",
      "46 25062000 \n",
      "47 23490000 \n",
      "48 22065000 \n",
      "49 20730000 \n",
      "50 19152000 \n"
     ]
    }
   ],
   "source": [
    "for(  transacciones  in   0:50)\n",
    "{\n",
    "   cat(  transacciones, dataset[  foto_mes==202107 & ctrx_quarter < transacciones,  sum( ganancia )  ] , \"\\n\")    \n",
    "}"
   ]
  },
  {
   "cell_type": "markdown",
   "metadata": {},
   "source": [
    "#### Observo que el predicado  ctrx_quarter < 18 tiene la máxima ganancia"
   ]
  },
  {
   "cell_type": "markdown",
   "metadata": {},
   "source": [
    "# Enhorabuena ! hemos alcanzado los 42.8 M de ganancia"
   ]
  },
  {
   "cell_type": "markdown",
   "metadata": {},
   "source": [
    "### Ganancias de predicado complejo"
   ]
  },
  {
   "cell_type": "code",
   "execution_count": 25,
   "metadata": {
    "tags": []
   },
   "outputs": [
    {
     "data": {
      "text/html": [
       "28866000"
      ],
      "text/latex": [
       "28866000"
      ],
      "text/markdown": [
       "28866000"
      ],
      "text/plain": [
       "[1] 28866000"
      ]
     },
     "metadata": {},
     "output_type": "display_data"
    }
   ],
   "source": [
    "dataset[  foto_mes==202107 & ctrx_quarter < 18 & mpasivos_margen < 29.8 ,  sum( ganancia )  ]"
   ]
  },
  {
   "cell_type": "markdown",
   "metadata": {},
   "source": [
    "### gráficos de densidades"
   ]
  },
  {
   "cell_type": "markdown",
   "metadata": {},
   "source": [
    "Visualización de la densidad de una variable versus clase_ternaria"
   ]
  },
  {
   "cell_type": "code",
   "execution_count": 53,
   "metadata": {
    "tags": []
   },
   "outputs": [],
   "source": [
    "library(\"ggplot2\") #cargo la libreria ggplot2"
   ]
  },
  {
   "cell_type": "code",
   "execution_count": 54,
   "metadata": {
    "tags": []
   },
   "outputs": [
    {
     "data": {
      "image/png": "[encoded data removed]",
      "text/plain": [
       "plot without title"
      ]
     },
     "metadata": {
      "image/png": {
       "height": 900,
       "width": 900
      }
     },
     "output_type": "display_data"
    }
   ],
   "source": [
    "campo <- \"cliente_antiguedad\" \n",
    "ggplot(dataset[ foto_mes==202107] , aes_string(x = campo)) + geom_density(trim=TRUE, na.rm=TRUE) + facet_grid( \"clase_ternaria~ .\")"
   ]
  },
  {
   "cell_type": "markdown",
   "metadata": {},
   "source": [
    "los gráficos salen muy pequeños, busco la documentacion https://blog.revolutionanalytics.com/2015/09/resizing-plots-in-the-r-kernel-for-jupyter-notebooks.html  y agrando los graficos"
   ]
  },
  {
   "cell_type": "code",
   "execution_count": 55,
   "metadata": {
    "tags": []
   },
   "outputs": [],
   "source": [
    "options(repr.plot.width=15, repr.plot.height=15)"
   ]
  },
  {
   "cell_type": "code",
   "execution_count": 56,
   "metadata": {
    "tags": []
   },
   "outputs": [
    {
     "data": {
      "image/png": "[encoded data removed]",
      "text/plain": [
       "plot without title"
      ]
     },
     "metadata": {
      "image/png": {
       "height": 900,
       "width": 900
      }
     },
     "output_type": "display_data"
    }
   ],
   "source": [
    "campo <- \"cliente_antiguedad\" \n",
    "ggplot(dataset[ foto_mes==202107], aes_string(x = campo)) + geom_density(trim=TRUE, na.rm=TRUE) + facet_grid( \"clase_ternaria~ .\")"
   ]
  },
  {
   "cell_type": "code",
   "execution_count": null,
   "metadata": {},
   "outputs": [],
   "source": []
  }
 ],
 "metadata": {
  "kernelspec": {
   "display_name": "R",
   "language": "R",
   "name": "ir"
  },
  "language_info": {
   "codemirror_mode": "r",
   "file_extension": ".r",
   "mimetype": "text/x-r-source",
   "name": "R",
   "pygments_lexer": "r",
   "version": "4.2.3"
  }
 },
 "nbformat": 4,
 "nbformat_minor": 4
}
