{
 "cells": [
  {
   "cell_type": "markdown",
   "metadata": {},
   "source": [
    "# Zero to Hero"
   ]
  },
  {
   "cell_type": "markdown",
   "metadata": {},
   "source": [
    "## 2.01 Optimizacion Bayesiana"
   ]
  },
  {
   "cell_type": "raw",
   "metadata": {},
   "source": [
    "El objetivo es mostrar como funciona la Optimizacion Bayesiana en el caso mas simple : una funcion univariada"
   ]
  },
  {
   "cell_type": "markdown",
   "metadata": {},
   "source": [
    "### Advertencia"
   ]
  },
  {
   "cell_type": "markdown",
   "metadata": {},
   "source": [
    "El uso del método de Optimización Bayesiana para la optimización de hiperparámetros en modelos predictivos tiene menos de una década.\n",
    "Entender los fundamentos de la O.B. requieren de una sólida formación matemática y **no** son el objetivo de esta asignatura.\n",
    "Para quienes deseen aventurarse a los detalles técnicos:\n",
    "* El paper original de la libreria mlrMBO (año 2018 )   https://arxiv.org/pdf/1703.03373.pdf\n",
    "* El método de Kriging , tal cual se deriva del uso original, en este pequeño libro de 106 páginas \"Basic Steps in Geostatistics: The Variogram and Kriging\" https://www.pdfdrive.com/basic-steps-in-geostatistics-the-variogram-and-kriging-e187336318.html"
   ]
  },
  {
   "cell_type": "markdown",
   "metadata": {},
   "source": [
    "### El código"
   ]
  },
  {
   "cell_type": "code",
   "execution_count": 33,
   "metadata": {
    "tags": [],
    "vscode": {
     "languageId": "r"
    }
   },
   "outputs": [
    {
     "data": {
      "text/html": [
       "<table class=\"dataframe\">\n",
       "<caption>A matrix: 2 × 6 of type dbl</caption>\n",
       "<thead>\n",
       "\t<tr><th></th><th scope=col>used</th><th scope=col>(Mb)</th><th scope=col>gc trigger</th><th scope=col>(Mb)</th><th scope=col>max used</th><th scope=col>(Mb)</th></tr>\n",
       "</thead>\n",
       "<tbody>\n",
       "\t<tr><th scope=row>Ncells</th><td>2154562</td><td>115.1</td><td>4062371</td><td>217</td><td>4062371</td><td>217</td></tr>\n",
       "\t<tr><th scope=row>Vcells</th><td>3731477</td><td> 28.5</td><td>8388608</td><td> 64</td><td>8388608</td><td> 64</td></tr>\n",
       "</tbody>\n",
       "</table>\n"
      ],
      "text/latex": [
       "A matrix: 2 × 6 of type dbl\n",
       "\\begin{tabular}{r|llllll}\n",
       "  & used & (Mb) & gc trigger & (Mb) & max used & (Mb)\\\\\n",
       "\\hline\n",
       "\tNcells & 2154562 & 115.1 & 4062371 & 217 & 4062371 & 217\\\\\n",
       "\tVcells & 3731477 &  28.5 & 8388608 &  64 & 8388608 &  64\\\\\n",
       "\\end{tabular}\n"
      ],
      "text/markdown": [
       "\n",
       "A matrix: 2 × 6 of type dbl\n",
       "\n",
       "| <!--/--> | used | (Mb) | gc trigger | (Mb) | max used | (Mb) |\n",
       "|---|---|---|---|---|---|---|\n",
       "| Ncells | 2154562 | 115.1 | 4062371 | 217 | 4062371 | 217 |\n",
       "| Vcells | 3731477 |  28.5 | 8388608 |  64 | 8388608 |  64 |\n",
       "\n"
      ],
      "text/plain": [
       "       used    (Mb)  gc trigger (Mb) max used (Mb)\n",
       "Ncells 2154562 115.1 4062371    217  4062371  217 \n",
       "Vcells 3731477  28.5 8388608     64  8388608   64 "
      ]
     },
     "metadata": {},
     "output_type": "display_data"
    }
   ],
   "source": [
    "#Ejemplo de optimizacion bayesiana, univariada\n",
    "#install.packages(\"mlr\")    \n",
    "#limpio la memoria\n",
    "rm( list=ls() )  #remove all objects\n",
    "gc()             #garbage collection\n",
    "require(\"mlr\")   #load package\n",
    "library(\"mlr\")   #load package\n",
    "#install.packages(\"mlrMBO\")\n",
    "#install.packages(\"DiceKriging\")\n",
    "require(\"data.table\")\n",
    "#paquetes necesarios para la Bayesian Optimization\n",
    "require(\"DiceKriging\")\n",
    "require(\"mlrMBO\")\n",
    "\n",
    "options(repr.plot.width=20, repr.plot.height=10)"
   ]
  },
  {
   "cell_type": "markdown",
   "metadata": {},
   "source": [
    "### Defino la funcion a optimizar, un polinomio de grado 4"
   ]
  },
  {
   "cell_type": "code",
   "execution_count": 34,
   "metadata": {
    "tags": [],
    "vscode": {
     "languageId": "r"
    }
   },
   "outputs": [],
   "source": [
    "func_univariada01  <- function( x )\n",
    "{\n",
    "  y  <- -2 * (x+13) * (x-3) * (x-7) * (x-19)\n",
    "\n",
    "  return( y )\n",
    "}"
   ]
  },
  {
   "cell_type": "markdown",
   "metadata": {},
   "source": [
    "Grafico la funcion"
   ]
  },
  {
   "cell_type": "code",
   "execution_count": 35,
   "metadata": {
    "tags": [],
    "vscode": {
     "languageId": "r"
    }
   },
   "outputs": [
    {
     "data": {
      "image/png": "[encoded data removed]",
      "text/plain": [
       "plot without title"
      ]
     },
     "metadata": {
      "image/png": {
       "height": 600,
       "width": 1200
      }
     },
     "output_type": "display_data"
    }
   ],
   "source": [
    "intervalo  <- seq(-15,21,0.1)\n",
    "plot(intervalo, func_univariada01(intervalo))"
   ]
  },
  {
   "cell_type": "markdown",
   "metadata": {},
   "source": [
    "La funcion tiene dos máximos, uno de ellos es el global."
   ]
  },
  {
   "cell_type": "markdown",
   "metadata": {},
   "source": [
    "### Optimizacion Bayesiana"
   ]
  },
  {
   "cell_type": "markdown",
   "metadata": {},
   "source": [
    "¿Qué tan rápido encontrará la Optmización Bayesiana el máximo global?"
   ]
  },
  {
   "cell_type": "markdown",
   "metadata": {},
   "source": [
    "Defino las caracteristicas de la optimizacion"
   ]
  },
  {
   "cell_type": "markdown",
   "metadata": {},
   "source": [
    "* **fn**    es el nombre de la funcion\n",
    "* **minimize**   por defecto es TRUE,  pero en este caso le asigno FALSE, ya que deseo maximizar  el valor\n",
    "* **par.set**  indica cuales son los hiperparmetros de la funcion, en este caso hay una sola variable que llamé  x\n",
    "---\n",
    "* **makeNumericParam** indica que ese hiperparámetro es un numero real, una variable continua  ( no es ni un entero ni una categoria )"
   ]
  },
  {
   "cell_type": "code",
   "execution_count": 36,
   "metadata": {
    "tags": [],
    "vscode": {
     "languageId": "r"
    }
   },
   "outputs": [],
   "source": [
    "obj.fun  <- makeSingleObjectiveFunction(\n",
    "              fn=       func_univariada01,\n",
    "              minimize= FALSE,   #estoy Maximizando la ganancia\n",
    "              par.set=  makeParamSet(  makeNumericParam( \"x\", lower= -100, upper=  100) ),\n",
    "             )"
   ]
  },
  {
   "cell_type": "markdown",
   "metadata": {},
   "source": [
    "ahora defino la funcion proxy, la que se construye internamente intentando emular la realidad"
   ]
  },
  {
   "cell_type": "markdown",
   "metadata": {},
   "source": [
    "* **cl**  es la clase de learner,  \"reg.km\" indica el método de kriging \"**reg**ression **k**riging **m**ethodd\"\n",
    "* **predict.type**  es el tipo de prediccion que deseo me devuelva, \"se\" significa que espero dos valores  media y standard error\n",
    "* **covtype**    es la funcion de covarianza que se va a utilizar, cual es la covarianza de dos mediciones como fucion de la distancia entre los puntos donde fueron tomadas las mediciones, fue inventada por Bertil Matérn "
   ]
  },
  {
   "cell_type": "markdown",
   "metadata": {},
   "source": [
    "El método de kriging puede verse en su forma original (la geología) , esta presentación https://www.youtube.com/watch?v=ZB7GvJrNKq0"
   ]
  },
  {
   "cell_type": "code",
   "execution_count": 38,
   "metadata": {
    "tags": [],
    "vscode": {
     "languageId": "r"
    }
   },
   "outputs": [],
   "source": [
    "fproxy  <- makeLearner( cl= \"regr.km\",\n",
    "                        predict.type= \"se\", \n",
    "                        covtype= \"matern3_2\" )"
   ]
  },
  {
   "cell_type": "markdown",
   "metadata": {},
   "source": [
    "ultima definicion,  especificar la optimizacion bayesiana\n",
    "*  **crit**   indica el criterio con el que se completan los valores iniciales \"no inteligentes\"\n",
    "*  **iters**  indica la cantidad de iteraciones inteligentes que hará la Optimizacion Bayesiana, las que son adicionales a las primeras cuatro de este caso.*  **iters**  indica la cantidad de iteraciones inteligentes que hará la Optimizacion Bayesiana, las que son adicionales a las primeras cuatro de este caso."
   ]
  },
  {
   "cell_type": "code",
   "execution_count": 39,
   "metadata": {
    "tags": [],
    "vscode": {
     "languageId": "r"
    }
   },
   "outputs": [],
   "source": [
    "ctrl  <- makeMBOControl()\n",
    "ctrl  <- setMBOControlInfill( ctrl, crit= makeMBOInfillCritEI())\n",
    "ctrl  <- setMBOControlTermination( ctrl, iters= 25 )"
   ]
  },
  {
   "cell_type": "markdown",
   "metadata": {},
   "source": [
    "finalmente , lanzo la Optimizacion Bayesiana"
   ]
  },
  {
   "cell_type": "markdown",
   "metadata": {},
   "source": [
    "* **fun**  es la especificacion de la funcion que deseo optimizar, si maximizo o minimizo, cuales son las variables de la misma\n",
    "* **learner**  especifica cual es la función proxy interna que va a utilizar la Optimziación Bayesiana\n",
    "* **control**  indica la la forma en que se harán las iteraciones"
   ]
  },
  {
   "cell_type": "code",
   "execution_count": 40,
   "metadata": {
    "tags": [],
    "vscode": {
     "languageId": "r"
    }
   },
   "outputs": [
    {
     "name": "stderr",
     "output_type": "stream",
     "text": [
      "Computing y column(s) for design. Not provided.\n",
      "\n",
      "[mbo] 0: x=20.6 : y = -2.53e+04 : 0.0 secs : initdesign\n",
      "\n",
      "[mbo] 0: x=-62.8 : y = -3.75e+07 : 0.0 secs : initdesign\n",
      "\n",
      "[mbo] 0: x=97.4 : y = -1.48e+08 : 0.0 secs : initdesign\n",
      "\n",
      "[mbo] 0: x=-17.1 : y = -1.43e+05 : 0.0 secs : initdesign\n",
      "\n"
     ]
    },
    {
     "name": "stdout",
     "output_type": "stream",
     "text": [
      "\n",
      "optimisation start\n",
      "------------------\n",
      "* estimation method   : MLE \n",
      "* optimisation method : BFGS \n",
      "* analytical gradient : used\n",
      "* trend model : ~1\n",
      "* covariance model : \n",
      "  - type :  matern3_2 \n",
      "  - nugget : NO\n",
      "  - parameters lower bounds :  1e-10 \n",
      "  - parameters upper bounds :  320.4454 \n",
      "  - best initial criterion value(s) :  -76.96301 \n",
      "\n",
      "N = 1, M = 5 machine precision = 2.22045e-16\n",
      "At X0, 0 variables are exactly at the bounds\n",
      "At iterate     0  f=       76.963  |proj g|=    0.0014719\n",
      "At iterate     1  f =       76.963  |proj g|=     0.0014713\n",
      "At iterate     2  f =        76.96  |proj g|=     0.0001022\n",
      "At iterate     3  f =        76.96  |proj g|=    7.9533e-06\n",
      "At iterate     4  f =        76.96  |proj g|=    4.8867e-08\n",
      "\n",
      "iterations 4\n",
      "function evaluations 5\n",
      "segments explored during Cauchy searches 4\n",
      "BFGS updates skipped 0\n",
      "active bounds at final generalized Cauchy point 0\n",
      "norm of the final projected gradient 4.88665e-08\n",
      "final function value 76.96\n",
      "\n",
      "F = 76.96\n",
      "final  value 76.960043 \n",
      "converged\n"
     ]
    },
    {
     "name": "stderr",
     "output_type": "stream",
     "text": [
      "[mbo] 1: x=2.95 : y = 96.7 : 0.0 secs : infill_ei\n",
      "\n"
     ]
    },
    {
     "name": "stdout",
     "output_type": "stream",
     "text": [
      "\n",
      "optimisation start\n",
      "------------------\n",
      "* estimation method   : MLE \n",
      "* optimisation method : BFGS \n",
      "* analytical gradient : used\n",
      "* trend model : ~1\n",
      "* covariance model : \n",
      "  - type :  matern3_2 \n",
      "  - nugget : NO\n",
      "  - parameters lower bounds :  1e-10 \n",
      "  - parameters upper bounds :  320.4454 \n",
      "  - best initial criterion value(s) :  -94.41067 \n",
      "\n",
      "N = 1, M = 5 machine precision = 2.22045e-16\n",
      "At X0, 0 variables are exactly at the bounds\n",
      "At iterate     0  f=       94.411  |proj g|=    0.0017891\n",
      "At iterate     1  f =       94.411  |proj g|=     0.0017885\n",
      "At iterate     2  f =       94.405  |proj g|=    0.00018959\n",
      "At iterate     3  f =       94.405  |proj g|=    2.3004e-05\n",
      "At iterate     4  f =       94.405  |proj g|=    3.4966e-07\n",
      "At iterate     5  f =       94.405  |proj g|=    6.5788e-10\n",
      "\n",
      "iterations 5\n",
      "function evaluations 6\n",
      "segments explored during Cauchy searches 5\n",
      "BFGS updates skipped 0\n",
      "active bounds at final generalized Cauchy point 0\n",
      "norm of the final projected gradient 6.57881e-10\n",
      "final function value 94.4053\n",
      "\n",
      "F = 94.4053\n",
      "final  value 94.405272 \n",
      "converged\n"
     ]
    },
    {
     "name": "stderr",
     "output_type": "stream",
     "text": [
      "[mbo] 2: x=13 : y = 1.88e+04 : 0.0 secs : infill_ei\n",
      "\n"
     ]
    },
    {
     "name": "stdout",
     "output_type": "stream",
     "text": [
      "\n",
      "optimisation start\n",
      "------------------\n",
      "* estimation method   : MLE \n",
      "* optimisation method : BFGS \n",
      "* analytical gradient : used\n",
      "* trend model : ~1\n",
      "* covariance model : \n",
      "  - type :  matern3_2 \n",
      "  - nugget : NO\n",
      "  - parameters lower bounds :  1e-10 \n",
      "  - parameters upper bounds :  320.4454 \n",
      "  - best initial criterion value(s) :  -110.3614 \n",
      "\n",
      "N = 1, M = 5 machine precision = 2.22045e-16\n",
      "At X0, 0 variables are exactly at the bounds\n",
      "At iterate     0  f=       110.36  |proj g|=    0.0018489\n",
      "At iterate     1  f =       110.36  |proj g|=     0.0018487\n",
      "At iterate     2  f =       110.35  |proj g|=    0.00089136\n",
      "At iterate     3  f =       110.34  |proj g|=    0.00023315\n",
      "At iterate     4  f =       110.34  |proj g|=    2.2342e-05\n",
      "At iterate     5  f =       110.34  |proj g|=    6.3769e-07\n",
      "At iterate     6  f =       110.34  |proj g|=    1.6828e-09\n",
      "\n",
      "iterations 6\n",
      "function evaluations 7\n",
      "segments explored during Cauchy searches 6\n",
      "BFGS updates skipped 0\n",
      "active bounds at final generalized Cauchy point 0\n",
      "norm of the final projected gradient 1.68283e-09\n",
      "final function value 110.343\n",
      "\n",
      "F = 110.343\n",
      "final  value 110.343260 \n",
      "converged\n"
     ]
    },
    {
     "name": "stderr",
     "output_type": "stream",
     "text": [
      "[mbo] 3: x=-8.18 : y = 4.45e+04 : 0.0 secs : infill_ei\n",
      "\n"
     ]
    },
    {
     "name": "stdout",
     "output_type": "stream",
     "text": [
      "\n",
      "optimisation start\n",
      "------------------\n",
      "* estimation method   : MLE \n",
      "* optimisation method : BFGS \n",
      "* analytical gradient : used\n",
      "* trend model : ~1\n",
      "* covariance model : \n",
      "  - type :  matern3_2 \n",
      "  - nugget : NO\n",
      "  - parameters lower bounds :  1e-10 \n",
      "  - parameters upper bounds :  320.4454 \n",
      "  - best initial criterion value(s) :  -126.0735 \n",
      "\n",
      "N = 1, M = 5 machine precision = 2.22045e-16\n",
      "At X0, 0 variables are exactly at the bounds\n",
      "At iterate     0  f=       126.07  |proj g|=   0.00025092\n",
      "At iterate     1  f =       126.07  |proj g|=     0.0002509\n",
      "\n",
      "iterations 1\n",
      "function evaluations 2\n",
      "segments explored during Cauchy searches 1\n",
      "BFGS updates skipped 0\n",
      "active bounds at final generalized Cauchy point 0\n",
      "norm of the final projected gradient 0.000250899\n",
      "final function value 126.074\n",
      "\n",
      "F = 126.074\n",
      "final  value 126.073537 \n",
      "converged\n"
     ]
    },
    {
     "name": "stderr",
     "output_type": "stream",
     "text": [
      "[mbo] 4: x=17.2 : y = 1.56e+04 : 0.0 secs : infill_ei\n",
      "\n"
     ]
    },
    {
     "name": "stdout",
     "output_type": "stream",
     "text": [
      "\n",
      "optimisation start\n",
      "------------------\n",
      "* estimation method   : MLE \n",
      "* optimisation method : BFGS \n",
      "* analytical gradient : used\n",
      "* trend model : ~1\n",
      "* covariance model : \n",
      "  - type :  matern3_2 \n",
      "  - nugget : NO\n",
      "  - parameters lower bounds :  1e-10 \n",
      "  - parameters upper bounds :  320.4454 \n",
      "  - best initial criterion value(s) :  -140.3594 \n",
      "\n",
      "N = 1, M = 5 machine precision = 2.22045e-16\n",
      "At X0, 0 variables are exactly at the bounds\n",
      "At iterate     0  f=       140.36  |proj g|=   2.4677e-05\n",
      "At iterate     1  f =       140.36  |proj g|=    2.4675e-05\n",
      "\n",
      "iterations 1\n",
      "function evaluations 2\n",
      "segments explored during Cauchy searches 1\n",
      "BFGS updates skipped 0\n",
      "active bounds at final generalized Cauchy point 0\n",
      "norm of the final projected gradient 2.46753e-05\n",
      "final function value 140.359\n",
      "\n",
      "F = 140.359\n",
      "final  value 140.359353 \n",
      "converged\n"
     ]
    },
    {
     "name": "stderr",
     "output_type": "stream",
     "text": [
      "[mbo] 5: x=-12.8 : y = 4.6e+03 : 0.0 secs : infill_ei\n",
      "\n"
     ]
    },
    {
     "name": "stdout",
     "output_type": "stream",
     "text": [
      "\n",
      "optimisation start\n",
      "------------------\n",
      "* estimation method   : MLE \n",
      "* optimisation method : BFGS \n",
      "* analytical gradient : used\n",
      "* trend model : ~1\n",
      "* covariance model : \n",
      "  - type :  matern3_2 \n",
      "  - nugget : NO\n",
      "  - parameters lower bounds :  1e-10 \n",
      "  - parameters upper bounds :  320.4454 \n",
      "  - best initial criterion value(s) :  -154.6883 \n",
      "\n",
      "N = 1, M = 5 machine precision = 2.22045e-16\n",
      "At X0, 0 variables are exactly at the bounds\n",
      "At iterate     0  f=       154.69  |proj g|=   0.00065776\n",
      "At iterate     1  f =       154.69  |proj g|=    0.00065774\n",
      "At iterate     2  f =       154.68  |proj g|=    0.00015206\n",
      "At iterate     3  f =       154.68  |proj g|=    2.6143e-05\n",
      "At iterate     4  f =       154.68  |proj g|=    8.5512e-07\n",
      "At iterate     5  f =       154.68  |proj g|=    5.0143e-09\n",
      "\n",
      "iterations 5\n",
      "function evaluations 6\n",
      "segments explored during Cauchy searches 5\n",
      "BFGS updates skipped 0\n",
      "active bounds at final generalized Cauchy point 0\n",
      "norm of the final projected gradient 5.01434e-09\n",
      "final function value 154.682\n",
      "\n",
      "F = 154.682\n",
      "final  value 154.681504 \n",
      "converged\n"
     ]
    },
    {
     "name": "stderr",
     "output_type": "stream",
     "text": [
      "[mbo] 6: x=-2.61 : y = 2.42e+04 : 0.0 secs : infill_ei\n",
      "\n"
     ]
    },
    {
     "name": "stdout",
     "output_type": "stream",
     "text": [
      "\n",
      "optimisation start\n",
      "------------------\n",
      "* estimation method   : MLE \n",
      "* optimisation method : BFGS \n",
      "* analytical gradient : used\n",
      "* trend model : ~1\n",
      "* covariance model : \n",
      "  - type :  matern3_2 \n",
      "  - nugget : NO\n",
      "  - parameters lower bounds :  1e-10 \n",
      "  - parameters upper bounds :  320.4454 \n",
      "  - best initial criterion value(s) :  -168.9926 \n",
      "\n",
      "N = 1, M = 5 machine precision = 2.22045e-16\n",
      "At X0, 0 variables are exactly at the bounds\n",
      "At iterate     0  f=       168.99  |proj g|=    0.0001034\n",
      "At iterate     1  f =       168.99  |proj g|=    0.00010339\n",
      "\n",
      "iterations 1\n",
      "function evaluations 2\n",
      "segments explored during Cauchy searches 1\n",
      "BFGS updates skipped 0\n",
      "active bounds at final generalized Cauchy point 0\n",
      "norm of the final projected gradient 0.000103393\n",
      "final function value 168.993\n",
      "\n",
      "F = 168.993\n",
      "final  value 168.992556 \n",
      "converged\n"
     ]
    },
    {
     "name": "stderr",
     "output_type": "stream",
     "text": [
      "[mbo] 7: x=8.04 : y = 2.4e+03 : 0.0 secs : infill_ei\n",
      "\n"
     ]
    },
    {
     "name": "stdout",
     "output_type": "stream",
     "text": [
      "\n",
      "optimisation start\n",
      "------------------\n",
      "* estimation method   : MLE \n",
      "* optimisation method : BFGS \n",
      "* analytical gradient : used\n",
      "* trend model : ~1\n",
      "* covariance model : \n",
      "  - type :  matern3_2 \n",
      "  - nugget : NO\n",
      "  - parameters lower bounds :  1e-10 \n",
      "  - parameters upper bounds :  320.4454 \n",
      "  - best initial criterion value(s) :  -183.0286 \n",
      "\n",
      "N = 1, M = 5 machine precision = 2.22045e-16\n",
      "At X0, 0 variables are exactly at the bounds\n",
      "At iterate     0  f=       183.03  |proj g|=   4.4208e-05\n",
      "At iterate     1  f =       183.03  |proj g|=    4.4207e-05\n",
      "\n",
      "iterations 1\n",
      "function evaluations 2\n",
      "segments explored during Cauchy searches 1\n",
      "BFGS updates skipped 0\n",
      "active bounds at final generalized Cauchy point 0\n",
      "norm of the final projected gradient 4.42066e-05\n",
      "final function value 183.029\n",
      "\n",
      "F = 183.029\n",
      "final  value 183.028639 \n",
      "converged\n"
     ]
    },
    {
     "name": "stderr",
     "output_type": "stream",
     "text": [
      "[mbo] 8: x=-25.3 : y = -1e+06 : 0.0 secs : infill_ei\n",
      "\n"
     ]
    },
    {
     "name": "stdout",
     "output_type": "stream",
     "text": [
      "\n",
      "optimisation start\n",
      "------------------\n",
      "* estimation method   : MLE \n",
      "* optimisation method : BFGS \n",
      "* analytical gradient : used\n",
      "* trend model : ~1\n",
      "* covariance model : \n",
      "  - type :  matern3_2 \n",
      "  - nugget : NO\n",
      "  - parameters lower bounds :  1e-10 \n",
      "  - parameters upper bounds :  320.4454 \n",
      "  - best initial criterion value(s) :  -198.776 \n",
      "\n",
      "N = 1, M = 5 machine precision = 2.22045e-16\n",
      "At X0, 0 variables are exactly at the bounds\n",
      "At iterate     0  f=       198.78  |proj g|=   0.00027475\n",
      "At iterate     1  f =       198.78  |proj g|=    0.00027474\n",
      "\n",
      "iterations 1\n",
      "function evaluations 2\n",
      "segments explored during Cauchy searches 1\n",
      "BFGS updates skipped 0\n",
      "active bounds at final generalized Cauchy point 0\n",
      "norm of the final projected gradient 0.00027474\n",
      "final function value 198.776\n",
      "\n",
      "F = 198.776\n",
      "final  value 198.775969 \n",
      "converged\n"
     ]
    },
    {
     "name": "stderr",
     "output_type": "stream",
     "text": [
      "[mbo] 9: x=-5.45 : y = 3.89e+04 : 0.0 secs : infill_ei\n",
      "\n"
     ]
    },
    {
     "name": "stdout",
     "output_type": "stream",
     "text": [
      "\n",
      "optimisation start\n",
      "------------------\n",
      "* estimation method   : MLE \n",
      "* optimisation method : BFGS \n",
      "* analytical gradient : used\n",
      "* trend model : ~1\n",
      "* covariance model : \n",
      "  - type :  matern3_2 \n",
      "  - nugget : NO\n",
      "  - parameters lower bounds :  1e-10 \n",
      "  - parameters upper bounds :  320.4454 \n",
      "  - best initial criterion value(s) :  -211.9398 \n",
      "\n",
      "N = 1, M = 5 machine precision = 2.22045e-16\n",
      "At X0, 0 variables are exactly at the bounds\n",
      "At iterate     0  f=       211.94  |proj g|=   0.00093336\n",
      "At iterate     1  f =       211.94  |proj g|=    0.00093333\n",
      "At iterate     2  f =       211.93  |proj g|=             0\n",
      "\n",
      "iterations 2\n",
      "function evaluations 3\n",
      "segments explored during Cauchy searches 2\n",
      "BFGS updates skipped 0\n",
      "active bounds at final generalized Cauchy point 1\n",
      "norm of the final projected gradient 0\n",
      "final function value 211.931\n",
      "\n",
      "F = 211.931\n",
      "final  value 211.931090 \n",
      "converged\n"
     ]
    },
    {
     "name": "stderr",
     "output_type": "stream",
     "text": [
      "[mbo] 10: x=0.158 : y = 9.64e+03 : 0.0 secs : infill_ei\n",
      "\n"
     ]
    },
    {
     "name": "stdout",
     "output_type": "stream",
     "text": [
      "\n",
      "optimisation start\n",
      "------------------\n",
      "* estimation method   : MLE \n",
      "* optimisation method : BFGS \n",
      "* analytical gradient : used\n",
      "* trend model : ~1\n",
      "* covariance model : \n",
      "  - type :  matern3_2 \n",
      "  - nugget : NO\n",
      "  - parameters lower bounds :  1e-10 \n",
      "  - parameters upper bounds :  320.4454 \n",
      "  - best initial criterion value(s) :  -225.017 \n",
      "\n",
      "N = 1, M = 5 machine precision = 2.22045e-16\n",
      "At X0, 0 variables are exactly at the bounds\n",
      "At iterate     0  f=       225.02  |proj g|=    0.0017095\n",
      "At iterate     1  f =       225.02  |proj g|=     0.0017094\n",
      "At iterate     2  f =          225  |proj g|=             0\n",
      "\n",
      "iterations 2\n",
      "function evaluations 3\n",
      "segments explored during Cauchy searches 2\n",
      "BFGS updates skipped 0\n",
      "active bounds at final generalized Cauchy point 1\n",
      "norm of the final projected gradient 0\n",
      "final function value 224.999\n",
      "\n",
      "F = 224.999\n",
      "final  value 224.998699 \n",
      "converged\n"
     ]
    },
    {
     "name": "stderr",
     "output_type": "stream",
     "text": [
      "[mbo] 11: x=-10.4 : y = 3.57e+04 : 0.0 secs : infill_ei\n",
      "\n"
     ]
    },
    {
     "name": "stdout",
     "output_type": "stream",
     "text": [
      "\n",
      "optimisation start\n",
      "------------------\n",
      "* estimation method   : MLE \n",
      "* optimisation method : BFGS \n",
      "* analytical gradient : used\n",
      "* trend model : ~1\n",
      "* covariance model : \n",
      "  - type :  matern3_2 \n",
      "  - nugget : NO\n",
      "  - parameters lower bounds :  1e-10 \n",
      "  - parameters upper bounds :  320.4454 \n",
      "  - best initial criterion value(s) :  -237.778 \n",
      "\n",
      "N = 1, M = 5 machine precision = 2.22045e-16\n",
      "At X0, 0 variables are exactly at the bounds\n",
      "At iterate     0  f=       237.78  |proj g|=     0.002357\n",
      "At iterate     1  f =       237.78  |proj g|=     0.0023569\n",
      "At iterate     2  f =       237.76  |proj g|=             0\n",
      "\n",
      "iterations 2\n",
      "function evaluations 3\n",
      "segments explored during Cauchy searches 2\n",
      "BFGS updates skipped 0\n",
      "active bounds at final generalized Cauchy point 1\n",
      "norm of the final projected gradient 0\n",
      "final function value 237.758\n",
      "\n",
      "F = 237.758\n",
      "final  value 237.757788 \n",
      "converged\n"
     ]
    },
    {
     "name": "stderr",
     "output_type": "stream",
     "text": [
      "[mbo] 12: x=10.6 : y = 1.09e+04 : 0.0 secs : infill_ei\n",
      "\n"
     ]
    },
    {
     "name": "stdout",
     "output_type": "stream",
     "text": [
      "\n",
      "optimisation start\n",
      "------------------\n",
      "* estimation method   : MLE \n",
      "* optimisation method : BFGS \n",
      "* analytical gradient : used\n",
      "* trend model : ~1\n",
      "* covariance model : \n",
      "  - type :  matern3_2 \n",
      "  - nugget : NO\n",
      "  - parameters lower bounds :  1e-10 \n",
      "  - parameters upper bounds :  320.4454 \n",
      "  - best initial criterion value(s) :  -250.7149 \n",
      "\n",
      "N = 1, M = 5 machine precision = 2.22045e-16\n",
      "At X0, 0 variables are exactly at the bounds\n",
      "At iterate     0  f=       250.71  |proj g|=    0.0036917\n",
      "At iterate     1  f =       250.71  |proj g|=     0.0036915\n",
      "At iterate     2  f =       250.64  |proj g|=             0\n",
      "\n",
      "iterations 2\n",
      "function evaluations 3\n",
      "segments explored during Cauchy searches 2\n",
      "BFGS updates skipped 0\n",
      "active bounds at final generalized Cauchy point 1\n",
      "norm of the final projected gradient 0\n",
      "final function value 250.642\n",
      "\n",
      "F = 250.642\n",
      "final  value 250.641957 \n",
      "converged\n"
     ]
    },
    {
     "name": "stderr",
     "output_type": "stream",
     "text": [
      "[mbo] 13: x=19 : y = 196 : 0.0 secs : infill_ei\n",
      "\n"
     ]
    },
    {
     "name": "stdout",
     "output_type": "stream",
     "text": [
      "\n",
      "optimisation start\n",
      "------------------\n",
      "* estimation method   : MLE \n",
      "* optimisation method : BFGS \n",
      "* analytical gradient : used\n",
      "* trend model : ~1\n",
      "* covariance model : \n",
      "  - type :  matern3_2 \n",
      "  - nugget : NO\n",
      "  - parameters lower bounds :  1e-10 \n",
      "  - parameters upper bounds :  320.4454 \n",
      "  - best initial criterion value(s) :  -263.2528 \n",
      "\n",
      "N = 1, M = 5 machine precision = 2.22045e-16\n",
      "At X0, 0 variables are exactly at the bounds\n",
      "At iterate     0  f=       263.25  |proj g|=    0.0044572\n",
      "At iterate     1  f =       263.25  |proj g|=      0.004457\n",
      "At iterate     2  f =       263.16  |proj g|=             0\n",
      "\n",
      "iterations 2\n",
      "function evaluations 3\n",
      "segments explored during Cauchy searches 2\n",
      "BFGS updates skipped 0\n",
      "active bounds at final generalized Cauchy point 1\n",
      "norm of the final projected gradient 0\n",
      "final function value 263.164\n",
      "\n",
      "F = 263.164\n",
      "final  value 263.163738 \n",
      "converged\n"
     ]
    },
    {
     "name": "stderr",
     "output_type": "stream",
     "text": [
      "[mbo] 14: x=5.5 : y = -1.88e+03 : 0.0 secs : infill_ei\n",
      "\n"
     ]
    },
    {
     "name": "stdout",
     "output_type": "stream",
     "text": [
      "\n",
      "optimisation start\n",
      "------------------\n",
      "* estimation method   : MLE \n",
      "* optimisation method : BFGS \n",
      "* analytical gradient : used\n",
      "* trend model : ~1\n",
      "* covariance model : \n",
      "  - type :  matern3_2 \n",
      "  - nugget : NO\n",
      "  - parameters lower bounds :  1e-10 \n",
      "  - parameters upper bounds :  320.4454 \n",
      "  - best initial criterion value(s) :  -275.9397 \n",
      "\n",
      "N = 1, M = 5 machine precision = 2.22045e-16\n",
      "At X0, 0 variables are exactly at the bounds\n",
      "At iterate     0  f=       275.94  |proj g|=    0.0041863\n",
      "At iterate     1  f =       275.94  |proj g|=     0.0041861\n",
      "At iterate     2  f =       275.93  |proj g|=             0\n",
      "\n",
      "iterations 2\n",
      "function evaluations 3\n",
      "segments explored during Cauchy searches 2\n",
      "BFGS updates skipped 0\n",
      "active bounds at final generalized Cauchy point 1\n",
      "norm of the final projected gradient 0\n",
      "final function value 275.931\n",
      "\n",
      "F = 275.931\n",
      "final  value 275.931292 \n",
      "converged\n"
     ]
    },
    {
     "name": "stderr",
     "output_type": "stream",
     "text": [
      "[mbo] 15: x=15.1 : y = 2.15e+04 : 0.0 secs : infill_ei\n",
      "\n"
     ]
    },
    {
     "name": "stdout",
     "output_type": "stream",
     "text": [
      "\n",
      "optimisation start\n",
      "------------------\n",
      "* estimation method   : MLE \n",
      "* optimisation method : BFGS \n",
      "* analytical gradient : used\n",
      "* trend model : ~1\n",
      "* covariance model : \n",
      "  - type :  matern3_2 \n",
      "  - nugget : NO\n",
      "  - parameters lower bounds :  1e-10 \n",
      "  - parameters upper bounds :  320.4454 \n",
      "  - best initial criterion value(s) :  -288.4255 \n",
      "\n",
      "N = 1, M = 5 machine precision = 2.22045e-16\n",
      "At X0, 0 variables are exactly at the bounds\n",
      "At iterate     0  f=       288.43  |proj g|=    0.0053089\n",
      "At iterate     1  f =       288.43  |proj g|=     0.0053086\n",
      "At iterate     2  f =       288.38  |proj g|=             0\n",
      "\n",
      "iterations 2\n",
      "function evaluations 3\n",
      "segments explored during Cauchy searches 2\n",
      "BFGS updates skipped 0\n",
      "active bounds at final generalized Cauchy point 1\n",
      "norm of the final projected gradient 0\n",
      "final function value 288.375\n",
      "\n",
      "F = 288.375\n",
      "final  value 288.375032 \n",
      "converged\n"
     ]
    },
    {
     "name": "stderr",
     "output_type": "stream",
     "text": [
      "[mbo] 16: x=-6.84 : y = 4.34e+04 : 0.0 secs : infill_ei\n",
      "\n"
     ]
    },
    {
     "name": "stdout",
     "output_type": "stream",
     "text": [
      "\n",
      "optimisation start\n",
      "------------------\n",
      "* estimation method   : MLE \n",
      "* optimisation method : BFGS \n",
      "* analytical gradient : used\n",
      "* trend model : ~1\n",
      "* covariance model : \n",
      "  - type :  matern3_2 \n",
      "  - nugget : NO\n",
      "  - parameters lower bounds :  1e-10 \n",
      "  - parameters upper bounds :  320.4454 \n",
      "  - best initial criterion value(s) :  -300.2902 \n",
      "\n",
      "N = 1, M = 5 machine precision = 2.22045e-16\n",
      "At X0, 0 variables are exactly at the bounds\n",
      "At iterate     0  f=       300.29  |proj g|=    0.0059047\n",
      "At iterate     1  f =       300.29  |proj g|=     0.0059044\n",
      "At iterate     2  f =       300.25  |proj g|=             0\n",
      "\n",
      "iterations 2\n",
      "function evaluations 3\n",
      "segments explored during Cauchy searches 2\n",
      "BFGS updates skipped 0\n",
      "active bounds at final generalized Cauchy point 1\n",
      "norm of the final projected gradient 0\n",
      "final function value 300.247\n",
      "\n",
      "F = 300.247\n",
      "final  value 300.247140 \n",
      "converged\n"
     ]
    },
    {
     "name": "stderr",
     "output_type": "stream",
     "text": [
      "[mbo] 17: x=-20.5 : y = -3.84e+05 : 0.0 secs : infill_ei\n",
      "\n"
     ]
    },
    {
     "name": "stdout",
     "output_type": "stream",
     "text": [
      "\n",
      "optimisation start\n",
      "------------------\n",
      "* estimation method   : MLE \n",
      "* optimisation method : BFGS \n",
      "* analytical gradient : used\n",
      "* trend model : ~1\n",
      "* covariance model : \n",
      "  - type :  matern3_2 \n",
      "  - nugget : NO\n",
      "  - parameters lower bounds :  1e-10 \n",
      "  - parameters upper bounds :  320.4454 \n",
      "  - best initial criterion value(s) :  -313.8363 \n",
      "\n",
      "N = 1, M = 5 machine precision = 2.22045e-16\n",
      "At X0, 0 variables are exactly at the bounds\n",
      "At iterate     0  f=       313.84  |proj g|=    0.0064571\n",
      "At iterate     1  f =       313.84  |proj g|=     0.0064567\n",
      "At iterate     2  f =        313.8  |proj g|=             0\n",
      "\n",
      "iterations 2\n",
      "function evaluations 3\n",
      "segments explored during Cauchy searches 2\n",
      "BFGS updates skipped 0\n",
      "active bounds at final generalized Cauchy point 1\n",
      "norm of the final projected gradient 0\n",
      "final function value 313.801\n",
      "\n",
      "F = 313.801\n",
      "final  value 313.800733 \n",
      "converged\n"
     ]
    },
    {
     "name": "stderr",
     "output_type": "stream",
     "text": [
      "[mbo] 18: x=-4.07 : y = 3.23e+04 : 0.0 secs : infill_ei\n",
      "\n"
     ]
    },
    {
     "name": "stdout",
     "output_type": "stream",
     "text": [
      "\n",
      "optimisation start\n",
      "------------------\n",
      "* estimation method   : MLE \n",
      "* optimisation method : BFGS \n",
      "* analytical gradient : used\n",
      "* trend model : ~1\n",
      "* covariance model : \n",
      "  - type :  matern3_2 \n",
      "  - nugget : NO\n",
      "  - parameters lower bounds :  1e-10 \n",
      "  - parameters upper bounds :  320.4454 \n",
      "  - best initial criterion value(s) :  -325.93 \n",
      "\n",
      "N = 1, M = 5 machine precision = 2.22045e-16\n",
      "At X0, 0 variables are exactly at the bounds\n",
      "At iterate     0  f=       325.93  |proj g|=    0.0095406\n",
      "At iterate     1  f =       325.93  |proj g|=     0.0095397\n",
      "At iterate     2  f =       325.64  |proj g|=             0\n",
      "\n",
      "iterations 2\n",
      "function evaluations 3\n",
      "segments explored during Cauchy searches 2\n",
      "BFGS updates skipped 0\n",
      "active bounds at final generalized Cauchy point 1\n",
      "norm of the final projected gradient 0\n",
      "final function value 325.638\n",
      "\n",
      "F = 325.638\n",
      "final  value 325.638487 \n",
      "converged\n"
     ]
    },
    {
     "name": "stderr",
     "output_type": "stream",
     "text": [
      "[mbo] 19: x=-9.26 : y = 4.21e+04 : 0.0 secs : infill_ei\n",
      "\n"
     ]
    },
    {
     "name": "stdout",
     "output_type": "stream",
     "text": [
      "\n",
      "optimisation start\n",
      "------------------\n",
      "* estimation method   : MLE \n",
      "* optimisation method : BFGS \n",
      "* analytical gradient : used\n",
      "* trend model : ~1\n",
      "* covariance model : \n",
      "  - type :  matern3_2 \n",
      "  - nugget : NO\n",
      "  - parameters lower bounds :  1e-10 \n",
      "  - parameters upper bounds :  320.4454 \n",
      "  - best initial criterion value(s) :  -337.1827 \n",
      "\n",
      "N = 1, M = 5 machine precision = 2.22045e-16\n",
      "At X0, 0 variables are exactly at the bounds\n",
      "At iterate     0  f=       337.18  |proj g|=    0.0082078\n",
      "At iterate     1  f =       337.18  |proj g|=     0.0082072\n",
      "At iterate     2  f =        337.1  |proj g|=             0\n",
      "\n",
      "iterations 2\n",
      "function evaluations 3\n",
      "segments explored during Cauchy searches 2\n",
      "BFGS updates skipped 0\n",
      "active bounds at final generalized Cauchy point 1\n",
      "norm of the final projected gradient 0\n",
      "final function value 337.104\n",
      "\n",
      "F = 337.104\n",
      "final  value 337.103644 \n",
      "converged\n"
     ]
    },
    {
     "name": "stderr",
     "output_type": "stream",
     "text": [
      "[mbo] 20: x=-14.5 : y = -3.88e+04 : 0.0 secs : infill_ei\n",
      "\n"
     ]
    },
    {
     "name": "stdout",
     "output_type": "stream",
     "text": [
      "\n",
      "optimisation start\n",
      "------------------\n",
      "* estimation method   : MLE \n",
      "* optimisation method : BFGS \n",
      "* analytical gradient : used\n",
      "* trend model : ~1\n",
      "* covariance model : \n",
      "  - type :  matern3_2 \n",
      "  - nugget : NO\n",
      "  - parameters lower bounds :  1e-10 \n",
      "  - parameters upper bounds :  320.4454 \n",
      "  - best initial criterion value(s) :  -349.5102 \n",
      "\n",
      "N = 1, M = 5 machine precision = 2.22045e-16\n",
      "At X0, 0 variables are exactly at the bounds\n",
      "At iterate     0  f=       349.51  |proj g|=    0.0085372\n",
      "At iterate     1  f =       349.51  |proj g|=     0.0085366\n",
      "At iterate     2  f =       349.47  |proj g|=             0\n",
      "\n",
      "iterations 2\n",
      "function evaluations 3\n",
      "segments explored during Cauchy searches 2\n",
      "BFGS updates skipped 0\n",
      "active bounds at final generalized Cauchy point 1\n",
      "norm of the final projected gradient 0\n",
      "final function value 349.471\n",
      "\n",
      "F = 349.471\n",
      "final  value 349.470609 \n",
      "converged\n"
     ]
    },
    {
     "name": "stderr",
     "output_type": "stream",
     "text": [
      "[mbo] 21: x=-1.26 : y = 1.68e+04 : 0.0 secs : infill_ei\n",
      "\n"
     ]
    },
    {
     "name": "stdout",
     "output_type": "stream",
     "text": [
      "\n",
      "optimisation start\n",
      "------------------\n",
      "* estimation method   : MLE \n",
      "* optimisation method : BFGS \n",
      "* analytical gradient : used\n",
      "* trend model : ~1\n",
      "* covariance model : \n",
      "  - type :  matern3_2 \n",
      "  - nugget : NO\n",
      "  - parameters lower bounds :  1e-10 \n",
      "  - parameters upper bounds :  320.4454 \n",
      "  - best initial criterion value(s) :  -361.4238 \n",
      "\n",
      "N = 1, M = 5 machine precision = 2.22045e-16\n",
      "At X0, 0 variables are exactly at the bounds\n",
      "At iterate     0  f=       361.42  |proj g|=      0.01074\n",
      "At iterate     1  f =       361.42  |proj g|=      0.010739\n",
      "At iterate     2  f =       361.21  |proj g|=             0\n",
      "\n",
      "iterations 2\n",
      "function evaluations 3\n",
      "segments explored during Cauchy searches 2\n",
      "BFGS updates skipped 0\n",
      "active bounds at final generalized Cauchy point 1\n",
      "norm of the final projected gradient 0\n",
      "final function value 361.209\n",
      "\n",
      "F = 361.209\n",
      "final  value 361.208531 \n",
      "converged\n"
     ]
    },
    {
     "name": "stderr",
     "output_type": "stream",
     "text": [
      "[mbo] 22: x=24.5 : y = -1.56e+05 : 0.0 secs : infill_ei\n",
      "\n"
     ]
    },
    {
     "name": "stdout",
     "output_type": "stream",
     "text": [
      "\n",
      "optimisation start\n",
      "------------------\n",
      "* estimation method   : MLE \n",
      "* optimisation method : BFGS \n",
      "* analytical gradient : used\n",
      "* trend model : ~1\n",
      "* covariance model : \n",
      "  - type :  matern3_2 \n",
      "  - nugget : NO\n",
      "  - parameters lower bounds :  1e-10 \n",
      "  - parameters upper bounds :  320.4454 \n",
      "  - best initial criterion value(s) :  -376.295 \n",
      "\n",
      "N = 1, M = 5 machine precision = 2.22045e-16\n",
      "At X0, 0 variables are exactly at the bounds\n",
      "At iterate     0  f=       376.29  |proj g|=    0.0093312\n",
      "At iterate     1  f =       376.29  |proj g|=     0.0093304\n",
      "At iterate     2  f =       376.29  |proj g|=             0\n",
      "\n",
      "iterations 2\n",
      "function evaluations 3\n",
      "segments explored during Cauchy searches 2\n",
      "BFGS updates skipped 0\n",
      "active bounds at final generalized Cauchy point 1\n",
      "norm of the final projected gradient 0\n",
      "final function value 376.288\n",
      "\n",
      "F = 376.288\n",
      "final  value 376.288331 \n",
      "converged\n"
     ]
    },
    {
     "name": "stderr",
     "output_type": "stream",
     "text": [
      "[mbo] 23: x=22.5 : y = -7.67e+04 : 0.0 secs : infill_ei\n",
      "\n"
     ]
    },
    {
     "name": "stdout",
     "output_type": "stream",
     "text": [
      "\n",
      "optimisation start\n",
      "------------------\n",
      "* estimation method   : MLE \n",
      "* optimisation method : BFGS \n",
      "* analytical gradient : used\n",
      "* trend model : ~1\n",
      "* covariance model : \n",
      "  - type :  matern3_2 \n",
      "  - nugget : NO\n",
      "  - parameters lower bounds :  1e-10 \n",
      "  - parameters upper bounds :  320.4454 \n",
      "  - best initial criterion value(s) :  -388.8674 \n",
      "\n",
      "N = 1, M = 5 machine precision = 2.22045e-16\n",
      "At X0, 0 variables are exactly at the bounds\n",
      "At iterate     0  f=       388.87  |proj g|=      0.01046\n",
      "At iterate     1  f =       388.87  |proj g|=      0.010459\n",
      "At iterate     2  f =        388.8  |proj g|=             0\n",
      "\n",
      "iterations 2\n",
      "function evaluations 3\n",
      "segments explored during Cauchy searches 2\n",
      "BFGS updates skipped 0\n",
      "active bounds at final generalized Cauchy point 1\n",
      "norm of the final projected gradient 0\n",
      "final function value 388.801\n",
      "\n",
      "F = 388.801\n",
      "final  value 388.800600 \n",
      "converged\n"
     ]
    },
    {
     "name": "stderr",
     "output_type": "stream",
     "text": [
      "[mbo] 24: x=-11.4 : y = 2.53e+04 : 0.0 secs : infill_ei\n",
      "\n"
     ]
    },
    {
     "name": "stdout",
     "output_type": "stream",
     "text": [
      "\n",
      "optimisation start\n",
      "------------------\n",
      "* estimation method   : MLE \n",
      "* optimisation method : BFGS \n",
      "* analytical gradient : used\n",
      "* trend model : ~1\n",
      "* covariance model : \n",
      "  - type :  matern3_2 \n",
      "  - nugget : NO\n",
      "  - parameters lower bounds :  1e-10 \n",
      "  - parameters upper bounds :  320.4454 \n",
      "  - best initial criterion value(s) :  -400.4399 \n",
      "\n",
      "N = 1, M = 5 machine precision = 2.22045e-16\n",
      "At X0, 0 variables are exactly at the bounds\n",
      "At iterate     0  f=       400.44  |proj g|=     0.012189\n",
      "At iterate     1  f =       400.44  |proj g|=      0.012187\n",
      "At iterate     2  f =       400.24  |proj g|=             0\n",
      "\n",
      "iterations 2\n",
      "function evaluations 3\n",
      "segments explored during Cauchy searches 2\n",
      "BFGS updates skipped 0\n",
      "active bounds at final generalized Cauchy point 1\n",
      "norm of the final projected gradient 0\n",
      "final function value 400.245\n",
      "\n",
      "F = 400.245\n",
      "final  value 400.244983 \n",
      "converged\n"
     ]
    },
    {
     "name": "stderr",
     "output_type": "stream",
     "text": [
      "[mbo] 25: x=-7.52 : y = 4.44e+04 : 0.0 secs : infill_ei\n",
      "\n"
     ]
    },
    {
     "name": "stdout",
     "output_type": "stream",
     "text": [
      "\n",
      "optimisation start\n",
      "------------------\n",
      "* estimation method   : MLE \n",
      "* optimisation method : BFGS \n",
      "* analytical gradient : used\n",
      "* trend model : ~1\n",
      "* covariance model : \n",
      "  - type :  matern3_2 \n",
      "  - nugget : NO\n",
      "  - parameters lower bounds :  1e-10 \n",
      "  - parameters upper bounds :  320.4454 \n",
      "  - best initial criterion value(s) :  -410.9979 \n",
      "\n",
      "N = 1, M = 5 machine precision = 2.22045e-16\n",
      "At X0, 0 variables are exactly at the bounds\n",
      "At iterate     0  f=          411  |proj g|=     0.012012\n",
      "At iterate     1  f =          411  |proj g|=      0.012011\n",
      "At iterate     2  f =       410.91  |proj g|=             0\n",
      "\n",
      "iterations 2\n",
      "function evaluations 3\n",
      "segments explored during Cauchy searches 2\n",
      "BFGS updates skipped 0\n",
      "active bounds at final generalized Cauchy point 1\n",
      "norm of the final projected gradient 0\n",
      "final function value 410.905\n",
      "\n",
      "F = 410.905\n",
      "final  value 410.905063 \n",
      "converged\n"
     ]
    }
   ],
   "source": [
    "run  <- mbo( fun=      obj.fun, \n",
    "             learner= fproxy, \n",
    "             control= ctrl )"
   ]
  },
  {
   "cell_type": "code",
   "execution_count": 41,
   "metadata": {
    "tags": [],
    "vscode": {
     "languageId": "r"
    }
   },
   "outputs": [],
   "source": [
    "tb_resultados  <- as.data.table( run$opt.path )"
   ]
  },
  {
   "cell_type": "code",
   "execution_count": 42,
   "metadata": {
    "tags": [],
    "vscode": {
     "languageId": "r"
    }
   },
   "outputs": [
    {
     "data": {
      "text/html": [
       "<table class=\"dataframe\">\n",
       "<caption>A data.table: 29 × 13</caption>\n",
       "<thead>\n",
       "\t<tr><th scope=col>x</th><th scope=col>y</th><th scope=col>dob</th><th scope=col>eol</th><th scope=col>error.message</th><th scope=col>exec.time</th><th scope=col>ei</th><th scope=col>error.model</th><th scope=col>train.time</th><th scope=col>prop.type</th><th scope=col>propose.time</th><th scope=col>se</th><th scope=col>mean</th></tr>\n",
       "\t<tr><th scope=col>&lt;dbl&gt;</th><th scope=col>&lt;dbl&gt;</th><th scope=col>&lt;int&gt;</th><th scope=col>&lt;int&gt;</th><th scope=col>&lt;chr&gt;</th><th scope=col>&lt;dbl&gt;</th><th scope=col>&lt;dbl&gt;</th><th scope=col>&lt;chr&gt;</th><th scope=col>&lt;dbl&gt;</th><th scope=col>&lt;chr&gt;</th><th scope=col>&lt;dbl&gt;</th><th scope=col>&lt;dbl&gt;</th><th scope=col>&lt;dbl&gt;</th></tr>\n",
       "</thead>\n",
       "<tbody>\n",
       "\t<tr><td> 20.5796895</td><td>-2.532675e+04</td><td> 0</td><td>NA</td><td>NA</td><td>0</td><td>           NA</td><td>NA</td><td>  NA</td><td>initdesign</td><td>  NA</td><td>         NA</td><td>          NA</td></tr>\n",
       "\t<tr><td>-62.8387070</td><td>-3.750879e+07</td><td> 0</td><td>NA</td><td>NA</td><td>0</td><td>           NA</td><td>NA</td><td>  NA</td><td>initdesign</td><td>  NA</td><td>         NA</td><td>          NA</td></tr>\n",
       "\t<tr><td> 97.3840076</td><td>-1.476229e+08</td><td> 0</td><td>NA</td><td>NA</td><td>0</td><td>           NA</td><td>NA</td><td>  NA</td><td>initdesign</td><td>  NA</td><td>         NA</td><td>          NA</td></tr>\n",
       "\t<tr><td>-17.0860793</td><td>-1.426717e+05</td><td> 0</td><td>NA</td><td>NA</td><td>0</td><td>           NA</td><td>NA</td><td>  NA</td><td>initdesign</td><td>  NA</td><td>         NA</td><td>          NA</td></tr>\n",
       "\t<tr><td>  2.9533243</td><td> 9.670653e+01</td><td> 1</td><td>NA</td><td>NA</td><td>0</td><td>-10669703.759</td><td>NA</td><td>0.03</td><td>infill_ei </td><td>0.22</td><td>16226092.21</td><td> 7129064.749</td></tr>\n",
       "\t<tr><td> 13.0306586</td><td> 1.879904e+04</td><td> 2</td><td>NA</td><td>NA</td><td>0</td><td> -2245823.851</td><td>NA</td><td>0.02</td><td>infill_ei </td><td>0.09</td><td> 3653495.42</td><td> 1373191.747</td></tr>\n",
       "\t<tr><td> -8.1840381</td><td> 4.446445e+04</td><td> 3</td><td>NA</td><td>NA</td><td>0</td><td> -1591644.194</td><td>NA</td><td>0.00</td><td>infill_ei </td><td>0.10</td><td> 2910028.25</td><td>  797569.370</td></tr>\n",
       "\t<tr><td> 17.2295397</td><td> 1.558098e+04</td><td> 4</td><td>NA</td><td>NA</td><td>0</td><td>  -376909.899</td><td>NA</td><td>0.00</td><td>infill_ei </td><td>0.10</td><td>  624137.64</td><td>  268540.918</td></tr>\n",
       "\t<tr><td>-12.7675826</td><td> 4.602581e+03</td><td> 5</td><td>NA</td><td>NA</td><td>0</td><td>  -334017.867</td><td>NA</td><td>0.00</td><td>infill_ei </td><td>0.10</td><td>  683573.78</td><td>  159396.207</td></tr>\n",
       "\t<tr><td> -2.6067140</td><td> 2.419106e+04</td><td> 6</td><td>NA</td><td>NA</td><td>0</td><td>  -268914.259</td><td>NA</td><td>0.00</td><td>infill_ei </td><td>0.11</td><td>  689151.80</td><td>   32344.352</td></tr>\n",
       "\t<tr><td>  8.0352539</td><td> 2.404610e+03</td><td> 7</td><td>NA</td><td>NA</td><td>0</td><td>  -195089.760</td><td>NA</td><td>0.00</td><td>infill_ei </td><td>0.09</td><td>  520790.27</td><td>   18601.151</td></tr>\n",
       "\t<tr><td>-25.3282982</td><td>-1.000962e+06</td><td> 8</td><td>NA</td><td>NA</td><td>0</td><td>   -93701.875</td><td>NA</td><td>0.01</td><td>infill_ei </td><td>0.10</td><td> 2041010.40</td><td>-2600831.271</td></tr>\n",
       "\t<tr><td> -5.4538393</td><td> 3.885620e+04</td><td> 9</td><td>NA</td><td>NA</td><td>0</td><td>   -81563.661</td><td>NA</td><td>0.00</td><td>infill_ei </td><td>0.11</td><td>  212983.43</td><td>   37566.459</td></tr>\n",
       "\t<tr><td>  0.1580479</td><td> 9.641490e+03</td><td>10</td><td>NA</td><td>NA</td><td>0</td><td>   -60817.338</td><td>NA</td><td>0.02</td><td>infill_ei </td><td>0.11</td><td>  192417.50</td><td>   10135.244</td></tr>\n",
       "\t<tr><td>-10.3941746</td><td> 3.569081e+04</td><td>11</td><td>NA</td><td>NA</td><td>0</td><td>   -53635.420</td><td>NA</td><td>0.01</td><td>infill_ei </td><td>0.11</td><td>  141109.45</td><td>   39063.786</td></tr>\n",
       "\t<tr><td> 10.6065451</td><td> 1.087131e+04</td><td>12</td><td>NA</td><td>NA</td><td>0</td><td>   -50613.734</td><td>NA</td><td>0.02</td><td>infill_ei </td><td>0.11</td><td>  159678.81</td><td>   16311.574</td></tr>\n",
       "\t<tr><td> 18.9839804</td><td> 1.962911e+02</td><td>13</td><td>NA</td><td>NA</td><td>0</td><td>   -39606.609</td><td>NA</td><td>0.01</td><td>infill_ei </td><td>0.11</td><td>  101006.73</td><td>   43078.369</td></tr>\n",
       "\t<tr><td>  5.4957754</td><td>-1.875385e+03</td><td>14</td><td>NA</td><td>NA</td><td>0</td><td>   -36470.834</td><td>NA</td><td>0.02</td><td>infill_ei </td><td>0.12</td><td>  141923.20</td><td>   -1794.755</td></tr>\n",
       "\t<tr><td> 15.1081327</td><td> 2.147920e+04</td><td>15</td><td>NA</td><td>NA</td><td>0</td><td>   -31488.297</td><td>NA</td><td>0.00</td><td>infill_ei </td><td>0.12</td><td>  102551.78</td><td>   23991.419</td></tr>\n",
       "\t<tr><td> -6.8441654</td><td> 4.336358e+04</td><td>16</td><td>NA</td><td>NA</td><td>0</td><td>   -22603.901</td><td>NA</td><td>0.02</td><td>infill_ei </td><td>0.12</td><td>   57878.45</td><td>   43485.323</td></tr>\n",
       "\t<tr><td>-20.5124266</td><td>-3.840345e+05</td><td>17</td><td>NA</td><td>NA</td><td>0</td><td>   -19136.157</td><td>NA</td><td>0.00</td><td>infill_ei </td><td>0.13</td><td>  292396.94</td><td> -284144.666</td></tr>\n",
       "\t<tr><td> -4.0731520</td><td> 3.226408e+04</td><td>18</td><td>NA</td><td>NA</td><td>0</td><td>   -16716.619</td><td>NA</td><td>0.00</td><td>infill_ei </td><td>0.16</td><td>   55856.14</td><td>   32273.673</td></tr>\n",
       "\t<tr><td> -9.2587381</td><td> 4.214378e+04</td><td>19</td><td>NA</td><td>NA</td><td>0</td><td>   -14244.910</td><td>NA</td><td>0.02</td><td>infill_ei </td><td>0.12</td><td>   38461.48</td><td>   42213.928</td></tr>\n",
       "\t<tr><td>-14.5335191</td><td>-3.883134e+04</td><td>20</td><td>NA</td><td>NA</td><td>0</td><td>   -10301.718</td><td>NA</td><td>0.00</td><td>infill_ei </td><td>0.14</td><td>   94698.37</td><td>  -36600.355</td></tr>\n",
       "\t<tr><td> -1.2632874</td><td> 1.675652e+04</td><td>21</td><td>NA</td><td>NA</td><td>0</td><td>    -9245.857</td><td>NA</td><td>0.00</td><td>infill_ei </td><td>0.14</td><td>   50476.26</td><td>   16765.976</td></tr>\n",
       "\t<tr><td> 24.5106500</td><td>-1.557196e+05</td><td>22</td><td>NA</td><td>NA</td><td>0</td><td>    -7917.077</td><td>NA</td><td>0.02</td><td>infill_ei </td><td>0.14</td><td>  530962.15</td><td> -902057.636</td></tr>\n",
       "\t<tr><td> 22.5487518</td><td>-7.669102e+04</td><td>23</td><td>NA</td><td>NA</td><td>0</td><td>   -12405.798</td><td>NA</td><td>0.02</td><td>infill_ei </td><td>0.12</td><td>   94427.41</td><td>  -26267.707</td></tr>\n",
       "\t<tr><td>-11.4358338</td><td> 2.533977e+04</td><td>24</td><td>NA</td><td>NA</td><td>0</td><td>    -7356.856</td><td>NA</td><td>0.01</td><td>infill_ei </td><td>0.14</td><td>   37593.63</td><td>   25410.470</td></tr>\n",
       "\t<tr><td> -7.5202520</td><td> 4.439852e+04</td><td>25</td><td>NA</td><td>NA</td><td>0</td><td>    -6810.722</td><td>NA</td><td>0.00</td><td>infill_ei </td><td>0.15</td><td>   17153.64</td><td>   44399.171</td></tr>\n",
       "</tbody>\n",
       "</table>\n"
      ],
      "text/latex": [
       "A data.table: 29 × 13\n",
       "\\begin{tabular}{lllllllllllll}\n",
       " x & y & dob & eol & error.message & exec.time & ei & error.model & train.time & prop.type & propose.time & se & mean\\\\\n",
       " <dbl> & <dbl> & <int> & <int> & <chr> & <dbl> & <dbl> & <chr> & <dbl> & <chr> & <dbl> & <dbl> & <dbl>\\\\\n",
       "\\hline\n",
       "\t  20.5796895 & -2.532675e+04 &  0 & NA & NA & 0 &            NA & NA &   NA & initdesign &   NA &          NA &           NA\\\\\n",
       "\t -62.8387070 & -3.750879e+07 &  0 & NA & NA & 0 &            NA & NA &   NA & initdesign &   NA &          NA &           NA\\\\\n",
       "\t  97.3840076 & -1.476229e+08 &  0 & NA & NA & 0 &            NA & NA &   NA & initdesign &   NA &          NA &           NA\\\\\n",
       "\t -17.0860793 & -1.426717e+05 &  0 & NA & NA & 0 &            NA & NA &   NA & initdesign &   NA &          NA &           NA\\\\\n",
       "\t   2.9533243 &  9.670653e+01 &  1 & NA & NA & 0 & -10669703.759 & NA & 0.03 & infill\\_ei  & 0.22 & 16226092.21 &  7129064.749\\\\\n",
       "\t  13.0306586 &  1.879904e+04 &  2 & NA & NA & 0 &  -2245823.851 & NA & 0.02 & infill\\_ei  & 0.09 &  3653495.42 &  1373191.747\\\\\n",
       "\t  -8.1840381 &  4.446445e+04 &  3 & NA & NA & 0 &  -1591644.194 & NA & 0.00 & infill\\_ei  & 0.10 &  2910028.25 &   797569.370\\\\\n",
       "\t  17.2295397 &  1.558098e+04 &  4 & NA & NA & 0 &   -376909.899 & NA & 0.00 & infill\\_ei  & 0.10 &   624137.64 &   268540.918\\\\\n",
       "\t -12.7675826 &  4.602581e+03 &  5 & NA & NA & 0 &   -334017.867 & NA & 0.00 & infill\\_ei  & 0.10 &   683573.78 &   159396.207\\\\\n",
       "\t  -2.6067140 &  2.419106e+04 &  6 & NA & NA & 0 &   -268914.259 & NA & 0.00 & infill\\_ei  & 0.11 &   689151.80 &    32344.352\\\\\n",
       "\t   8.0352539 &  2.404610e+03 &  7 & NA & NA & 0 &   -195089.760 & NA & 0.00 & infill\\_ei  & 0.09 &   520790.27 &    18601.151\\\\\n",
       "\t -25.3282982 & -1.000962e+06 &  8 & NA & NA & 0 &    -93701.875 & NA & 0.01 & infill\\_ei  & 0.10 &  2041010.40 & -2600831.271\\\\\n",
       "\t  -5.4538393 &  3.885620e+04 &  9 & NA & NA & 0 &    -81563.661 & NA & 0.00 & infill\\_ei  & 0.11 &   212983.43 &    37566.459\\\\\n",
       "\t   0.1580479 &  9.641490e+03 & 10 & NA & NA & 0 &    -60817.338 & NA & 0.02 & infill\\_ei  & 0.11 &   192417.50 &    10135.244\\\\\n",
       "\t -10.3941746 &  3.569081e+04 & 11 & NA & NA & 0 &    -53635.420 & NA & 0.01 & infill\\_ei  & 0.11 &   141109.45 &    39063.786\\\\\n",
       "\t  10.6065451 &  1.087131e+04 & 12 & NA & NA & 0 &    -50613.734 & NA & 0.02 & infill\\_ei  & 0.11 &   159678.81 &    16311.574\\\\\n",
       "\t  18.9839804 &  1.962911e+02 & 13 & NA & NA & 0 &    -39606.609 & NA & 0.01 & infill\\_ei  & 0.11 &   101006.73 &    43078.369\\\\\n",
       "\t   5.4957754 & -1.875385e+03 & 14 & NA & NA & 0 &    -36470.834 & NA & 0.02 & infill\\_ei  & 0.12 &   141923.20 &    -1794.755\\\\\n",
       "\t  15.1081327 &  2.147920e+04 & 15 & NA & NA & 0 &    -31488.297 & NA & 0.00 & infill\\_ei  & 0.12 &   102551.78 &    23991.419\\\\\n",
       "\t  -6.8441654 &  4.336358e+04 & 16 & NA & NA & 0 &    -22603.901 & NA & 0.02 & infill\\_ei  & 0.12 &    57878.45 &    43485.323\\\\\n",
       "\t -20.5124266 & -3.840345e+05 & 17 & NA & NA & 0 &    -19136.157 & NA & 0.00 & infill\\_ei  & 0.13 &   292396.94 &  -284144.666\\\\\n",
       "\t  -4.0731520 &  3.226408e+04 & 18 & NA & NA & 0 &    -16716.619 & NA & 0.00 & infill\\_ei  & 0.16 &    55856.14 &    32273.673\\\\\n",
       "\t  -9.2587381 &  4.214378e+04 & 19 & NA & NA & 0 &    -14244.910 & NA & 0.02 & infill\\_ei  & 0.12 &    38461.48 &    42213.928\\\\\n",
       "\t -14.5335191 & -3.883134e+04 & 20 & NA & NA & 0 &    -10301.718 & NA & 0.00 & infill\\_ei  & 0.14 &    94698.37 &   -36600.355\\\\\n",
       "\t  -1.2632874 &  1.675652e+04 & 21 & NA & NA & 0 &     -9245.857 & NA & 0.00 & infill\\_ei  & 0.14 &    50476.26 &    16765.976\\\\\n",
       "\t  24.5106500 & -1.557196e+05 & 22 & NA & NA & 0 &     -7917.077 & NA & 0.02 & infill\\_ei  & 0.14 &   530962.15 &  -902057.636\\\\\n",
       "\t  22.5487518 & -7.669102e+04 & 23 & NA & NA & 0 &    -12405.798 & NA & 0.02 & infill\\_ei  & 0.12 &    94427.41 &   -26267.707\\\\\n",
       "\t -11.4358338 &  2.533977e+04 & 24 & NA & NA & 0 &     -7356.856 & NA & 0.01 & infill\\_ei  & 0.14 &    37593.63 &    25410.470\\\\\n",
       "\t  -7.5202520 &  4.439852e+04 & 25 & NA & NA & 0 &     -6810.722 & NA & 0.00 & infill\\_ei  & 0.15 &    17153.64 &    44399.171\\\\\n",
       "\\end{tabular}\n"
      ],
      "text/markdown": [
       "\n",
       "A data.table: 29 × 13\n",
       "\n",
       "| x &lt;dbl&gt; | y &lt;dbl&gt; | dob &lt;int&gt; | eol &lt;int&gt; | error.message &lt;chr&gt; | exec.time &lt;dbl&gt; | ei &lt;dbl&gt; | error.model &lt;chr&gt; | train.time &lt;dbl&gt; | prop.type &lt;chr&gt; | propose.time &lt;dbl&gt; | se &lt;dbl&gt; | mean &lt;dbl&gt; |\n",
       "|---|---|---|---|---|---|---|---|---|---|---|---|---|\n",
       "|  20.5796895 | -2.532675e+04 |  0 | NA | NA | 0 |            NA | NA |   NA | initdesign |   NA |          NA |           NA |\n",
       "| -62.8387070 | -3.750879e+07 |  0 | NA | NA | 0 |            NA | NA |   NA | initdesign |   NA |          NA |           NA |\n",
       "|  97.3840076 | -1.476229e+08 |  0 | NA | NA | 0 |            NA | NA |   NA | initdesign |   NA |          NA |           NA |\n",
       "| -17.0860793 | -1.426717e+05 |  0 | NA | NA | 0 |            NA | NA |   NA | initdesign |   NA |          NA |           NA |\n",
       "|   2.9533243 |  9.670653e+01 |  1 | NA | NA | 0 | -10669703.759 | NA | 0.03 | infill_ei  | 0.22 | 16226092.21 |  7129064.749 |\n",
       "|  13.0306586 |  1.879904e+04 |  2 | NA | NA | 0 |  -2245823.851 | NA | 0.02 | infill_ei  | 0.09 |  3653495.42 |  1373191.747 |\n",
       "|  -8.1840381 |  4.446445e+04 |  3 | NA | NA | 0 |  -1591644.194 | NA | 0.00 | infill_ei  | 0.10 |  2910028.25 |   797569.370 |\n",
       "|  17.2295397 |  1.558098e+04 |  4 | NA | NA | 0 |   -376909.899 | NA | 0.00 | infill_ei  | 0.10 |   624137.64 |   268540.918 |\n",
       "| -12.7675826 |  4.602581e+03 |  5 | NA | NA | 0 |   -334017.867 | NA | 0.00 | infill_ei  | 0.10 |   683573.78 |   159396.207 |\n",
       "|  -2.6067140 |  2.419106e+04 |  6 | NA | NA | 0 |   -268914.259 | NA | 0.00 | infill_ei  | 0.11 |   689151.80 |    32344.352 |\n",
       "|   8.0352539 |  2.404610e+03 |  7 | NA | NA | 0 |   -195089.760 | NA | 0.00 | infill_ei  | 0.09 |   520790.27 |    18601.151 |\n",
       "| -25.3282982 | -1.000962e+06 |  8 | NA | NA | 0 |    -93701.875 | NA | 0.01 | infill_ei  | 0.10 |  2041010.40 | -2600831.271 |\n",
       "|  -5.4538393 |  3.885620e+04 |  9 | NA | NA | 0 |    -81563.661 | NA | 0.00 | infill_ei  | 0.11 |   212983.43 |    37566.459 |\n",
       "|   0.1580479 |  9.641490e+03 | 10 | NA | NA | 0 |    -60817.338 | NA | 0.02 | infill_ei  | 0.11 |   192417.50 |    10135.244 |\n",
       "| -10.3941746 |  3.569081e+04 | 11 | NA | NA | 0 |    -53635.420 | NA | 0.01 | infill_ei  | 0.11 |   141109.45 |    39063.786 |\n",
       "|  10.6065451 |  1.087131e+04 | 12 | NA | NA | 0 |    -50613.734 | NA | 0.02 | infill_ei  | 0.11 |   159678.81 |    16311.574 |\n",
       "|  18.9839804 |  1.962911e+02 | 13 | NA | NA | 0 |    -39606.609 | NA | 0.01 | infill_ei  | 0.11 |   101006.73 |    43078.369 |\n",
       "|   5.4957754 | -1.875385e+03 | 14 | NA | NA | 0 |    -36470.834 | NA | 0.02 | infill_ei  | 0.12 |   141923.20 |    -1794.755 |\n",
       "|  15.1081327 |  2.147920e+04 | 15 | NA | NA | 0 |    -31488.297 | NA | 0.00 | infill_ei  | 0.12 |   102551.78 |    23991.419 |\n",
       "|  -6.8441654 |  4.336358e+04 | 16 | NA | NA | 0 |    -22603.901 | NA | 0.02 | infill_ei  | 0.12 |    57878.45 |    43485.323 |\n",
       "| -20.5124266 | -3.840345e+05 | 17 | NA | NA | 0 |    -19136.157 | NA | 0.00 | infill_ei  | 0.13 |   292396.94 |  -284144.666 |\n",
       "|  -4.0731520 |  3.226408e+04 | 18 | NA | NA | 0 |    -16716.619 | NA | 0.00 | infill_ei  | 0.16 |    55856.14 |    32273.673 |\n",
       "|  -9.2587381 |  4.214378e+04 | 19 | NA | NA | 0 |    -14244.910 | NA | 0.02 | infill_ei  | 0.12 |    38461.48 |    42213.928 |\n",
       "| -14.5335191 | -3.883134e+04 | 20 | NA | NA | 0 |    -10301.718 | NA | 0.00 | infill_ei  | 0.14 |    94698.37 |   -36600.355 |\n",
       "|  -1.2632874 |  1.675652e+04 | 21 | NA | NA | 0 |     -9245.857 | NA | 0.00 | infill_ei  | 0.14 |    50476.26 |    16765.976 |\n",
       "|  24.5106500 | -1.557196e+05 | 22 | NA | NA | 0 |     -7917.077 | NA | 0.02 | infill_ei  | 0.14 |   530962.15 |  -902057.636 |\n",
       "|  22.5487518 | -7.669102e+04 | 23 | NA | NA | 0 |    -12405.798 | NA | 0.02 | infill_ei  | 0.12 |    94427.41 |   -26267.707 |\n",
       "| -11.4358338 |  2.533977e+04 | 24 | NA | NA | 0 |     -7356.856 | NA | 0.01 | infill_ei  | 0.14 |    37593.63 |    25410.470 |\n",
       "|  -7.5202520 |  4.439852e+04 | 25 | NA | NA | 0 |     -6810.722 | NA | 0.00 | infill_ei  | 0.15 |    17153.64 |    44399.171 |\n",
       "\n"
      ],
      "text/plain": [
       "   x           y             dob eol error.message exec.time ei           \n",
       "1   20.5796895 -2.532675e+04  0  NA  NA            0                    NA\n",
       "2  -62.8387070 -3.750879e+07  0  NA  NA            0                    NA\n",
       "3   97.3840076 -1.476229e+08  0  NA  NA            0                    NA\n",
       "4  -17.0860793 -1.426717e+05  0  NA  NA            0                    NA\n",
       "5    2.9533243  9.670653e+01  1  NA  NA            0         -10669703.759\n",
       "6   13.0306586  1.879904e+04  2  NA  NA            0          -2245823.851\n",
       "7   -8.1840381  4.446445e+04  3  NA  NA            0          -1591644.194\n",
       "8   17.2295397  1.558098e+04  4  NA  NA            0           -376909.899\n",
       "9  -12.7675826  4.602581e+03  5  NA  NA            0           -334017.867\n",
       "10  -2.6067140  2.419106e+04  6  NA  NA            0           -268914.259\n",
       "11   8.0352539  2.404610e+03  7  NA  NA            0           -195089.760\n",
       "12 -25.3282982 -1.000962e+06  8  NA  NA            0            -93701.875\n",
       "13  -5.4538393  3.885620e+04  9  NA  NA            0            -81563.661\n",
       "14   0.1580479  9.641490e+03 10  NA  NA            0            -60817.338\n",
       "15 -10.3941746  3.569081e+04 11  NA  NA            0            -53635.420\n",
       "16  10.6065451  1.087131e+04 12  NA  NA            0            -50613.734\n",
       "17  18.9839804  1.962911e+02 13  NA  NA            0            -39606.609\n",
       "18   5.4957754 -1.875385e+03 14  NA  NA            0            -36470.834\n",
       "19  15.1081327  2.147920e+04 15  NA  NA            0            -31488.297\n",
       "20  -6.8441654  4.336358e+04 16  NA  NA            0            -22603.901\n",
       "21 -20.5124266 -3.840345e+05 17  NA  NA            0            -19136.157\n",
       "22  -4.0731520  3.226408e+04 18  NA  NA            0            -16716.619\n",
       "23  -9.2587381  4.214378e+04 19  NA  NA            0            -14244.910\n",
       "24 -14.5335191 -3.883134e+04 20  NA  NA            0            -10301.718\n",
       "25  -1.2632874  1.675652e+04 21  NA  NA            0             -9245.857\n",
       "26  24.5106500 -1.557196e+05 22  NA  NA            0             -7917.077\n",
       "27  22.5487518 -7.669102e+04 23  NA  NA            0            -12405.798\n",
       "28 -11.4358338  2.533977e+04 24  NA  NA            0             -7356.856\n",
       "29  -7.5202520  4.439852e+04 25  NA  NA            0             -6810.722\n",
       "   error.model train.time prop.type  propose.time se          mean        \n",
       "1  NA            NA       initdesign   NA                  NA           NA\n",
       "2  NA            NA       initdesign   NA                  NA           NA\n",
       "3  NA            NA       initdesign   NA                  NA           NA\n",
       "4  NA            NA       initdesign   NA                  NA           NA\n",
       "5  NA          0.03       infill_ei  0.22         16226092.21  7129064.749\n",
       "6  NA          0.02       infill_ei  0.09          3653495.42  1373191.747\n",
       "7  NA          0.00       infill_ei  0.10          2910028.25   797569.370\n",
       "8  NA          0.00       infill_ei  0.10           624137.64   268540.918\n",
       "9  NA          0.00       infill_ei  0.10           683573.78   159396.207\n",
       "10 NA          0.00       infill_ei  0.11           689151.80    32344.352\n",
       "11 NA          0.00       infill_ei  0.09           520790.27    18601.151\n",
       "12 NA          0.01       infill_ei  0.10          2041010.40 -2600831.271\n",
       "13 NA          0.00       infill_ei  0.11           212983.43    37566.459\n",
       "14 NA          0.02       infill_ei  0.11           192417.50    10135.244\n",
       "15 NA          0.01       infill_ei  0.11           141109.45    39063.786\n",
       "16 NA          0.02       infill_ei  0.11           159678.81    16311.574\n",
       "17 NA          0.01       infill_ei  0.11           101006.73    43078.369\n",
       "18 NA          0.02       infill_ei  0.12           141923.20    -1794.755\n",
       "19 NA          0.00       infill_ei  0.12           102551.78    23991.419\n",
       "20 NA          0.02       infill_ei  0.12            57878.45    43485.323\n",
       "21 NA          0.00       infill_ei  0.13           292396.94  -284144.666\n",
       "22 NA          0.00       infill_ei  0.16            55856.14    32273.673\n",
       "23 NA          0.02       infill_ei  0.12            38461.48    42213.928\n",
       "24 NA          0.00       infill_ei  0.14            94698.37   -36600.355\n",
       "25 NA          0.00       infill_ei  0.14            50476.26    16765.976\n",
       "26 NA          0.02       infill_ei  0.14           530962.15  -902057.636\n",
       "27 NA          0.02       infill_ei  0.12            94427.41   -26267.707\n",
       "28 NA          0.01       infill_ei  0.14            37593.63    25410.470\n",
       "29 NA          0.00       infill_ei  0.15            17153.64    44399.171"
      ]
     },
     "metadata": {},
     "output_type": "display_data"
    }
   ],
   "source": [
    "tb_resultados"
   ]
  },
  {
   "cell_type": "code",
   "execution_count": 43,
   "metadata": {
    "tags": [],
    "vscode": {
     "languageId": "r"
    }
   },
   "outputs": [
    {
     "data": {
      "text/html": [
       "<table class=\"dataframe\">\n",
       "<caption>A data.table: 1 × 13</caption>\n",
       "<thead>\n",
       "\t<tr><th scope=col>x</th><th scope=col>y</th><th scope=col>dob</th><th scope=col>eol</th><th scope=col>error.message</th><th scope=col>exec.time</th><th scope=col>ei</th><th scope=col>error.model</th><th scope=col>train.time</th><th scope=col>prop.type</th><th scope=col>propose.time</th><th scope=col>se</th><th scope=col>mean</th></tr>\n",
       "\t<tr><th scope=col>&lt;dbl&gt;</th><th scope=col>&lt;dbl&gt;</th><th scope=col>&lt;int&gt;</th><th scope=col>&lt;int&gt;</th><th scope=col>&lt;chr&gt;</th><th scope=col>&lt;dbl&gt;</th><th scope=col>&lt;dbl&gt;</th><th scope=col>&lt;chr&gt;</th><th scope=col>&lt;dbl&gt;</th><th scope=col>&lt;chr&gt;</th><th scope=col>&lt;dbl&gt;</th><th scope=col>&lt;dbl&gt;</th><th scope=col>&lt;dbl&gt;</th></tr>\n",
       "</thead>\n",
       "<tbody>\n",
       "\t<tr><td>-8.184038</td><td>44464.45</td><td>3</td><td>NA</td><td>NA</td><td>0</td><td>-1591644</td><td>NA</td><td>0</td><td>infill_ei</td><td>0.1</td><td>2910028</td><td>797569.4</td></tr>\n",
       "</tbody>\n",
       "</table>\n"
      ],
      "text/latex": [
       "A data.table: 1 × 13\n",
       "\\begin{tabular}{lllllllllllll}\n",
       " x & y & dob & eol & error.message & exec.time & ei & error.model & train.time & prop.type & propose.time & se & mean\\\\\n",
       " <dbl> & <dbl> & <int> & <int> & <chr> & <dbl> & <dbl> & <chr> & <dbl> & <chr> & <dbl> & <dbl> & <dbl>\\\\\n",
       "\\hline\n",
       "\t -8.184038 & 44464.45 & 3 & NA & NA & 0 & -1591644 & NA & 0 & infill\\_ei & 0.1 & 2910028 & 797569.4\\\\\n",
       "\\end{tabular}\n"
      ],
      "text/markdown": [
       "\n",
       "A data.table: 1 × 13\n",
       "\n",
       "| x &lt;dbl&gt; | y &lt;dbl&gt; | dob &lt;int&gt; | eol &lt;int&gt; | error.message &lt;chr&gt; | exec.time &lt;dbl&gt; | ei &lt;dbl&gt; | error.model &lt;chr&gt; | train.time &lt;dbl&gt; | prop.type &lt;chr&gt; | propose.time &lt;dbl&gt; | se &lt;dbl&gt; | mean &lt;dbl&gt; |\n",
       "|---|---|---|---|---|---|---|---|---|---|---|---|---|\n",
       "| -8.184038 | 44464.45 | 3 | NA | NA | 0 | -1591644 | NA | 0 | infill_ei | 0.1 | 2910028 | 797569.4 |\n",
       "\n"
      ],
      "text/plain": [
       "  x         y        dob eol error.message exec.time ei       error.model\n",
       "1 -8.184038 44464.45 3   NA  NA            0         -1591644 NA         \n",
       "  train.time prop.type propose.time se      mean    \n",
       "1 0          infill_ei 0.1          2910028 797569.4"
      ]
     },
     "metadata": {},
     "output_type": "display_data"
    }
   ],
   "source": [
    "tb_resultados[ which.max( tb_resultados$y ) ]"
   ]
  },
  {
   "cell_type": "markdown",
   "metadata": {},
   "source": [
    "### Conclusiones"
   ]
  },
  {
   "cell_type": "markdown",
   "metadata": {},
   "source": [
    "La gran pregunta es :  la Optimización Bayesiana, ¿se focaliza luego de muchas iteraciones solo en el entorno del máximo que está cerca de x= -8 ?"
   ]
  }
 ],
 "metadata": {
  "kernelspec": {
   "display_name": "R",
   "language": "R",
   "name": "ir"
  },
  "language_info": {
   "codemirror_mode": "r",
   "file_extension": ".r",
   "mimetype": "text/x-r-source",
   "name": "R",
   "pygments_lexer": "r",
   "version": "4.2.3"
  }
 },
 "nbformat": 4,
 "nbformat_minor": 4
}
